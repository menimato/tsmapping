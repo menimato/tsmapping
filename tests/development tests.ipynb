{
 "cells": [
  {
   "cell_type": "code",
   "execution_count": 1,
   "id": "91dc11a1-9735-4c39-9ed5-883a59d26e7d",
   "metadata": {},
   "outputs": [],
   "source": [
    "# import sys\n",
    "# sys.path.insert(1, '../..')\n",
    "\n",
    "# import tsmapping\n",
    "\n",
    "# from tsmapping.cube import download_images_gcloud\n",
    "\n",
    "# tsmapping.cube.download_images_BDC(access_token='nZ97OpESX5DTWuFhkh3aZ3o4g4vBGocxz7Gzju3twv',\n",
    "#                                    start_date='2018-06-01',\n",
    "#                                    save_folder='/home/bruno/Área de Trabalho/tests_library/BDC_Sentinel',\n",
    "#                                    end_date='2018-07-17',\n",
    "#                                    # grid_images=['23LLG'],\n",
    "#                                    wkt = 'POLYGON((-39.48373013372596 -7.041550186408128,-39.20357876653846 -7.041550186408128,-39.20083218450721 -8.37246548856633,-40.83504849310096 -8.380617333542247,-40.82680874700721 -8.116955370771723,-39.52767544622596 -8.114236295023925,-39.48373013372596 -7.041550186408128))',\n",
    "#                                    collection='S2_L2A-1',\n",
    "#                                    bands=['B08'])"
   ]
  },
  {
   "cell_type": "code",
   "execution_count": 2,
   "id": "0af00a4e-1707-4c9e-8186-dca3ed75f7b5",
   "metadata": {},
   "outputs": [],
   "source": [
    "# import sys\n",
    "# sys.path.insert(1, '../..')\n",
    "\n",
    "# import tsmapping"
   ]
  },
  {
   "cell_type": "code",
   "execution_count": 3,
   "id": "0d939182",
   "metadata": {},
   "outputs": [],
   "source": [
    "# from tsmapping.cube import download_images_gcloud"
   ]
  },
  {
   "cell_type": "code",
   "execution_count": null,
   "id": "515f892c",
   "metadata": {},
   "outputs": [],
   "source": []
  },
  {
   "cell_type": "code",
   "execution_count": 4,
   "id": "96b36a45-fa32-4dab-a729-0d76ce4d457f",
   "metadata": {},
   "outputs": [],
   "source": [
    "# tsmapping.cube.create_cubes_BDCLandsat(save_folder = '/home/bruno/Área de Trabalho/tests_library/cubos_landsat_barra_da_estiva',\n",
    "#                                        bands = ['sr_band2', 'sr_band3', 'sr_band4', 'sr_band5', 'sr_band6', 'sr_band7'],\n",
    "#                                        access_token = 'nZ97OpESX5DTWuFhkh3aZ3o4g4vBGocxz7Gzju3twv',\n",
    "#                                        start_date = '2019-06-01',\n",
    "#                                        end_date = '2020-07-01',\n",
    "#                                        delete_auxiliary=True,\n",
    "#                                        paths_rows = [[217, 69],\n",
    "#                                                      [217, 70]],\n",
    "#                                        proj4 = '\"+proj=aea +lat_0=-12 +lon_0=-54 +lat_1=-2 +lat_2=-22 +x_0=5000000 +y_0=10000000 +ellps=GRS80 +units=m +no_defs +type=crs\"', \n",
    "#                                        clip_shapefile_path = '/home/bruno/Documentos/Caatinga/barra_da_estiva_buffer.shp')"
   ]
  },
  {
   "cell_type": "code",
   "execution_count": 5,
   "id": "46859cf3-d1f3-42eb-bf46-16084d197bc3",
   "metadata": {},
   "outputs": [],
   "source": [
    "# tsmapping.cube.update_metadata(save_folder='/home/bruno/Documentos/Caatinga/metadata', metadata='Landsat')"
   ]
  },
  {
   "cell_type": "code",
   "execution_count": 6,
   "id": "4b651c7b",
   "metadata": {},
   "outputs": [
    {
     "name": "stdout",
     "output_type": "stream",
     "text": [
      "- Download Images from BDC -\n",
      "    Name                                           geometry\n",
      "0  01CCV  POLYGON Z ((180.00000 -73.05974 0.00000, 176.8...\n",
      "1  01CCV  POLYGON Z ((-180.00000 -72.07333 0.00000, -179...\n",
      "2  01CDH  POLYGON Z ((180.00000 -83.80855 0.00000, 174.7...\n",
      "3  01CDH  POLYGON Z ((-180.00000 -82.82590 0.00000, -176...\n",
      "4  01CDJ  POLYGON Z ((180.00000 -82.91344 0.00000, 175.7...\n",
      "Downloading...\n",
      "Path:1\n",
      "----------\n"
     ]
    },
    {
     "ename": "KeyError",
     "evalue": "'NAME'",
     "output_type": "error",
     "traceback": [
      "\u001b[0;31m---------------------------------------------------------------------------\u001b[0m",
      "\u001b[0;31mKeyError\u001b[0m                                  Traceback (most recent call last)",
      "\u001b[0;32m~/anaconda3/envs/rsgis/lib/python3.7/site-packages/pandas/core/indexes/base.py\u001b[0m in \u001b[0;36mget_loc\u001b[0;34m(self, key, method, tolerance)\u001b[0m\n\u001b[1;32m   2894\u001b[0m             \u001b[0;32mtry\u001b[0m\u001b[0;34m:\u001b[0m\u001b[0;34m\u001b[0m\u001b[0;34m\u001b[0m\u001b[0m\n\u001b[0;32m-> 2895\u001b[0;31m                 \u001b[0;32mreturn\u001b[0m \u001b[0mself\u001b[0m\u001b[0;34m.\u001b[0m\u001b[0m_engine\u001b[0m\u001b[0;34m.\u001b[0m\u001b[0mget_loc\u001b[0m\u001b[0;34m(\u001b[0m\u001b[0mcasted_key\u001b[0m\u001b[0;34m)\u001b[0m\u001b[0;34m\u001b[0m\u001b[0;34m\u001b[0m\u001b[0m\n\u001b[0m\u001b[1;32m   2896\u001b[0m             \u001b[0;32mexcept\u001b[0m \u001b[0mKeyError\u001b[0m \u001b[0;32mas\u001b[0m \u001b[0merr\u001b[0m\u001b[0;34m:\u001b[0m\u001b[0;34m\u001b[0m\u001b[0;34m\u001b[0m\u001b[0m\n",
      "\u001b[0;32mpandas/_libs/index.pyx\u001b[0m in \u001b[0;36mpandas._libs.index.IndexEngine.get_loc\u001b[0;34m()\u001b[0m\n",
      "\u001b[0;32mpandas/_libs/index.pyx\u001b[0m in \u001b[0;36mpandas._libs.index.IndexEngine.get_loc\u001b[0;34m()\u001b[0m\n",
      "\u001b[0;32mpandas/_libs/hashtable_class_helper.pxi\u001b[0m in \u001b[0;36mpandas._libs.hashtable.PyObjectHashTable.get_item\u001b[0;34m()\u001b[0m\n",
      "\u001b[0;32mpandas/_libs/hashtable_class_helper.pxi\u001b[0m in \u001b[0;36mpandas._libs.hashtable.PyObjectHashTable.get_item\u001b[0;34m()\u001b[0m\n",
      "\u001b[0;31mKeyError\u001b[0m: 'NAME'",
      "\nThe above exception was the direct cause of the following exception:\n",
      "\u001b[0;31mKeyError\u001b[0m                                  Traceback (most recent call last)",
      "\u001b[0;32m<ipython-input-6-847703f1b18c>\u001b[0m in \u001b[0;36m<module>\u001b[0;34m\u001b[0m\n\u001b[1;32m     15\u001b[0m                                  'paths': {'path 1': {'key tile': '23LMG',\n\u001b[1;32m     16\u001b[0m                                                          'tiles': ['23LLG', '23LMG', '23LLF', '23LMF', '23LLE', '23LME']}}}, \n\u001b[0;32m---> 17\u001b[0;31m                     collection='S2_L2A-1')\n\u001b[0m",
      "\u001b[0;32m~/Documentos/GitHub/tsmapping/cube.py\u001b[0m in \u001b[0;36mdownload_images_BDC\u001b[0;34m(save_folder, bands, access_token, start_date, end_date, wkt, grid_images, collection)\u001b[0m\n\u001b[1;32m    398\u001b[0m \u001b[0;34m\u001b[0m\u001b[0m\n\u001b[1;32m    399\u001b[0m                 \u001b[0;31m# getting the dates from the key tile\u001b[0m\u001b[0;34m\u001b[0m\u001b[0;34m\u001b[0m\u001b[0;34m\u001b[0m\u001b[0m\n\u001b[0;32m--> 400\u001b[0;31m                 \u001b[0mrep_point\u001b[0m \u001b[0;34m=\u001b[0m \u001b[0mdb\u001b[0m\u001b[0;34m[\u001b[0m\u001b[0mdb\u001b[0m\u001b[0;34m[\u001b[0m\u001b[0;34m'NAME'\u001b[0m\u001b[0;34m]\u001b[0m\u001b[0;34m==\u001b[0m\u001b[0mgrid_images\u001b[0m\u001b[0;34m[\u001b[0m\u001b[0;34mf'tile {path}'\u001b[0m\u001b[0;34m]\u001b[0m\u001b[0;34m[\u001b[0m\u001b[0;34m'key tile'\u001b[0m\u001b[0;34m]\u001b[0m\u001b[0;34m]\u001b[0m\u001b[0;34m.\u001b[0m\u001b[0mrepresentative_point\u001b[0m\u001b[0;34m(\u001b[0m\u001b[0;34m)\u001b[0m\u001b[0;34m\u001b[0m\u001b[0;34m\u001b[0m\u001b[0m\n\u001b[0m\u001b[1;32m    401\u001b[0m                 \u001b[0mprint\u001b[0m\u001b[0;34m(\u001b[0m\u001b[0mrep_point\u001b[0m\u001b[0;34m)\u001b[0m\u001b[0;34m\u001b[0m\u001b[0;34m\u001b[0m\u001b[0m\n\u001b[1;32m    402\u001b[0m                 key_tile_df = items = collection_.get_items(\n",
      "\u001b[0;32m~/anaconda3/envs/rsgis/lib/python3.7/site-packages/geopandas/geodataframe.py\u001b[0m in \u001b[0;36m__getitem__\u001b[0;34m(self, key)\u001b[0m\n\u001b[1;32m   1325\u001b[0m         \u001b[0mGeoDataFrame\u001b[0m\u001b[0;34m.\u001b[0m\u001b[0;34m\u001b[0m\u001b[0;34m\u001b[0m\u001b[0m\n\u001b[1;32m   1326\u001b[0m         \"\"\"\n\u001b[0;32m-> 1327\u001b[0;31m         \u001b[0mresult\u001b[0m \u001b[0;34m=\u001b[0m \u001b[0msuper\u001b[0m\u001b[0;34m(\u001b[0m\u001b[0;34m)\u001b[0m\u001b[0;34m.\u001b[0m\u001b[0m__getitem__\u001b[0m\u001b[0;34m(\u001b[0m\u001b[0mkey\u001b[0m\u001b[0;34m)\u001b[0m\u001b[0;34m\u001b[0m\u001b[0;34m\u001b[0m\u001b[0m\n\u001b[0m\u001b[1;32m   1328\u001b[0m         \u001b[0mgeo_col\u001b[0m \u001b[0;34m=\u001b[0m \u001b[0mself\u001b[0m\u001b[0;34m.\u001b[0m\u001b[0m_geometry_column_name\u001b[0m\u001b[0;34m\u001b[0m\u001b[0;34m\u001b[0m\u001b[0m\n\u001b[1;32m   1329\u001b[0m         \u001b[0;32mif\u001b[0m \u001b[0misinstance\u001b[0m\u001b[0;34m(\u001b[0m\u001b[0mresult\u001b[0m\u001b[0;34m,\u001b[0m \u001b[0mSeries\u001b[0m\u001b[0;34m)\u001b[0m \u001b[0;32mand\u001b[0m \u001b[0misinstance\u001b[0m\u001b[0;34m(\u001b[0m\u001b[0mresult\u001b[0m\u001b[0;34m.\u001b[0m\u001b[0mdtype\u001b[0m\u001b[0;34m,\u001b[0m \u001b[0mGeometryDtype\u001b[0m\u001b[0;34m)\u001b[0m\u001b[0;34m:\u001b[0m\u001b[0;34m\u001b[0m\u001b[0;34m\u001b[0m\u001b[0m\n",
      "\u001b[0;32m~/anaconda3/envs/rsgis/lib/python3.7/site-packages/pandas/core/frame.py\u001b[0m in \u001b[0;36m__getitem__\u001b[0;34m(self, key)\u001b[0m\n\u001b[1;32m   2904\u001b[0m             \u001b[0;32mif\u001b[0m \u001b[0mself\u001b[0m\u001b[0;34m.\u001b[0m\u001b[0mcolumns\u001b[0m\u001b[0;34m.\u001b[0m\u001b[0mnlevels\u001b[0m \u001b[0;34m>\u001b[0m \u001b[0;36m1\u001b[0m\u001b[0;34m:\u001b[0m\u001b[0;34m\u001b[0m\u001b[0;34m\u001b[0m\u001b[0m\n\u001b[1;32m   2905\u001b[0m                 \u001b[0;32mreturn\u001b[0m \u001b[0mself\u001b[0m\u001b[0;34m.\u001b[0m\u001b[0m_getitem_multilevel\u001b[0m\u001b[0;34m(\u001b[0m\u001b[0mkey\u001b[0m\u001b[0;34m)\u001b[0m\u001b[0;34m\u001b[0m\u001b[0;34m\u001b[0m\u001b[0m\n\u001b[0;32m-> 2906\u001b[0;31m             \u001b[0mindexer\u001b[0m \u001b[0;34m=\u001b[0m \u001b[0mself\u001b[0m\u001b[0;34m.\u001b[0m\u001b[0mcolumns\u001b[0m\u001b[0;34m.\u001b[0m\u001b[0mget_loc\u001b[0m\u001b[0;34m(\u001b[0m\u001b[0mkey\u001b[0m\u001b[0;34m)\u001b[0m\u001b[0;34m\u001b[0m\u001b[0;34m\u001b[0m\u001b[0m\n\u001b[0m\u001b[1;32m   2907\u001b[0m             \u001b[0;32mif\u001b[0m \u001b[0mis_integer\u001b[0m\u001b[0;34m(\u001b[0m\u001b[0mindexer\u001b[0m\u001b[0;34m)\u001b[0m\u001b[0;34m:\u001b[0m\u001b[0;34m\u001b[0m\u001b[0;34m\u001b[0m\u001b[0m\n\u001b[1;32m   2908\u001b[0m                 \u001b[0mindexer\u001b[0m \u001b[0;34m=\u001b[0m \u001b[0;34m[\u001b[0m\u001b[0mindexer\u001b[0m\u001b[0;34m]\u001b[0m\u001b[0;34m\u001b[0m\u001b[0;34m\u001b[0m\u001b[0m\n",
      "\u001b[0;32m~/anaconda3/envs/rsgis/lib/python3.7/site-packages/pandas/core/indexes/base.py\u001b[0m in \u001b[0;36mget_loc\u001b[0;34m(self, key, method, tolerance)\u001b[0m\n\u001b[1;32m   2895\u001b[0m                 \u001b[0;32mreturn\u001b[0m \u001b[0mself\u001b[0m\u001b[0;34m.\u001b[0m\u001b[0m_engine\u001b[0m\u001b[0;34m.\u001b[0m\u001b[0mget_loc\u001b[0m\u001b[0;34m(\u001b[0m\u001b[0mcasted_key\u001b[0m\u001b[0;34m)\u001b[0m\u001b[0;34m\u001b[0m\u001b[0;34m\u001b[0m\u001b[0m\n\u001b[1;32m   2896\u001b[0m             \u001b[0;32mexcept\u001b[0m \u001b[0mKeyError\u001b[0m \u001b[0;32mas\u001b[0m \u001b[0merr\u001b[0m\u001b[0;34m:\u001b[0m\u001b[0;34m\u001b[0m\u001b[0;34m\u001b[0m\u001b[0m\n\u001b[0;32m-> 2897\u001b[0;31m                 \u001b[0;32mraise\u001b[0m \u001b[0mKeyError\u001b[0m\u001b[0;34m(\u001b[0m\u001b[0mkey\u001b[0m\u001b[0;34m)\u001b[0m \u001b[0;32mfrom\u001b[0m \u001b[0merr\u001b[0m\u001b[0;34m\u001b[0m\u001b[0;34m\u001b[0m\u001b[0m\n\u001b[0m\u001b[1;32m   2898\u001b[0m \u001b[0;34m\u001b[0m\u001b[0m\n\u001b[1;32m   2899\u001b[0m         \u001b[0;32mif\u001b[0m \u001b[0mtolerance\u001b[0m \u001b[0;32mis\u001b[0m \u001b[0;32mnot\u001b[0m \u001b[0;32mNone\u001b[0m\u001b[0;34m:\u001b[0m\u001b[0;34m\u001b[0m\u001b[0;34m\u001b[0m\u001b[0m\n",
      "\u001b[0;31mKeyError\u001b[0m: 'NAME'"
     ]
    }
   ],
   "source": [
    "import sys\n",
    "sys.path.insert(1, '../..')\n",
    "\n",
    "import tsmapping\n",
    "\n",
    "from tsmapping.cube import download_images_BDC\n",
    "\n",
    "download_images_BDC(save_folder = '/home/bruno/Documentos/Caatinga/cubes_sentinel/Barra da Estiva', \n",
    "                    bands = ['B02'], \n",
    "                    access_token = 'nZ97OpESX5DTWuFhkh3aZ3o4g4vBGocxz7Gzju3twv', \n",
    "                    start_date = '2019-06-01', \n",
    "                    end_date = '2019-06-06', \n",
    "                    wkt=None, \n",
    "                    grid_images={'number of paths': 1,\n",
    "                                 'paths': {'path 1': {'key tile': '23LMG',\n",
    "                                                         'tiles': ['23LLG', '23LMG', '23LLF', '23LMF', '23LLE', '23LME']}}}, \n",
    "                    collection='S2_L2A-1')"
   ]
  },
  {
   "cell_type": "code",
   "execution_count": 13,
   "id": "55155979",
   "metadata": {},
   "outputs": [
    {
     "data": {
      "text/plain": [
       "'23LNF'"
      ]
     },
     "execution_count": 13,
     "metadata": {},
     "output_type": "execute_result"
    }
   ],
   "source": [
    "a = 'T23LNF_20170221T131241_B02_10m.tif'\n",
    "a[1:6]"
   ]
  },
  {
   "cell_type": "code",
   "execution_count": null,
   "id": "0747832c-a08e-4b5a-84f8-1e97c55735dc",
   "metadata": {},
   "outputs": [
    {
     "name": "stdout",
     "output_type": "stream",
     "text": [
      "----------------------------------------------------------\n",
      "- Download Images -\n",
      "Loading metadata...\n",
      "Downloading...\n",
      "Path:1\n",
      "----------\n"
     ]
    },
    {
     "name": "stderr",
     "output_type": "stream",
     "text": [
      "100%|██████████| 3/3 [00:48<00:00, 16.33s/it]\n"
     ]
    },
    {
     "name": "stdout",
     "output_type": "stream",
     "text": [
      "Download finished!\n",
      "\n",
      "----------------------------------------------------------\n",
      "- Reprojecting Bands -\n"
     ]
    },
    {
     "name": "stderr",
     "output_type": "stream",
     "text": [
      "100%|██████████| 3/3 [00:31<00:00, 10.63s/it]"
     ]
    },
    {
     "name": "stdout",
     "output_type": "stream",
     "text": [
      "Reprojection finished!\n",
      "\n",
      "----------------------------------------------------------\n",
      "- Mosaicing Bands -\n",
      "Band B02\n",
      "----------\n"
     ]
    },
    {
     "name": "stderr",
     "output_type": "stream",
     "text": [
      "\n",
      "100%|██████████| 1/1 [00:15<00:00, 15.99s/it]"
     ]
    },
    {
     "name": "stdout",
     "output_type": "stream",
     "text": [
      "Mosaicing finished!\n",
      "\n",
      "----------------------------------------------------------\n",
      "- Clip with Shapefile -\n"
     ]
    },
    {
     "name": "stderr",
     "output_type": "stream",
     "text": [
      "\n",
      "100%|██████████| 1/1 [00:03<00:00,  3.68s/it]"
     ]
    },
    {
     "name": "stdout",
     "output_type": "stream",
     "text": [
      "Clipping finished!\n",
      "\n",
      "----------------------------------------------------------\n",
      "- Creating Cubes -\n"
     ]
    },
    {
     "name": "stderr",
     "output_type": "stream",
     "text": [
      "\n"
     ]
    },
    {
     "name": "stdout",
     "output_type": "stream",
     "text": [
      "----------------------------\n",
      "Band: B02\n",
      "1 files...\n",
      "Stacks finished!\n",
      "\n",
      "----------------------------------------------------------\n",
      "Cubes finished.\n"
     ]
    }
   ],
   "source": [
    "# import sys\n",
    "# sys.path.insert(1, '../..')\n",
    "\n",
    "# import tsmapping\n",
    "\n",
    "# from tsmapping.cube import create_cubes_gcloudSentinel\n",
    "\n",
    "# create_cubes_gcloudSentinel(save_folder = '/home/bruno/Documentos/Caatinga/cubes_sentinel/Barra da Estiva',\n",
    "#                             metadata_path = '/home/bruno/Documentos/Caatinga/metadata/Sentinel2-L1.csv',\n",
    "#                             bands = ['B02'], # , 'B03', 'B04', 'B08'],\n",
    "#                             start_date = '2019-06-01',\n",
    "#                             end_date = '2019-06-10',\n",
    "#                             delete_auxiliary = False,\n",
    "#                             tiles = {'number of paths': 1,\n",
    "#                                      'paths': {'path 1': {'key tile': '24LTK',\n",
    "#                                                           'tiles': ['24LTK', '24LTL', '24LUK']}}},\n",
    "#                             interval = 5,\n",
    "#                             proj4 = '\"+proj=aea +lat_0=-12 +lon_0=-54 +lat_1=-2 +lat_2=-22 +x_0=5000000 +y_0=10000000 +ellps=GRS80 +units=m +no_defs +type=crs\"',\n",
    "#                             clip_shapefile_path = '/home/bruno/Documentos/Caatinga/barra_da_estiva_buffer.shp')"
   ]
  },
  {
   "cell_type": "code",
   "execution_count": null,
   "id": "25b04c8c",
   "metadata": {},
   "outputs": [],
   "source": [
    "# import stac\n",
    "\n",
    "# access_token = 'nZ97OpESX5DTWuFhkh3aZ3o4g4vBGocxz7Gzju3twv'\n",
    "# service = stac.STAC('https://brazildatacube.dpi.inpe.br/stac/', access_token=access_token)\n",
    "# collection_ = service.collection('LC8_SR-1')\n",
    "\n",
    "# items = collection_.get_items(\n",
    "#                     filter={\n",
    "#                             'bbox':'-45.9586,-13.1517,-45.6235,-12.8707', \n",
    "#                             'datetime': f'2020-07-01/2021-09-01',\n",
    "#                             'limit':5000\n",
    "#                         }\n",
    "#             )\n",
    "\n",
    "# for item in items:\n",
    "#     item.download('/home/bruno/Documentos/ESA living planet/SR')"
   ]
  },
  {
   "cell_type": "code",
   "execution_count": null,
   "id": "7477fce6",
   "metadata": {},
   "outputs": [],
   "source": [
    "# access_token = 'nZ97OpESX5DTWuFhkh3aZ3o4g4vBGocxz7Gzju3twv'\n",
    "# service = stac.STAC('https://brazildatacube.dpi.inpe.br/stac/', access_token=access_token)\n",
    "# collection_ = service.collection('LC8_DN-1')\n",
    "\n",
    "# items = collection_.get_items(\n",
    "#                     filter={\n",
    "#                             'bbox':'-45.9586,-13.1517,-45.6235,-12.8707', \n",
    "#                             'datetime': f'2020-07-01/2021-09-01',\n",
    "#                             'limit':5000\n",
    "#                         }\n",
    "#             )\n",
    "\n",
    "# for item in items:\n",
    "#     item.download('/home/bruno/Documentos/ESA living planet/TOA')"
   ]
  },
  {
   "cell_type": "code",
   "execution_count": null,
   "id": "00ba5bdc",
   "metadata": {},
   "outputs": [],
   "source": []
  },
  {
   "cell_type": "code",
   "execution_count": null,
   "id": "b326f0e5",
   "metadata": {},
   "outputs": [],
   "source": []
  },
  {
   "cell_type": "code",
   "execution_count": null,
   "id": "f0a37660",
   "metadata": {},
   "outputs": [],
   "source": [
    "# for item in items:\n",
    "#     print(item['properties']['bdc:tiles'][0])\n",
    "#     break"
   ]
  },
  {
   "cell_type": "code",
   "execution_count": null,
   "id": "ffb47d29",
   "metadata": {},
   "outputs": [],
   "source": [
    "# assets = item.assets\n",
    "# asset = assets['sr_ndvi']"
   ]
  },
  {
   "cell_type": "code",
   "execution_count": null,
   "id": "f0bfb469",
   "metadata": {},
   "outputs": [],
   "source": [
    "# asset.download('/home/bruno/Área de Trabalho/tests_library/BDC_Landsat')"
   ]
  },
  {
   "cell_type": "code",
   "execution_count": null,
   "id": "8ddd0deb",
   "metadata": {},
   "outputs": [],
   "source": [
    "# assets.items()"
   ]
  },
  {
   "cell_type": "code",
   "execution_count": null,
   "id": "8f00edc0",
   "metadata": {},
   "outputs": [],
   "source": [
    "# import os\n",
    "# path = '/home/bruno/Documentos/GitHub/tsmapping/aux'\n",
    "# os.path.exists('/home/bruno/Documentos/GitHub/tsmapping/aux/landsat_grid.shp')"
   ]
  }
 ],
 "metadata": {
  "kernelspec": {
   "display_name": "Python 3",
   "language": "python",
   "name": "python3"
  },
  "language_info": {
   "codemirror_mode": {
    "name": "ipython",
    "version": 3
   },
   "file_extension": ".py",
   "mimetype": "text/x-python",
   "name": "python",
   "nbconvert_exporter": "python",
   "pygments_lexer": "ipython3",
   "version": "3.7.10"
  }
 },
 "nbformat": 4,
 "nbformat_minor": 5
}
