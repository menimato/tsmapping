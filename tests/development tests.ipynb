{
 "cells": [
  {
   "cell_type": "code",
   "execution_count": 1,
   "id": "0af00a4e-1707-4c9e-8186-dca3ed75f7b5",
   "metadata": {},
   "outputs": [
    {
     "name": "stdout",
     "output_type": "stream",
     "text": [
      "----------------------------------------------------------\n",
      "- Download Images from BDC -\n",
      "\n",
      "Path: 220 - Row:69\n",
      "-----------------\n",
      "1 / 3\n"
     ]
    },
    {
     "name": "stderr",
     "output_type": "stream",
     "text": [
      "./bands/LC08_L1TP_220069_20180704_20180717_01_T1.tar.gz: 100%|██████████| 886M/886M [01:32<00:00, 10.0MB/s]\n",
      "./bands/LC08_L1TP_220069_20180704_20180717_01_T1.png: 100%|██████████| 867k/867k [00:00<00:00, 11.4MB/s]\n"
     ]
    },
    {
     "name": "stdout",
     "output_type": "stream",
     "text": [
      "Extracting... Done!\n",
      "2 / 3\n"
     ]
    },
    {
     "name": "stderr",
     "output_type": "stream",
     "text": [
      "./bands/LC08_L1TP_220069_20180618_20180703_01_T1.tar.gz: 100%|██████████| 883M/883M [01:41<00:00, 9.10MB/s]\n",
      "./bands/LC08_L1TP_220069_20180618_20180703_01_T1.png: 100%|██████████| 867k/867k [00:00<00:00, 2.46MB/s]\n"
     ]
    },
    {
     "name": "stdout",
     "output_type": "stream",
     "text": [
      "Extracting... Done!\n",
      "3 / 3\n"
     ]
    },
    {
     "name": "stderr",
     "output_type": "stream",
     "text": [
      "./bands/LC08_L1TP_220069_20180602_20180615_01_T1.tar.gz: 100%|██████████| 882M/882M [02:16<00:00, 6.79MB/s]\n",
      "./bands/LC08_L1TP_220069_20180602_20180615_01_T1.png: 100%|██████████| 865k/865k [00:00<00:00, 8.17MB/s]\n"
     ]
    },
    {
     "name": "stdout",
     "output_type": "stream",
     "text": [
      "Extracting... Done!\n",
      "----------------------------------------------------------\n",
      "B2\n",
      "- Reprojecting Bands -\n"
     ]
    },
    {
     "name": "stderr",
     "output_type": "stream",
     "text": [
      "100%|██████████| 3/3 [00:04<00:00,  1.37s/it]"
     ]
    },
    {
     "name": "stdout",
     "output_type": "stream",
     "text": [
      "Reprojection finished!\n",
      "\n",
      "B3\n",
      "- Reprojecting Bands -\n"
     ]
    },
    {
     "name": "stderr",
     "output_type": "stream",
     "text": [
      "\n",
      "100%|██████████| 3/3 [00:04<00:00,  1.42s/it]"
     ]
    },
    {
     "name": "stdout",
     "output_type": "stream",
     "text": [
      "Reprojection finished!\n",
      "\n",
      "B4\n",
      "- Reprojecting Bands -\n"
     ]
    },
    {
     "name": "stderr",
     "output_type": "stream",
     "text": [
      "\n",
      "100%|██████████| 3/3 [00:04<00:00,  1.34s/it]"
     ]
    },
    {
     "name": "stdout",
     "output_type": "stream",
     "text": [
      "Reprojection finished!\n",
      "\n",
      "B5\n",
      "- Reprojecting Bands -\n"
     ]
    },
    {
     "name": "stderr",
     "output_type": "stream",
     "text": [
      "\n",
      "100%|██████████| 3/3 [00:03<00:00,  1.16s/it]"
     ]
    },
    {
     "name": "stdout",
     "output_type": "stream",
     "text": [
      "Reprojection finished!\n",
      "\n",
      "----------------------------------------------------------\n",
      "- Mosaicing Bands -\n",
      "Band B2\n",
      "----------\n"
     ]
    },
    {
     "name": "stderr",
     "output_type": "stream",
     "text": [
      "\n",
      "100%|██████████| 2/2 [00:02<00:00,  1.31s/it]"
     ]
    },
    {
     "name": "stdout",
     "output_type": "stream",
     "text": [
      "Band B3\n",
      "----------\n"
     ]
    },
    {
     "name": "stderr",
     "output_type": "stream",
     "text": [
      "\n",
      "100%|██████████| 2/2 [00:02<00:00,  1.31s/it]"
     ]
    },
    {
     "name": "stdout",
     "output_type": "stream",
     "text": [
      "Band B4\n",
      "----------\n"
     ]
    },
    {
     "name": "stderr",
     "output_type": "stream",
     "text": [
      "\n",
      "100%|██████████| 2/2 [00:02<00:00,  1.25s/it]"
     ]
    },
    {
     "name": "stdout",
     "output_type": "stream",
     "text": [
      "Band B5\n",
      "----------\n"
     ]
    },
    {
     "name": "stderr",
     "output_type": "stream",
     "text": [
      "\n",
      "100%|██████████| 2/2 [00:02<00:00,  1.22s/it]"
     ]
    },
    {
     "name": "stdout",
     "output_type": "stream",
     "text": [
      "Mosaicing finished!\n",
      "\n",
      "----------------------------------------------------------\n",
      "- Clip with Shapefile -\n"
     ]
    },
    {
     "name": "stderr",
     "output_type": "stream",
     "text": [
      "\n",
      "100%|██████████| 8/8 [00:05<00:00,  1.38it/s]"
     ]
    },
    {
     "name": "stdout",
     "output_type": "stream",
     "text": [
      "Clipping finished!\n",
      "\n",
      "----------------------------------------------------------\n",
      "- Creating Cubes -\n"
     ]
    },
    {
     "name": "stderr",
     "output_type": "stream",
     "text": [
      "\n"
     ]
    },
    {
     "name": "stdout",
     "output_type": "stream",
     "text": [
      "----------------------------\n",
      "Band: B2\n",
      "2 files...\n",
      "----------------------------\n",
      "Band: B3\n",
      "2 files...\n",
      "----------------------------\n",
      "Band: B4\n",
      "2 files...\n",
      "----------------------------\n",
      "Band: B5\n",
      "2 files...\n",
      "Stacks finished!\n",
      "\n",
      "----------------------------------------------------------\n",
      "Cubes finished.\n"
     ]
    }
   ],
   "source": [
    "import sys\n",
    "sys.path.insert(1, '../..')\n",
    "\n",
    "import tsmapping\n",
    "\n",
    "from tsmapping.cube import download_images_gcloud\n",
    "\n",
    "tsmapping.cube.create_cubes_BDC(save_folder='/home/bruno/Área de Trabalho/tests_library/BDC_Landsat', \n",
    "                                bands=['B2', 'B3', 'B4', 'B5'],\n",
    "                                access_token='nZ97OpESX5DTWuFhkh3aZ3o4g4vBGocxz7Gzju3twv', \n",
    "                                start_date='2018-06-01',\n",
    "                                end_date='2018-07-15',\n",
    "                                delete_auxiliary=False,\n",
    "                                collection='LC8_DN-1',\n",
    "                                grid_images=[[220,69]],\n",
    "                                clip_shapefile_path='/home/bruno/Documentos/ESA living planet/extent_both.shp')"
   ]
  },
  {
   "cell_type": "code",
   "execution_count": 1,
   "id": "c4d92aff-6f57-4e01-9308-04308454ec24",
   "metadata": {},
   "outputs": [],
   "source": [
    "import sys\n",
    "sys.path.insert(1, '../..')\n",
    "\n",
    "import tsmapping\n",
    "\n",
    "from tsmapping.cube import download_images_gcloud\n",
    "\n",
    "tsmapping.cube.update_metadata('/home/bruno/Documents/test_cafe')"
   ]
  },
  {
   "cell_type": "code",
   "execution_count": null,
   "id": "ca9ad193",
   "metadata": {},
   "outputs": [
    {
     "name": "stdout",
     "output_type": "stream",
     "text": [
      "----------------------------------------------------------\n",
      "- Download Images -\n",
      "Loading metadata...\n",
      "Downloading...\n",
      "Path:1\n",
      "----------\n"
     ]
    },
    {
     "name": "stderr",
     "output_type": "stream",
     "text": [
      "100%|██████████| 1/1 [1:56:01<00:00, 6961.14s/it]"
     ]
    },
    {
     "name": "stdout",
     "output_type": "stream",
     "text": [
      "Download finished!\n",
      "\n",
      "----------------------------------------------------------\n",
      "- Reprojecting Bands -\n"
     ]
    },
    {
     "name": "stderr",
     "output_type": "stream",
     "text": [
      "\n",
      " 99%|█████████▉| 289/292 [1:08:32<00:41, 13.74s/it]"
     ]
    }
   ],
   "source": [
    "import sys\n",
    "sys.path.insert(1, '../..')\n",
    "\n",
    "import tsmapping\n",
    "\n",
    "from tsmapping.cube import download_images_gcloud\n",
    "\n",
    "tsmapping.cube.create_cubes_gcloudSentinel(save_folder = '/home/bruno/Documents/test_cafe/cubes',\n",
    "                                           bands = ['B02', 'B03', 'B04', 'B08'],\n",
    "                                           start_date = '2019-01-01',\n",
    "                                           end_date = '2019-12-31',\n",
    "                                           metadata_path = '/home/bruno/Documents/test_cafe/Sentinel2-L1.csv', \n",
    "                                           tiles = {'number of paths': 1,\n",
    "                                                    'paths': {'path 1': {'key tile': '24LTK',\n",
    "                                                                        'tiles': ['24LTL']}}}, \n",
    "                                           delete_auxiliary=True, \n",
    "                                           interval=5, \n",
    "                                           clip_shapefile_path='/home/bruno/Documents/test_cafe/study_area.shp')"
   ]
  },
  {
   "cell_type": "code",
   "execution_count": null,
   "id": "ffb07641-1a1d-4c2f-8452-57c1804f368e",
   "metadata": {},
   "outputs": [
    {
     "name": "stdout",
     "output_type": "stream",
     "text": [
      "- Mosaicing Bands -\n",
      "Band B02\n",
      "----------\n"
     ]
    },
    {
     "name": "stderr",
     "output_type": "stream",
     "text": [
      "  8%|▊         | 6/73 [00:39<07:15,  6.50s/it]"
     ]
    }
   ],
   "source": [
    "import sys\n",
    "sys.path.insert(1, '../..')\n",
    "\n",
    "import tsmapping\n",
    "\n",
    "from tsmapping.cube import download_images_gcloud\n",
    "\n",
    "# mosaicing bands\n",
    "import os\n",
    "os.chdir('/home/bruno/Documents/test_cafe/cubes')\n",
    "\n",
    "bands = ['B02', 'B03', 'B04', 'B08']\n",
    "start_date = '2019-01-01'\n",
    "end_date = '2019-12-31'\n",
    "interval = 5\n",
    "\n",
    "tsmapping.cube.mosaic_bands(bands_folder = './reprojected', \n",
    "                            save_folder = './mosaics', \n",
    "                            bands = bands, \n",
    "                            start_date = start_date, \n",
    "                            end_date = end_date, \n",
    "                            interval = interval,\n",
    "                            date_charsinterval_in_bandnames = [7,15],\n",
    "                            nodata = 0)"
   ]
  },
  {
   "cell_type": "code",
   "execution_count": 5,
   "id": "6e201229-39e5-4086-8c91-c0d7460a167d",
   "metadata": {},
   "outputs": [
    {
     "data": {
      "text/plain": [
       "'/home/bruno/Documents/test_cafe/cubes'"
      ]
     },
     "execution_count": 5,
     "metadata": {},
     "output_type": "execute_result"
    }
   ],
   "source": [
    "os.getcwd()"
   ]
  },
  {
   "cell_type": "code",
   "execution_count": 4,
   "id": "47bb8e25-dec3-4c25-8f2f-ceec9853312d",
   "metadata": {},
   "outputs": [
    {
     "data": {
      "text/plain": [
       "'./mosaics/S.tif'"
      ]
     },
     "execution_count": 4,
     "metadata": {},
     "output_type": "execute_result"
    }
   ],
   "source": [
    "os.path.join('./mosaics',f'S.tif')"
   ]
  },
  {
   "cell_type": "code",
   "execution_count": 2,
   "id": "36059911",
   "metadata": {},
   "outputs": [
    {
     "name": "stdout",
     "output_type": "stream",
     "text": [
      "Help on built-in function zeros in module numpy:\n",
      "\n",
      "zeros(...)\n",
      "    zeros(shape, dtype=float, order='C')\n",
      "    \n",
      "    Return a new array of given shape and type, filled with zeros.\n",
      "    \n",
      "    Parameters\n",
      "    ----------\n",
      "    shape : int or tuple of ints\n",
      "        Shape of the new array, e.g., ``(2, 3)`` or ``2``.\n",
      "    dtype : data-type, optional\n",
      "        The desired data-type for the array, e.g., `numpy.int8`.  Default is\n",
      "        `numpy.float64`.\n",
      "    order : {'C', 'F'}, optional, default: 'C'\n",
      "        Whether to store multi-dimensional data in row-major\n",
      "        (C-style) or column-major (Fortran-style) order in\n",
      "        memory.\n",
      "    \n",
      "    Returns\n",
      "    -------\n",
      "    out : ndarray\n",
      "        Array of zeros with the given shape, dtype, and order.\n",
      "    \n",
      "    See Also\n",
      "    --------\n",
      "    zeros_like : Return an array of zeros with shape and type of input.\n",
      "    empty : Return a new uninitialized array.\n",
      "    ones : Return a new array setting values to one.\n",
      "    full : Return a new array of given shape filled with value.\n",
      "    \n",
      "    Examples\n",
      "    --------\n",
      "    >>> np.zeros(5)\n",
      "    array([ 0.,  0.,  0.,  0.,  0.])\n",
      "    \n",
      "    >>> np.zeros((5,), dtype=int)\n",
      "    array([0, 0, 0, 0, 0])\n",
      "    \n",
      "    >>> np.zeros((2, 1))\n",
      "    array([[ 0.],\n",
      "           [ 0.]])\n",
      "    \n",
      "    >>> s = (2,2)\n",
      "    >>> np.zeros(s)\n",
      "    array([[ 0.,  0.],\n",
      "           [ 0.,  0.]])\n",
      "    \n",
      "    >>> np.zeros((2,), dtype=[('x', 'i4'), ('y', 'i4')]) # custom dtype\n",
      "    array([(0, 0), (0, 0)],\n",
      "          dtype=[('x', '<i4'), ('y', '<i4')])\n",
      "\n"
     ]
    }
   ],
   "source": [
    "import numpy\n",
    "\n",
    "help(numpy.zeros)"
   ]
  },
  {
   "cell_type": "code",
   "execution_count": 3,
   "id": "91dc11a1-9735-4c39-9ed5-883a59d26e7d",
   "metadata": {},
   "outputs": [],
   "source": [
    "# import sys\n",
    "# sys.path.insert(1, '../..')\n",
    "\n",
    "# import tsmapping\n",
    "\n",
    "# from tsmapping.cube import download_images_gcloud\n",
    "\n",
    "# tsmapping.cube.download_images_BDC(access_token='nZ97OpESX5DTWuFhkh3aZ3o4g4vBGocxz7Gzju3twv',\n",
    "#                                    start_date='2018-06-01',\n",
    "#                                    save_folder='/home/bruno/Área de Trabalho/tests_library/BDC_Landsat',\n",
    "#                                    end_date='2018-06-17',\n",
    "#                                    grid_images=[[220,69]],\n",
    "#                                    collection='LC8_DN-1',\n",
    "#                                    bands=['B08'])"
   ]
  },
  {
   "cell_type": "code",
   "execution_count": 4,
   "id": "0d939182",
   "metadata": {},
   "outputs": [],
   "source": [
    "# from tsmapping.cube import download_images_gcloud"
   ]
  },
  {
   "cell_type": "code",
   "execution_count": 5,
   "id": "96b36a45-fa32-4dab-a729-0d76ce4d457f",
   "metadata": {},
   "outputs": [],
   "source": [
    "# import sys\n",
    "# sys.path.insert(1, '../..')\n",
    "\n",
    "# import tsmapping\n",
    "\n",
    "# from tsmapping.cube import download_images_BDC\n",
    "\n",
    "# tsmapping.cube.create_cubes_BDC(save_folder = '/home/bruno/Documentos/Caatinga/cubes_sentinel',\n",
    "#                                 bands = ['B08'], # 'sr_band3', 'sr_band4', 'sr_band5', 'sr_band6', 'sr_band7'],\n",
    "#                                 access_token = 'nZ97OpESX5DTWuFhkh3aZ3o4g4vBGocxz7Gzju3twv',\n",
    "#                                 start_date = '2019-06-01',\n",
    "#                                 end_date = '2019-06-05',\n",
    "#                                 collection = 'S2_L2A-1',\n",
    "#                                 delete_auxiliary = False,\n",
    "#                                 grid_images = ['23LLG', '23LMG'],# , '23LLF', '23LMF', '23LLE', '23LME'],\n",
    "#                                 clip_shapefile_path = '/home/bruno/Documentos/ESA living planet/extent.shp')"
   ]
  },
  {
   "cell_type": "code",
   "execution_count": 6,
   "id": "46859cf3-d1f3-42eb-bf46-16084d197bc3",
   "metadata": {},
   "outputs": [],
   "source": [
    "# import numpy as np\n",
    "# import rasterio\n",
    "# from rasterio.warp import calculate_default_transform, reproject, Resampling\n",
    "\n",
    "# dst_crs = 'EPSG:4326'\n",
    "\n",
    "# with rasterio.open('/home/bruno/Documentos/Caatinga/cubes_sentinel/bands/T23LLG_20190604T132241_B08_10m.tif') as src:\n",
    "#     transform, width, height = calculate_default_transform(\n",
    "#         src.crs, dst_crs, src.width, src.height, *src.bounds)\n",
    "#     kwargs = src.meta.copy()\n",
    "#     kwargs.update({\n",
    "#         'crs': dst_crs,\n",
    "#         'transform': transform,\n",
    "#         'width': width,\n",
    "#         'height': height\n",
    "#     })\n",
    "\n",
    "#     with rasterio.open('/home/bruno/Documentos/Caatinga/cubes_sentinel/bands/test.tif', 'w', **kwargs) as dst:\n",
    "#         for i in range(1, src.count + 1):\n",
    "#             reproject(\n",
    "#                 source=rasterio.band(src, i),\n",
    "#                 destination=rasterio.band(dst, i),\n",
    "#                 src_transform=src.transform,\n",
    "#                 src_crs=src.crs,\n",
    "#                 dst_transform=transform,\n",
    "#                 dst_crs=dst_crs,\n",
    "#                 resampling=Resampling.nearest)"
   ]
  },
  {
   "cell_type": "code",
   "execution_count": 7,
   "id": "4b651c7b",
   "metadata": {},
   "outputs": [],
   "source": [
    "# import sys\n",
    "# sys.path.insert(1, '../..')\n",
    "\n",
    "# import tsmapping\n",
    "\n",
    "# from tsmapping.cube import download_images_BDC\n",
    "\n",
    "# download_images_BDC(save_folder = '/home/bruno/Documentos/Caatinga/cubes_sentinel/Barra da Estiva', \n",
    "#                     bands = ['B02'], \n",
    "#                     access_token = 'nZ97OpESX5DTWuFhkh3aZ3o4g4vBGocxz7Gzju3twv', \n",
    "#                     start_date = '2019-06-01', \n",
    "#                     end_date = '2019-06-06', \n",
    "#                     wkt=None, \n",
    "#                     grid_images=['23LLG'], # '23LMG', '23LLF', '23LMF', '23LLE', '23LME'], \n",
    "#                     collection='S2_L2A-1')"
   ]
  },
  {
   "cell_type": "code",
   "execution_count": 8,
   "id": "55155979",
   "metadata": {},
   "outputs": [],
   "source": [
    "# a = 'T23LNF_20170221T131241_B06_20m.tif'\n",
    "# a[7:15]"
   ]
  },
  {
   "cell_type": "code",
   "execution_count": 9,
   "id": "0747832c-a08e-4b5a-84f8-1e97c55735dc",
   "metadata": {},
   "outputs": [],
   "source": [
    "# import sys\n",
    "# sys.path.insert(1, '../..')\n",
    "\n",
    "# import tsmapping\n",
    "\n",
    "# from tsmapping.cube import create_cubes_gcloudSentinel\n",
    "\n",
    "# create_cubes_gcloudSentinel(save_folder = '/home/bruno/Documentos/Caatinga/cubes_sentinel/Barra da Estiva',\n",
    "#                             metadata_path = '/home/bruno/Documentos/Caatinga/metadata/Sentinel2-L1.csv',\n",
    "#                             bands = ['B02'], # , 'B03', 'B04', 'B08'],\n",
    "#                             start_date = '2019-06-01',\n",
    "#                             end_date = '2019-06-10',\n",
    "#                             delete_auxiliary = False,\n",
    "#                             tiles = {'number of paths': 1,\n",
    "#                                      'paths': {'path 1': {'key tile': '24LTK',\n",
    "#                                                           'tiles': ['24LTK', '24LTL', '24LUK']}}},\n",
    "#                             interval = 5,\n",
    "#                             proj4 = '\"+proj=aea +lat_0=-12 +lon_0=-54 +lat_1=-2 +lat_2=-22 +x_0=5000000 +y_0=10000000 +ellps=GRS80 +units=m +no_defs +type=crs\"',\n",
    "#                             clip_shapefile_path = '/home/bruno/Documentos/Caatinga/barra_da_estiva_buffer.shp')"
   ]
  },
  {
   "cell_type": "code",
   "execution_count": 10,
   "id": "25b04c8c",
   "metadata": {},
   "outputs": [],
   "source": [
    "# import stac\n",
    "\n",
    "# access_token = 'nZ97OpESX5DTWuFhkh3aZ3o4g4vBGocxz7Gzju3twv'\n",
    "# service = stac.STAC('https://brazildatacube.dpi.inpe.br/stac/', access_token=access_token)\n",
    "# collection_ = service.collection('LC8_SR-1')\n",
    "\n",
    "# items = collection_.get_items(\n",
    "#                     filter={\n",
    "#                             'bbox':'-45.9586,-13.1517,-45.6235,-12.8707', \n",
    "#                             'datetime': f'2020-07-01/2021-09-01',\n",
    "#                             'limit':5000\n",
    "#                         }\n",
    "#             )\n",
    "\n",
    "# for item in items:\n",
    "#     item.download('/home/bruno/Documentos/ESA living planet/SR')"
   ]
  },
  {
   "cell_type": "code",
   "execution_count": 20,
   "id": "7477fce6",
   "metadata": {},
   "outputs": [],
   "source": [
    "import stac\n",
    "\n",
    "access_token = 'nZ97OpESX5DTWuFhkh3aZ3o4g4vBGocxz7Gzju3twv'\n",
    "service = stac.STAC('https://brazildatacube.dpi.inpe.br/stac/', access_token=access_token)\n",
    "collection_ = service.collection('LC8_SR-1')\n",
    "\n",
    "items = collection_.get_items(\n",
    "                    filter={\n",
    "                            'bbox':'-45.9586,-13.1517,-45.6235,-12.8707', \n",
    "                            'datetime': f'2020-07-01/2021-09-01',\n",
    "                            'limit':5000\n",
    "                        }\n",
    "            )\n",
    "\n",
    "# for item in items:\n",
    "#     item.download('/home/bruno/Documentos/ESA living planet/TOA')"
   ]
  },
  {
   "cell_type": "code",
   "execution_count": 21,
   "id": "00ba5bdc",
   "metadata": {},
   "outputs": [],
   "source": [
    "for item in items:\n",
    "    pass"
   ]
  },
  {
   "cell_type": "code",
   "execution_count": 22,
   "id": "b326f0e5",
   "metadata": {},
   "outputs": [
    {
     "data": {
      "text/html": [
       "<div>\n",
       "    <b> LC08_L1TP_220069_20200709_20200721_01_T1 </b>\n",
       "</div>\n",
       "<div>\n",
       "    <b>Collection:</b> LC8_SR-1\n",
       "</div>\n",
       "<div>\n",
       "    <b>Datetime:</b> 2020-07-09T00:00:00\n",
       "</div>\n",
       "<div>\n",
       "    <b>STAC Version:</b> 0.9.0\n",
       "</div>\n",
       "</br>\n",
       "<div>\n",
       "    <b>Thumbnail</b>:\n",
       "    <img src=\"https://brazildatacube.dpi.inpe.br/archive/optical/LC8_SR/2020-07/220069/LC08_L1TP_220069_20200709_20200721_01_T1.png?access_token=nZ97OpESX5DTWuFhkh3aZ3o4g4vBGocxz7Gzju3twv\" width=\"256\">\n",
       "</div>\n",
       "\n",
       "</br>\n",
       "\n",
       "<b>Bands</b>\n",
       "<div>\n",
       "    <table>\n",
       "        <tr>\n",
       "        </tr>\n",
       "        <tr>\n",
       "            <th>name</th>\n",
       "            <th>common_name</th>\n",
       "            <th>min</th>\n",
       "            <th>max</th>\n",
       "            <th>nodata</th>\n",
       "            <th>scale</th>\n",
       "            <th>data_type</th>\n",
       "        </tr>\n",
       "        \n",
       "        <tr>\n",
       "            <td>sr_band2</td>\n",
       "            <td>blue</td>\n",
       "            <td>0.0</td>\n",
       "            <td>10000.0</td>\n",
       "            <td>-9999.0</td>\n",
       "            <td>0.0001</td>\n",
       "            <td>int16</td>\n",
       "        </tr>\n",
       "        \n",
       "        <tr>\n",
       "            <td>sr_evi</td>\n",
       "            <td>evi</td>\n",
       "            <td>-10000.0</td>\n",
       "            <td>10000.0</td>\n",
       "            <td>-9999.0</td>\n",
       "            <td>0.0001</td>\n",
       "            <td>int16</td>\n",
       "        </tr>\n",
       "        \n",
       "        <tr>\n",
       "            <td>sr_ndvi</td>\n",
       "            <td>ndvi</td>\n",
       "            <td>-10000.0</td>\n",
       "            <td>10000.0</td>\n",
       "            <td>-9999.0</td>\n",
       "            <td>0.0001</td>\n",
       "            <td>int16</td>\n",
       "        </tr>\n",
       "        \n",
       "        <tr>\n",
       "            <td>sr_band1</td>\n",
       "            <td>coastal</td>\n",
       "            <td>0.0</td>\n",
       "            <td>10000.0</td>\n",
       "            <td>-9999.0</td>\n",
       "            <td>0.0001</td>\n",
       "            <td>int16</td>\n",
       "        </tr>\n",
       "        \n",
       "        <tr>\n",
       "            <td>sr_band3</td>\n",
       "            <td>green</td>\n",
       "            <td>0.0</td>\n",
       "            <td>10000.0</td>\n",
       "            <td>-9999.0</td>\n",
       "            <td>0.0001</td>\n",
       "            <td>int16</td>\n",
       "        </tr>\n",
       "        \n",
       "        <tr>\n",
       "            <td>sr_band4</td>\n",
       "            <td>red</td>\n",
       "            <td>0.0</td>\n",
       "            <td>10000.0</td>\n",
       "            <td>-9999.0</td>\n",
       "            <td>0.0001</td>\n",
       "            <td>int16</td>\n",
       "        </tr>\n",
       "        \n",
       "        <tr>\n",
       "            <td>sr_band5</td>\n",
       "            <td>nir08</td>\n",
       "            <td>0.0</td>\n",
       "            <td>10000.0</td>\n",
       "            <td>-9999.0</td>\n",
       "            <td>0.0001</td>\n",
       "            <td>int16</td>\n",
       "        </tr>\n",
       "        \n",
       "        <tr>\n",
       "            <td>sr_band6</td>\n",
       "            <td>swir16</td>\n",
       "            <td>0.0</td>\n",
       "            <td>10000.0</td>\n",
       "            <td>-9999.0</td>\n",
       "            <td>0.0001</td>\n",
       "            <td>int16</td>\n",
       "        </tr>\n",
       "        \n",
       "        <tr>\n",
       "            <td>sr_band7</td>\n",
       "            <td>swir22</td>\n",
       "            <td>0.0</td>\n",
       "            <td>10000.0</td>\n",
       "            <td>-9999.0</td>\n",
       "            <td>0.0001</td>\n",
       "            <td>int16</td>\n",
       "        </tr>\n",
       "        \n",
       "        <tr>\n",
       "            <td>Fmask4</td>\n",
       "            <td>quality</td>\n",
       "            <td>0.0</td>\n",
       "            <td>4.0</td>\n",
       "            <td>255.0</td>\n",
       "            <td>1.0</td>\n",
       "            <td>int16</td>\n",
       "        </tr>\n",
       "        \n",
       "        <tr>\n",
       "            <td>sr_aerosol</td>\n",
       "            <td>quality</td>\n",
       "            <td>0.0</td>\n",
       "            <td>255.0</td>\n",
       "            <td>None</td>\n",
       "            <td>1.0</td>\n",
       "            <td>uint16</td>\n",
       "        </tr>\n",
       "        \n",
       "        <tr>\n",
       "            <td>pixel_qa</td>\n",
       "            <td>quality</td>\n",
       "            <td>0.0</td>\n",
       "            <td>32767.0</td>\n",
       "            <td>0.0</td>\n",
       "            <td>1.0</td>\n",
       "            <td>uint16</td>\n",
       "        </tr>\n",
       "        \n",
       "        <tr>\n",
       "            <td>radsat_qa</td>\n",
       "            <td>quality</td>\n",
       "            <td>0.0</td>\n",
       "            <td>32768.0</td>\n",
       "            <td>1.0</td>\n",
       "            <td>1.0</td>\n",
       "            <td>uint16</td>\n",
       "        </tr>\n",
       "        \n",
       "    </table>\n",
       "</div>\n",
       "</br>\n",
       "\n",
       "<div>\n",
       "    <b>BBox</b>\n",
       "</div>\n",
       "<div>\n",
       "    <table>\n",
       "        <tr>\n",
       "            <th>xmin</th>\n",
       "            <th>ymin</th>\n",
       "            <th>xmax</th>\n",
       "            <th>ymax</th>\n",
       "        </tr>\n",
       "        <tr>\n",
       "            <td>-46.805113</td>\n",
       "            <td>-14.064805</td>\n",
       "            <td>-44.693269</td>\n",
       "            <td>-11.962019</td>\n",
       "        </tr>\n",
       "    </table>\n",
       "</div>\n",
       "</br>\n"
      ],
      "text/plain": [
       "{'type': 'Feature',\n",
       " 'id': 'LC08_L1TP_220069_20200709_20200721_01_T1',\n",
       " 'collection': 'LC8_SR-1',\n",
       " 'stac_version': '0.9.0',\n",
       " 'stac_extensions': ['checksum', 'commons', 'eo'],\n",
       " 'geometry': {'type': 'Polygon',\n",
       "  'coordinates': [[[-44.693269, -14.064805],\n",
       "    [-44.695837, -11.967563],\n",
       "    [-46.790007, -11.962019],\n",
       "    [-46.805113, -14.058255],\n",
       "    [-44.693269, -14.064805]]]},\n",
       " 'bbox': [-46.805113, -14.064805, -44.693269, -11.962019],\n",
       " 'properties': {'bdc:tiles': ['220069'],\n",
       "  'datetime': '2020-07-09T00:00:00',\n",
       "  'start_datetime': '2020-07-09T00:00:00',\n",
       "  'end_datetime': '2020-07-09T00:00:00',\n",
       "  'created': '2020-09-16T10:40:28',\n",
       "  'updated': '2020-09-16T10:40:28',\n",
       "  'eo:gsd': 30.0,\n",
       "  'eo:bands': [{'name': 'sr_band2',\n",
       "    'common_name': 'blue',\n",
       "    'description': '',\n",
       "    'min': 0.0,\n",
       "    'max': 10000.0,\n",
       "    'nodata': -9999.0,\n",
       "    'scale': 0.0001,\n",
       "    'center_wavelength': 0.482,\n",
       "    'full_width_half_max': 0.06,\n",
       "    'data_type': 'int16'},\n",
       "   {'name': 'sr_evi',\n",
       "    'common_name': 'evi',\n",
       "    'description': 'Enhanced Vegetation Index',\n",
       "    'min': -10000.0,\n",
       "    'max': 10000.0,\n",
       "    'nodata': -9999.0,\n",
       "    'scale': 0.0001,\n",
       "    'center_wavelength': None,\n",
       "    'full_width_half_max': None,\n",
       "    'data_type': 'int16'},\n",
       "   {'name': 'sr_ndvi',\n",
       "    'common_name': 'ndvi',\n",
       "    'description': '',\n",
       "    'min': -10000.0,\n",
       "    'max': 10000.0,\n",
       "    'nodata': -9999.0,\n",
       "    'scale': 0.0001,\n",
       "    'center_wavelength': None,\n",
       "    'full_width_half_max': None,\n",
       "    'data_type': 'int16'},\n",
       "   {'name': 'sr_band1',\n",
       "    'common_name': 'coastal',\n",
       "    'description': '',\n",
       "    'min': 0.0,\n",
       "    'max': 10000.0,\n",
       "    'nodata': -9999.0,\n",
       "    'scale': 0.0001,\n",
       "    'center_wavelength': 0.443,\n",
       "    'full_width_half_max': 0.016,\n",
       "    'data_type': 'int16'},\n",
       "   {'name': 'sr_band3',\n",
       "    'common_name': 'green',\n",
       "    'description': '',\n",
       "    'min': 0.0,\n",
       "    'max': 10000.0,\n",
       "    'nodata': -9999.0,\n",
       "    'scale': 0.0001,\n",
       "    'center_wavelength': 0.561,\n",
       "    'full_width_half_max': 0.057,\n",
       "    'data_type': 'int16'},\n",
       "   {'name': 'sr_band4',\n",
       "    'common_name': 'red',\n",
       "    'description': '',\n",
       "    'min': 0.0,\n",
       "    'max': 10000.0,\n",
       "    'nodata': -9999.0,\n",
       "    'scale': 0.0001,\n",
       "    'center_wavelength': 0.655,\n",
       "    'full_width_half_max': 0.037,\n",
       "    'data_type': 'int16'},\n",
       "   {'name': 'sr_band5',\n",
       "    'common_name': 'nir08',\n",
       "    'description': '',\n",
       "    'min': 0.0,\n",
       "    'max': 10000.0,\n",
       "    'nodata': -9999.0,\n",
       "    'scale': 0.0001,\n",
       "    'center_wavelength': 0.865,\n",
       "    'full_width_half_max': 0.028,\n",
       "    'data_type': 'int16'},\n",
       "   {'name': 'sr_band6',\n",
       "    'common_name': 'swir16',\n",
       "    'description': '',\n",
       "    'min': 0.0,\n",
       "    'max': 10000.0,\n",
       "    'nodata': -9999.0,\n",
       "    'scale': 0.0001,\n",
       "    'center_wavelength': 1.61,\n",
       "    'full_width_half_max': 0.085,\n",
       "    'data_type': 'int16'},\n",
       "   {'name': 'sr_band7',\n",
       "    'common_name': 'swir22',\n",
       "    'description': '',\n",
       "    'min': 0.0,\n",
       "    'max': 10000.0,\n",
       "    'nodata': -9999.0,\n",
       "    'scale': 0.0001,\n",
       "    'center_wavelength': 2.2,\n",
       "    'full_width_half_max': 0.187,\n",
       "    'data_type': 'int16'},\n",
       "   {'name': 'Fmask4',\n",
       "    'common_name': 'quality',\n",
       "    'description': '',\n",
       "    'min': 0.0,\n",
       "    'max': 4.0,\n",
       "    'nodata': 255.0,\n",
       "    'scale': 1.0,\n",
       "    'center_wavelength': None,\n",
       "    'full_width_half_max': None,\n",
       "    'data_type': 'int16'},\n",
       "   {'name': 'sr_aerosol',\n",
       "    'common_name': 'quality',\n",
       "    'description': '',\n",
       "    'min': 0.0,\n",
       "    'max': 255.0,\n",
       "    'nodata': None,\n",
       "    'scale': 1.0,\n",
       "    'center_wavelength': None,\n",
       "    'full_width_half_max': None,\n",
       "    'data_type': 'uint16'},\n",
       "   {'name': 'pixel_qa',\n",
       "    'common_name': 'quality',\n",
       "    'description': '',\n",
       "    'min': 0.0,\n",
       "    'max': 32767.0,\n",
       "    'nodata': 0.0,\n",
       "    'scale': 1.0,\n",
       "    'center_wavelength': None,\n",
       "    'full_width_half_max': None,\n",
       "    'data_type': 'uint16'},\n",
       "   {'name': 'radsat_qa',\n",
       "    'common_name': 'quality',\n",
       "    'description': '',\n",
       "    'min': 0.0,\n",
       "    'max': 32768.0,\n",
       "    'nodata': 1.0,\n",
       "    'scale': 1.0,\n",
       "    'center_wavelength': None,\n",
       "    'full_width_half_max': None,\n",
       "    'data_type': 'uint16'}],\n",
       "  'eo:cloud_cover': 0.11,\n",
       "  'instruments': ['OLI'],\n",
       "  'platform': 'Landsat-8'},\n",
       " 'assets': {'ANG': {'href': 'https://brazildatacube.dpi.inpe.br/archive/optical/LC8_SR/2020-07/220069/LC08_L1TP_220069_20200709_20200721_01_T1_ANG.txt?access_token=nZ97OpESX5DTWuFhkh3aZ3o4g4vBGocxz7Gzju3twv',\n",
       "   'type': 'text/plain',\n",
       "   'roles': ['data'],\n",
       "   'created': '2020-11-22T11:17:42',\n",
       "   'updated': '2020-11-22T11:17:42',\n",
       "   'bdc:size': 117248,\n",
       "   'checksum:multihash': '12203eb5e892f662ce3eb28002028f9435fb10387a3a507757a281d92bf76c216b40'},\n",
       "  'MTL': {'href': 'https://brazildatacube.dpi.inpe.br/archive/optical/LC8_SR/2020-07/220069/LC08_L1TP_220069_20200709_20200721_01_T1_MTL.txt?access_token=nZ97OpESX5DTWuFhkh3aZ3o4g4vBGocxz7Gzju3twv',\n",
       "   'type': 'text/plain',\n",
       "   'roles': ['data'],\n",
       "   'created': '2020-11-22T11:17:42',\n",
       "   'updated': '2020-11-22T11:17:42',\n",
       "   'bdc:size': 8708,\n",
       "   'checksum:multihash': '12204f9bec2d81ab454ba16f4606753cbe697dfd7b3e5abcf6eecca52edb2b15207f'},\n",
       "  'Fmask4': {'href': 'https://brazildatacube.dpi.inpe.br/archive/optical/LC8_SR/2020-07/220069/LC08_L1TP_220069_20200709_20200721_01_T1_Fmask4.tif?access_token=nZ97OpESX5DTWuFhkh3aZ3o4g4vBGocxz7Gzju3twv',\n",
       "   'type': 'image/tiff; application=geotiff; profile=cloud-optimized',\n",
       "   'roles': ['data'],\n",
       "   'created': '2020-09-16T10:49:01',\n",
       "   'updated': '2020-09-16T10:49:01',\n",
       "   'bdc:size': 658566,\n",
       "   'bdc:chunk_size': {'x': 512, 'y': 512},\n",
       "   'bdc:raster_size': {'x': 7601, 'y': 7731},\n",
       "   'checksum:multihash': '12209624a3c132ba52a7e60e92417c08087d0ede47b1392b0f5e929c4c735d41f606',\n",
       "   'eo:bands': [9]},\n",
       "  'sr_evi': {'href': 'https://brazildatacube.dpi.inpe.br/archive/optical/LC8_SR/2020-07/220069/LC08_L1TP_220069_20200709_20200721_01_T1_sr_evi.tif?access_token=nZ97OpESX5DTWuFhkh3aZ3o4g4vBGocxz7Gzju3twv',\n",
       "   'type': 'image/tiff; application=geotiff; profile=cloud-optimized',\n",
       "   'roles': ['data'],\n",
       "   'created': '2020-09-16T10:49:02',\n",
       "   'updated': '2020-09-16T10:49:02',\n",
       "   'bdc:size': 113557282,\n",
       "   'bdc:chunk_size': {'x': 512, 'y': 512},\n",
       "   'bdc:raster_size': {'x': 7601, 'y': 7731},\n",
       "   'checksum:multihash': '122062ab51c75019b5c0e8c10e3a47f60ee88ca94fe1385efc9b1dbf1da02ddddb82',\n",
       "   'eo:bands': [1]},\n",
       "  'sr_ndvi': {'href': 'https://brazildatacube.dpi.inpe.br/archive/optical/LC8_SR/2020-07/220069/LC08_L1TP_220069_20200709_20200721_01_T1_sr_ndvi.tif?access_token=nZ97OpESX5DTWuFhkh3aZ3o4g4vBGocxz7Gzju3twv',\n",
       "   'type': 'image/tiff; application=geotiff; profile=cloud-optimized',\n",
       "   'roles': ['data'],\n",
       "   'created': '2020-09-16T10:49:01',\n",
       "   'updated': '2020-09-16T10:49:01',\n",
       "   'bdc:size': 124166092,\n",
       "   'bdc:chunk_size': {'x': 512, 'y': 512},\n",
       "   'bdc:raster_size': {'x': 7601, 'y': 7731},\n",
       "   'checksum:multihash': '122022dfb88a3b7c3eeabda63251d8de6903eba1e9ce0267b1eb66de6bd7b10cb669',\n",
       "   'eo:bands': [2]},\n",
       "  'sr_band1': {'href': 'https://brazildatacube.dpi.inpe.br/archive/optical/LC8_SR/2020-07/220069/LC08_L1TP_220069_20200709_20200721_01_T1_sr_band1.tif?access_token=nZ97OpESX5DTWuFhkh3aZ3o4g4vBGocxz7Gzju3twv',\n",
       "   'type': 'image/tiff; application=geotiff; profile=cloud-optimized',\n",
       "   'roles': ['data'],\n",
       "   'created': '2020-09-16T10:48:58',\n",
       "   'updated': '2020-09-16T10:48:58',\n",
       "   'bdc:size': 80103261,\n",
       "   'bdc:chunk_size': {'x': 512, 'y': 512},\n",
       "   'bdc:raster_size': {'x': 7601, 'y': 7731},\n",
       "   'checksum:multihash': '1220fdbfbe953aceaed0473c1097253eb2c03c7d464a5f8d7033d74868e4dd74aeb2',\n",
       "   'eo:bands': [3]},\n",
       "  'sr_band2': {'href': 'https://brazildatacube.dpi.inpe.br/archive/optical/LC8_SR/2020-07/220069/LC08_L1TP_220069_20200709_20200721_01_T1_sr_band2.tif?access_token=nZ97OpESX5DTWuFhkh3aZ3o4g4vBGocxz7Gzju3twv',\n",
       "   'type': 'image/tiff; application=geotiff; profile=cloud-optimized',\n",
       "   'roles': ['data'],\n",
       "   'created': '2020-09-16T10:48:58',\n",
       "   'updated': '2020-09-16T10:48:58',\n",
       "   'bdc:size': 82233077,\n",
       "   'bdc:chunk_size': {'x': 512, 'y': 512},\n",
       "   'bdc:raster_size': {'x': 7601, 'y': 7731},\n",
       "   'checksum:multihash': '122014c87af4f75cafc5cfa1144dac0a4dc5063b234681ce60f7700ab6542c250347',\n",
       "   'eo:bands': [0]},\n",
       "  'sr_band3': {'href': 'https://brazildatacube.dpi.inpe.br/archive/optical/LC8_SR/2020-07/220069/LC08_L1TP_220069_20200709_20200721_01_T1_sr_band3.tif?access_token=nZ97OpESX5DTWuFhkh3aZ3o4g4vBGocxz7Gzju3twv',\n",
       "   'type': 'image/tiff; application=geotiff; profile=cloud-optimized',\n",
       "   'roles': ['data'],\n",
       "   'created': '2020-09-16T10:48:59',\n",
       "   'updated': '2020-09-16T10:48:59',\n",
       "   'bdc:size': 87306138,\n",
       "   'bdc:chunk_size': {'x': 512, 'y': 512},\n",
       "   'bdc:raster_size': {'x': 7601, 'y': 7731},\n",
       "   'checksum:multihash': '1220fb584ba0d6d1ea3b8f6473013931d689c671bbbffc1cfa3c00b2d565172c08d2',\n",
       "   'eo:bands': [4]},\n",
       "  'sr_band4': {'href': 'https://brazildatacube.dpi.inpe.br/archive/optical/LC8_SR/2020-07/220069/LC08_L1TP_220069_20200709_20200721_01_T1_sr_band4.tif?access_token=nZ97OpESX5DTWuFhkh3aZ3o4g4vBGocxz7Gzju3twv',\n",
       "   'type': 'image/tiff; application=geotiff; profile=cloud-optimized',\n",
       "   'roles': ['data'],\n",
       "   'created': '2020-09-16T10:48:59',\n",
       "   'updated': '2020-09-16T10:48:59',\n",
       "   'bdc:size': 95042370,\n",
       "   'bdc:chunk_size': {'x': 512, 'y': 512},\n",
       "   'bdc:raster_size': {'x': 7601, 'y': 7731},\n",
       "   'checksum:multihash': '1220827f345dcc82e2b0c9a7ae54c727c99f57592ff6df67e5cd90525d45e7afbaa4',\n",
       "   'eo:bands': [5]},\n",
       "  'sr_band5': {'href': 'https://brazildatacube.dpi.inpe.br/archive/optical/LC8_SR/2020-07/220069/LC08_L1TP_220069_20200709_20200721_01_T1_sr_band5.tif?access_token=nZ97OpESX5DTWuFhkh3aZ3o4g4vBGocxz7Gzju3twv',\n",
       "   'type': 'image/tiff; application=geotiff; profile=cloud-optimized',\n",
       "   'roles': ['data'],\n",
       "   'created': '2020-09-16T10:49:00',\n",
       "   'updated': '2020-09-16T10:49:00',\n",
       "   'bdc:size': 100736721,\n",
       "   'bdc:chunk_size': {'x': 512, 'y': 512},\n",
       "   'bdc:raster_size': {'x': 7601, 'y': 7731},\n",
       "   'checksum:multihash': '1220745d1f3a023da8fbbd16985d8b9460f061833ca11978a2d31ef8d46276828b08',\n",
       "   'eo:bands': [6]},\n",
       "  'sr_band6': {'href': 'https://brazildatacube.dpi.inpe.br/archive/optical/LC8_SR/2020-07/220069/LC08_L1TP_220069_20200709_20200721_01_T1_sr_band6.tif?access_token=nZ97OpESX5DTWuFhkh3aZ3o4g4vBGocxz7Gzju3twv',\n",
       "   'type': 'image/tiff; application=geotiff; profile=cloud-optimized',\n",
       "   'roles': ['data'],\n",
       "   'created': '2020-09-16T10:49:00',\n",
       "   'updated': '2020-09-16T10:49:00',\n",
       "   'bdc:size': 107641024,\n",
       "   'bdc:chunk_size': {'x': 512, 'y': 512},\n",
       "   'bdc:raster_size': {'x': 7601, 'y': 7731},\n",
       "   'checksum:multihash': '12205ea243c199d6bb96190431cb2c45ae3e202646efa66386eba00e2b05f20685f8',\n",
       "   'eo:bands': [7]},\n",
       "  'sr_band7': {'href': 'https://brazildatacube.dpi.inpe.br/archive/optical/LC8_SR/2020-07/220069/LC08_L1TP_220069_20200709_20200721_01_T1_sr_band7.tif?access_token=nZ97OpESX5DTWuFhkh3aZ3o4g4vBGocxz7Gzju3twv',\n",
       "   'type': 'image/tiff; application=geotiff; profile=cloud-optimized',\n",
       "   'roles': ['data'],\n",
       "   'created': '2020-09-16T10:49:01',\n",
       "   'updated': '2020-09-16T10:49:01',\n",
       "   'bdc:size': 104008058,\n",
       "   'bdc:chunk_size': {'x': 512, 'y': 512},\n",
       "   'bdc:raster_size': {'x': 7601, 'y': 7731},\n",
       "   'checksum:multihash': '1220eb277d5940a399e5a61df64da6cf767773d53d42f34c9fa8a2195b79c376e4f0',\n",
       "   'eo:bands': [8]},\n",
       "  'radsat_qa': {'href': 'https://brazildatacube.dpi.inpe.br/archive/optical/LC8_SR/2020-07/220069/LC08_L1TP_220069_20200709_20200721_01_T1_radsat_qa.tif?access_token=nZ97OpESX5DTWuFhkh3aZ3o4g4vBGocxz7Gzju3twv',\n",
       "   'type': 'image/tiff',\n",
       "   'roles': ['data'],\n",
       "   'created': '2020-11-22T11:17:43',\n",
       "   'updated': '2020-11-22T11:17:43',\n",
       "   'bdc:size': 2442057,\n",
       "   'bdc:raster_size': {'x': 7601, 'y': 7731},\n",
       "   'checksum:multihash': '122043b353fa98deee123e6afd9380617170e8d2a83ff2c6618248e5548fedb5dc15',\n",
       "   'eo:bands': [12]},\n",
       "  'thumbnail': {'href': 'https://brazildatacube.dpi.inpe.br/archive/optical/LC8_SR/2020-07/220069/LC08_L1TP_220069_20200709_20200721_01_T1.png?access_token=nZ97OpESX5DTWuFhkh3aZ3o4g4vBGocxz7Gzju3twv',\n",
       "   'type': 'image/png',\n",
       "   'roles': ['thumbnail'],\n",
       "   'created': '2020-09-16T10:48:55',\n",
       "   'updated': '2020-09-16T10:48:55',\n",
       "   'bdc:size': 920552,\n",
       "   'checksum:multihash': '122081a5559f64ad13aecedd4fe0dbfa0b1c5c08ad9649f325643f196d51692952c7'},\n",
       "  'sr_aerosol': {'href': 'https://brazildatacube.dpi.inpe.br/archive/optical/LC8_SR/2020-07/220069/LC08_L1TP_220069_20200709_20200721_01_T1_sr_aerosol.tif?access_token=nZ97OpESX5DTWuFhkh3aZ3o4g4vBGocxz7Gzju3twv',\n",
       "   'type': 'image/tiff',\n",
       "   'roles': ['data'],\n",
       "   'created': '2020-11-22T11:17:44',\n",
       "   'updated': '2020-11-22T11:17:44',\n",
       "   'bdc:size': 2470394,\n",
       "   'bdc:raster_size': {'x': 7601, 'y': 7731},\n",
       "   'checksum:multihash': '122053606acb2dd50bb36a938c815d01c3756b650efd60619f5b7904503fd172bde8',\n",
       "   'eo:bands': [10]},\n",
       "  'solar_zenith_band4': {'href': 'https://brazildatacube.dpi.inpe.br/archive/optical/LC8_SR/2020-07/220069/LC08_L1TP_220069_20200709_20200721_01_T1_solar_zenith_band4.tif?access_token=nZ97OpESX5DTWuFhkh3aZ3o4g4vBGocxz7Gzju3twv',\n",
       "   'type': 'image/tiff',\n",
       "   'roles': ['data'],\n",
       "   'created': '2020-11-22T11:17:54',\n",
       "   'updated': '2020-11-22T11:17:54',\n",
       "   'bdc:size': 21005897,\n",
       "   'bdc:raster_size': {'x': 7601, 'y': 7731},\n",
       "   'checksum:multihash': '12205473f4da208e7ee12806c7b509c65a04d0ca745319ea848dbce93980294fc2d0'},\n",
       "  'sensor_zenith_band4': {'href': 'https://brazildatacube.dpi.inpe.br/archive/optical/LC8_SR/2020-07/220069/LC08_L1TP_220069_20200709_20200721_01_T1_sensor_zenith_band4.tif?access_token=nZ97OpESX5DTWuFhkh3aZ3o4g4vBGocxz7Gzju3twv',\n",
       "   'type': 'image/tiff',\n",
       "   'roles': ['data'],\n",
       "   'created': '2020-11-22T11:17:50',\n",
       "   'updated': '2020-11-22T11:17:50',\n",
       "   'bdc:size': 62689402,\n",
       "   'bdc:raster_size': {'x': 7601, 'y': 7731},\n",
       "   'checksum:multihash': '1220676084e2df9647f5fe7ace1fafa441ccbd2697ca8c9582d5eeec2ba7f6cc243d'},\n",
       "  'solar_azimuth_band4': {'href': 'https://brazildatacube.dpi.inpe.br/archive/optical/LC8_SR/2020-07/220069/LC08_L1TP_220069_20200709_20200721_01_T1_solar_azimuth_band4.tif?access_token=nZ97OpESX5DTWuFhkh3aZ3o4g4vBGocxz7Gzju3twv',\n",
       "   'type': 'image/tiff',\n",
       "   'roles': ['data'],\n",
       "   'created': '2020-11-22T11:17:52',\n",
       "   'updated': '2020-11-22T11:17:52',\n",
       "   'bdc:size': 25742592,\n",
       "   'bdc:raster_size': {'x': 7601, 'y': 7731},\n",
       "   'checksum:multihash': '12202d72670773ba90411e9059a2ae1c8a5de1e1a986a528eb9fa2b192a87347bc56'},\n",
       "  'sensor_azimuth_band4': {'href': 'https://brazildatacube.dpi.inpe.br/archive/optical/LC8_SR/2020-07/220069/LC08_L1TP_220069_20200709_20200721_01_T1_sensor_azimuth_band4.tif?access_token=nZ97OpESX5DTWuFhkh3aZ3o4g4vBGocxz7Gzju3twv',\n",
       "   'type': 'image/tiff',\n",
       "   'roles': ['data'],\n",
       "   'created': '2020-11-22T11:17:47',\n",
       "   'updated': '2020-11-22T11:17:47',\n",
       "   'bdc:size': 83647156,\n",
       "   'bdc:raster_size': {'x': 7601, 'y': 7731},\n",
       "   'checksum:multihash': '122071e7647156eeb27d20ff3e968d2b018a3e5cb68c681fd298f9a8830b66fb0435'}},\n",
       " 'links': [{'href': 'https://brazildatacube.dpi.inpe.br/stac/collections/LC8_SR-1/items/LC08_L1TP_220069_20200709_20200721_01_T1?access_token=nZ97OpESX5DTWuFhkh3aZ3o4g4vBGocxz7Gzju3twv',\n",
       "   'rel': 'self',\n",
       "   'type': 'application/json',\n",
       "   'title': 'Link to this document'},\n",
       "  {'href': 'https://brazildatacube.dpi.inpe.br/stac/collections/LC8_SR-1?access_token=nZ97OpESX5DTWuFhkh3aZ3o4g4vBGocxz7Gzju3twv',\n",
       "   'rel': 'parent',\n",
       "   'type': 'application/json',\n",
       "   'title': 'The collection related to this item'},\n",
       "  {'href': 'https://brazildatacube.dpi.inpe.br/stac/collections/LC8_SR-1?access_token=nZ97OpESX5DTWuFhkh3aZ3o4g4vBGocxz7Gzju3twv',\n",
       "   'rel': 'collection',\n",
       "   'type': 'application/json',\n",
       "   'title': 'The collection related to this item'},\n",
       "  {'href': 'https://brazildatacube.dpi.inpe.br/stac/',\n",
       "   'rel': 'root',\n",
       "   'type': 'application/json',\n",
       "   'title': 'API landing page (root catalog)'}]}"
      ]
     },
     "execution_count": 22,
     "metadata": {},
     "output_type": "execute_result"
    }
   ],
   "source": [
    "item"
   ]
  },
  {
   "cell_type": "code",
   "execution_count": 14,
   "id": "841c0024",
   "metadata": {},
   "outputs": [],
   "source": [
    "# item['assets']['asset']['href'].split('/')[-1].split('?')[0]"
   ]
  },
  {
   "cell_type": "code",
   "execution_count": 15,
   "id": "f0a37660",
   "metadata": {},
   "outputs": [],
   "source": [
    "# for item in items:\n",
    "#     print(item['properties']['bdc:tiles'][0])\n",
    "#     break"
   ]
  },
  {
   "cell_type": "code",
   "execution_count": 16,
   "id": "ffb47d29",
   "metadata": {},
   "outputs": [],
   "source": [
    "# assets = item.assets\n",
    "# asset = assets['sr_ndvi']"
   ]
  },
  {
   "cell_type": "code",
   "execution_count": 17,
   "id": "f0bfb469",
   "metadata": {},
   "outputs": [],
   "source": [
    "# asset.download('/home/bruno/Área de Trabalho/tests_library/BDC_Landsat')"
   ]
  },
  {
   "cell_type": "code",
   "execution_count": 18,
   "id": "8ddd0deb",
   "metadata": {},
   "outputs": [],
   "source": [
    "# assets.items()"
   ]
  },
  {
   "cell_type": "code",
   "execution_count": 19,
   "id": "8f00edc0",
   "metadata": {},
   "outputs": [],
   "source": [
    "# import os\n",
    "# path = '/home/bruno/Documentos/GitHub/tsmapping/aux'\n",
    "# os.path.exists('/home/bruno/Documentos/GitHub/tsmapping/aux/landsat_grid.shp')"
   ]
  }
 ],
 "metadata": {
  "kernelspec": {
   "display_name": "Python 3",
   "language": "python",
   "name": "python3"
  },
  "language_info": {
   "codemirror_mode": {
    "name": "ipython",
    "version": 3
   },
   "file_extension": ".py",
   "mimetype": "text/x-python",
   "name": "python",
   "nbconvert_exporter": "python",
   "pygments_lexer": "ipython3",
   "version": "3.9.7"
  }
 },
 "nbformat": 4,
 "nbformat_minor": 5
}
