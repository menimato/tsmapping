{
 "cells": [
  {
   "cell_type": "code",
   "execution_count": 1,
   "id": "91dc11a1-9735-4c39-9ed5-883a59d26e7d",
   "metadata": {},
   "outputs": [
    {
     "name": "stdout",
     "output_type": "stream",
     "text": [
      "- Download Images from BDC -\n"
     ]
    },
    {
     "ename": "HTTPError",
     "evalue": "405 Client Error: METHOD NOT ALLOWED for url: https://brazildatacube.dpi.inpe.br/stac/collections/S2_L2A-1/items?access_token=nZ97OpESX5DTWuFhkh3aZ3o4g4vBGocxz7Gzju3twv",
     "output_type": "error",
     "traceback": [
      "\u001b[0;31m---------------------------------------------------------------------------\u001b[0m",
      "\u001b[0;31mHTTPError\u001b[0m                                 Traceback (most recent call last)",
      "\u001b[0;32m<ipython-input-1-bfbaed509b31>\u001b[0m in \u001b[0;36m<module>\u001b[0;34m\u001b[0m\n\u001b[1;32m     13\u001b[0m                                    \u001b[0mwkt\u001b[0m \u001b[0;34m=\u001b[0m \u001b[0;34m'POLYGON((-39.48373013372596 -7.041550186408128,-39.20357876653846 -7.041550186408128,-39.20083218450721 -8.37246548856633,-40.83504849310096 -8.380617333542247,-40.82680874700721 -8.116955370771723,-39.52767544622596 -8.114236295023925,-39.48373013372596 -7.041550186408128))'\u001b[0m\u001b[0;34m,\u001b[0m\u001b[0;34m\u001b[0m\u001b[0;34m\u001b[0m\u001b[0m\n\u001b[1;32m     14\u001b[0m                                    \u001b[0mcollection\u001b[0m\u001b[0;34m=\u001b[0m\u001b[0;34m'S2_L2A-1'\u001b[0m\u001b[0;34m,\u001b[0m\u001b[0;34m\u001b[0m\u001b[0;34m\u001b[0m\u001b[0m\n\u001b[0;32m---> 15\u001b[0;31m                                    bands=['B08'])\n\u001b[0m",
      "\u001b[0;32m~/Documentos/GitHub/tsmapping/cube.py\u001b[0m in \u001b[0;36mdownload_images_BDC\u001b[0;34m(save_folder, bands, access_token, start_date, end_date, wkt, grid_images, collection)\u001b[0m\n\u001b[1;32m    365\u001b[0m             \u001b[0mgeom\u001b[0m \u001b[0;34m=\u001b[0m \u001b[0mwkt_\u001b[0m\u001b[0;34m.\u001b[0m\u001b[0mloads\u001b[0m\u001b[0;34m(\u001b[0m\u001b[0mwkt\u001b[0m\u001b[0;34m)\u001b[0m\u001b[0;34m\u001b[0m\u001b[0;34m\u001b[0m\u001b[0m\n\u001b[1;32m    366\u001b[0m             items = collection_.get_items(\n\u001b[0;32m--> 367\u001b[0;31m                 \u001b[0mfilter\u001b[0m \u001b[0;34m=\u001b[0m \u001b[0mdict\u001b[0m\u001b[0;34m(\u001b[0m\u001b[0mintersects\u001b[0m\u001b[0;34m=\u001b[0m\u001b[0mshapely\u001b[0m\u001b[0;34m.\u001b[0m\u001b[0mgeometry\u001b[0m\u001b[0;34m.\u001b[0m\u001b[0mmapping\u001b[0m\u001b[0;34m(\u001b[0m\u001b[0mgeom\u001b[0m\u001b[0;34m)\u001b[0m\u001b[0;34m)\u001b[0m\u001b[0;34m\u001b[0m\u001b[0;34m\u001b[0m\u001b[0m\n\u001b[0m\u001b[1;32m    368\u001b[0m                     \u001b[0;31m# filter={\u001b[0m\u001b[0;34m\u001b[0m\u001b[0;34m\u001b[0m\u001b[0;34m\u001b[0m\u001b[0m\n\u001b[1;32m    369\u001b[0m                     \u001b[0;31m#         'wkt':wkt,\u001b[0m\u001b[0;34m\u001b[0m\u001b[0;34m\u001b[0m\u001b[0;34m\u001b[0m\u001b[0m\n",
      "\u001b[0;32m~/anaconda3/envs/rsgis/lib/python3.7/site-packages/stac/collection.py\u001b[0m in \u001b[0;36mget_items\u001b[0;34m(self, item_id, filter)\u001b[0m\n\u001b[1;32m    171\u001b[0m                     \u001b[0mdata\u001b[0m \u001b[0;34m=\u001b[0m \u001b[0mUtils\u001b[0m\u001b[0;34m.\u001b[0m\u001b[0m_get\u001b[0m\u001b[0;34m(\u001b[0m\u001b[0;34mf'{link[\"href\"]}/{item_id}'\u001b[0m\u001b[0;34m)\u001b[0m\u001b[0;34m\u001b[0m\u001b[0;34m\u001b[0m\u001b[0m\n\u001b[1;32m    172\u001b[0m                     \u001b[0;32mreturn\u001b[0m \u001b[0mItem\u001b[0m\u001b[0;34m(\u001b[0m\u001b[0mdata\u001b[0m\u001b[0;34m,\u001b[0m \u001b[0mself\u001b[0m\u001b[0;34m.\u001b[0m\u001b[0m_validate\u001b[0m\u001b[0;34m)\u001b[0m\u001b[0;34m\u001b[0m\u001b[0;34m\u001b[0m\u001b[0m\n\u001b[0;32m--> 173\u001b[0;31m                 \u001b[0mdata\u001b[0m \u001b[0;34m=\u001b[0m \u001b[0mUtils\u001b[0m\u001b[0;34m.\u001b[0m\u001b[0m_get\u001b[0m\u001b[0;34m(\u001b[0m\u001b[0;34mf'{link[\"href\"]}'\u001b[0m\u001b[0;34m,\u001b[0m \u001b[0mparams\u001b[0m\u001b[0;34m=\u001b[0m\u001b[0mfilter\u001b[0m\u001b[0;34m)\u001b[0m\u001b[0;34m\u001b[0m\u001b[0;34m\u001b[0m\u001b[0m\n\u001b[0m\u001b[1;32m    174\u001b[0m                 \u001b[0;32mreturn\u001b[0m \u001b[0mItemCollection\u001b[0m\u001b[0;34m(\u001b[0m\u001b[0mdata\u001b[0m\u001b[0;34m)\u001b[0m\u001b[0;34m\u001b[0m\u001b[0;34m\u001b[0m\u001b[0m\n\u001b[1;32m    175\u001b[0m         \u001b[0;32mreturn\u001b[0m \u001b[0mItemCollection\u001b[0m\u001b[0;34m(\u001b[0m\u001b[0;34m{\u001b[0m\u001b[0;34m}\u001b[0m\u001b[0;34m)\u001b[0m\u001b[0;34m\u001b[0m\u001b[0;34m\u001b[0m\u001b[0m\n",
      "\u001b[0;32m~/anaconda3/envs/rsgis/lib/python3.7/site-packages/stac/utils.py\u001b[0m in \u001b[0;36m_get\u001b[0;34m(url, params)\u001b[0m\n\u001b[1;32m     56\u001b[0m             \u001b[0mresponse\u001b[0m \u001b[0;34m=\u001b[0m \u001b[0mrequests\u001b[0m\u001b[0;34m.\u001b[0m\u001b[0mget\u001b[0m\u001b[0;34m(\u001b[0m\u001b[0murl\u001b[0m\u001b[0;34m)\u001b[0m\u001b[0;34m\u001b[0m\u001b[0;34m\u001b[0m\u001b[0m\n\u001b[1;32m     57\u001b[0m \u001b[0;34m\u001b[0m\u001b[0m\n\u001b[0;32m---> 58\u001b[0;31m         \u001b[0mresponse\u001b[0m\u001b[0;34m.\u001b[0m\u001b[0mraise_for_status\u001b[0m\u001b[0;34m(\u001b[0m\u001b[0;34m)\u001b[0m\u001b[0;34m\u001b[0m\u001b[0;34m\u001b[0m\u001b[0m\n\u001b[0m\u001b[1;32m     59\u001b[0m \u001b[0;34m\u001b[0m\u001b[0m\n\u001b[1;32m     60\u001b[0m         \u001b[0mcontent_type\u001b[0m \u001b[0;34m=\u001b[0m \u001b[0mresponse\u001b[0m\u001b[0;34m.\u001b[0m\u001b[0mheaders\u001b[0m\u001b[0;34m.\u001b[0m\u001b[0mget\u001b[0m\u001b[0;34m(\u001b[0m\u001b[0;34m'content-type'\u001b[0m\u001b[0;34m)\u001b[0m\u001b[0;34m\u001b[0m\u001b[0;34m\u001b[0m\u001b[0m\n",
      "\u001b[0;32m~/anaconda3/envs/rsgis/lib/python3.7/site-packages/requests/models.py\u001b[0m in \u001b[0;36mraise_for_status\u001b[0;34m(self)\u001b[0m\n\u001b[1;32m    941\u001b[0m \u001b[0;34m\u001b[0m\u001b[0m\n\u001b[1;32m    942\u001b[0m         \u001b[0;32mif\u001b[0m \u001b[0mhttp_error_msg\u001b[0m\u001b[0;34m:\u001b[0m\u001b[0;34m\u001b[0m\u001b[0;34m\u001b[0m\u001b[0m\n\u001b[0;32m--> 943\u001b[0;31m             \u001b[0;32mraise\u001b[0m \u001b[0mHTTPError\u001b[0m\u001b[0;34m(\u001b[0m\u001b[0mhttp_error_msg\u001b[0m\u001b[0;34m,\u001b[0m \u001b[0mresponse\u001b[0m\u001b[0;34m=\u001b[0m\u001b[0mself\u001b[0m\u001b[0;34m)\u001b[0m\u001b[0;34m\u001b[0m\u001b[0;34m\u001b[0m\u001b[0m\n\u001b[0m\u001b[1;32m    944\u001b[0m \u001b[0;34m\u001b[0m\u001b[0m\n\u001b[1;32m    945\u001b[0m     \u001b[0;32mdef\u001b[0m \u001b[0mclose\u001b[0m\u001b[0;34m(\u001b[0m\u001b[0mself\u001b[0m\u001b[0;34m)\u001b[0m\u001b[0;34m:\u001b[0m\u001b[0;34m\u001b[0m\u001b[0;34m\u001b[0m\u001b[0m\n",
      "\u001b[0;31mHTTPError\u001b[0m: 405 Client Error: METHOD NOT ALLOWED for url: https://brazildatacube.dpi.inpe.br/stac/collections/S2_L2A-1/items?access_token=nZ97OpESX5DTWuFhkh3aZ3o4g4vBGocxz7Gzju3twv"
     ]
    }
   ],
   "source": [
    "import sys\n",
    "sys.path.insert(1, '../..')\n",
    "\n",
    "import tsmapping\n",
    "\n",
    "from tsmapping.cube import download_images_gcloud\n",
    "\n",
    "tsmapping.cube.download_images_BDC(access_token='nZ97OpESX5DTWuFhkh3aZ3o4g4vBGocxz7Gzju3twv',\n",
    "                                   start_date='2018-06-01',\n",
    "                                   save_folder='/home/bruno/Área de Trabalho/tests_library/BDC_Sentinel',\n",
    "                                   end_date='2018-07-17',\n",
    "                                   # grid_images=['23LLG'],\n",
    "                                   wkt = 'POLYGON((-39.48373013372596 -7.041550186408128,-39.20357876653846 -7.041550186408128,-39.20083218450721 -8.37246548856633,-40.83504849310096 -8.380617333542247,-40.82680874700721 -8.116955370771723,-39.52767544622596 -8.114236295023925,-39.48373013372596 -7.041550186408128))',\n",
    "                                   collection='S2_L2A-1',\n",
    "                                   bands=['B08'])"
   ]
  },
  {
   "cell_type": "code",
   "execution_count": null,
   "id": "0af00a4e-1707-4c9e-8186-dca3ed75f7b5",
   "metadata": {},
   "outputs": [],
   "source": [
    "# import sys\n",
    "# sys.path.insert(1, '../..')\n",
    "\n",
    "# import tsmapping"
   ]
  },
  {
   "cell_type": "code",
   "execution_count": null,
   "id": "0d939182",
   "metadata": {},
   "outputs": [],
   "source": [
    "# from tsmapping.cube import download_images_gcloud"
   ]
  },
  {
   "cell_type": "code",
   "execution_count": null,
   "id": "515f892c",
   "metadata": {},
   "outputs": [],
   "source": []
  },
  {
   "cell_type": "code",
   "execution_count": null,
   "id": "96b36a45-fa32-4dab-a729-0d76ce4d457f",
   "metadata": {},
   "outputs": [],
   "source": [
    "# tsmapping.cube.create_cubes_BDCLandsat(save_folder = '/home/bruno/Área de Trabalho/tests_library/cubos_landsat_barra_da_estiva',\n",
    "#                                        bands = ['sr_band2', 'sr_band3', 'sr_band4', 'sr_band5', 'sr_band6', 'sr_band7'],\n",
    "#                                        access_token = 'nZ97OpESX5DTWuFhkh3aZ3o4g4vBGocxz7Gzju3twv',\n",
    "#                                        start_date = '2019-06-01',\n",
    "#                                        end_date = '2020-07-01',\n",
    "#                                        delete_auxiliary=True,\n",
    "#                                        paths_rows = [[217, 69],\n",
    "#                                                      [217, 70]],\n",
    "#                                        proj4 = '\"+proj=aea +lat_0=-12 +lon_0=-54 +lat_1=-2 +lat_2=-22 +x_0=5000000 +y_0=10000000 +ellps=GRS80 +units=m +no_defs +type=crs\"', \n",
    "#                                        clip_shapefile_path = '/home/bruno/Documentos/Caatinga/barra_da_estiva_buffer.shp')"
   ]
  },
  {
   "cell_type": "code",
   "execution_count": null,
   "id": "46859cf3-d1f3-42eb-bf46-16084d197bc3",
   "metadata": {},
   "outputs": [],
   "source": [
    "# tsmapping.cube.update_metadata(save_folder='/home/bruno/Documentos/Caatinga/metadata', metadata='Landsat')"
   ]
  },
  {
   "cell_type": "code",
   "execution_count": null,
   "id": "0747832c-a08e-4b5a-84f8-1e97c55735dc",
   "metadata": {},
   "outputs": [],
   "source": [
    "# tsmapping.cube.create_cubes(save_folder = '/home/bruno/Área de Trabalho/imagens sentinel/LEM_Bahia',\n",
    "#                             metadata_path = '/home/bruno/Documentos/Caatinga/metadata/Sentinel2-L1.csv',\n",
    "#                             bands = ['B08'],\n",
    "#                             start_date = '2017-06-01',\n",
    "#                             end_date = '2017-06-06',\n",
    "#                             delete_auxiliary = True,\n",
    "#                             grid_images = {'number of paths': 1,\n",
    "#                                      'paths': {'path 1': {'key tile': '23LMG',\n",
    "#                                                           'tiles': ['23LLG', '23LMG']}}},\n",
    "#                             interval = 5,\n",
    "#                             proj4 = '\"+proj=aea +lat_0=-12 +lon_0=-54 +lat_1=-2 +lat_2=-22 +x_0=5000000 +y_0=10000000 +ellps=GRS80 +units=m +no_defs +type=crs\"',\n",
    "#                             clip_shapefile_path = '/home/bruno/Área de Trabalho/imagens sentinel/LEM_Bahia/reference_buffer.shp')"
   ]
  },
  {
   "cell_type": "code",
   "execution_count": 10,
   "id": "25b04c8c",
   "metadata": {},
   "outputs": [
    {
     "name": "stderr",
     "output_type": "stream",
     "text": [
      "/home/bruno/Documentos/ESA living planet/SR/LC08_L1TP_220069_20210829_20210909_01_T1_ANG.txt: 100%|██████████| 114k/114k [00:00<00:00, 3.07MB/s]\n",
      "/home/bruno/Documentos/ESA living planet/SR/LC08_L1TP_220069_20210829_20210909_01_T1_MTL.txt: 100%|██████████| 8.50k/8.50k [00:00<00:00, 3.54MB/s]\n",
      "/home/bruno/Documentos/ESA living planet/SR/LC08_L1TP_220069_20210829_20210909_01_T1_Fmask4.tif: 100%|██████████| 268k/268k [00:00<00:00, 3.73MB/s]\n",
      "/home/bruno/Documentos/ESA living planet/SR/LC08_L1TP_220069_20210829_20210909_01_T1_sr_evi.tif: 100%|██████████| 80.3M/80.3M [00:08<00:00, 10.0MB/s]\n",
      "/home/bruno/Documentos/ESA living planet/SR/LC08_L1TP_220069_20210829_20210909_01_T1_sr_ndvi.tif: 100%|██████████| 84.8M/84.8M [00:11<00:00, 7.82MB/s]\n",
      "/home/bruno/Documentos/ESA living planet/SR/LC08_L1TP_220069_20210829_20210909_01_T1_sr_band1.tif: 100%|██████████| 67.3M/67.3M [00:09<00:00, 7.55MB/s]\n",
      "/home/bruno/Documentos/ESA living planet/SR/LC08_L1TP_220069_20210829_20210909_01_T1_sr_band2.tif: 100%|██████████| 68.6M/68.6M [00:15<00:00, 4.65MB/s]\n",
      "/home/bruno/Documentos/ESA living planet/SR/LC08_L1TP_220069_20210829_20210909_01_T1_sr_band3.tif: 100%|██████████| 72.1M/72.1M [00:10<00:00, 7.46MB/s]\n",
      "/home/bruno/Documentos/ESA living planet/SR/LC08_L1TP_220069_20210829_20210909_01_T1_sr_band4.tif: 100%|██████████| 76.5M/76.5M [00:10<00:00, 7.48MB/s]\n",
      "/home/bruno/Documentos/ESA living planet/SR/LC08_L1TP_220069_20210829_20210909_01_T1_sr_band5.tif: 100%|██████████| 78.9M/78.9M [00:10<00:00, 8.10MB/s]\n",
      "/home/bruno/Documentos/ESA living planet/SR/LC08_L1TP_220069_20210829_20210909_01_T1_sr_band6.tif: 100%|██████████| 80.7M/80.7M [00:16<00:00, 5.25MB/s]\n",
      "/home/bruno/Documentos/ESA living planet/SR/LC08_L1TP_220069_20210829_20210909_01_T1_sr_band7.tif: 100%|██████████| 79.1M/79.1M [00:11<00:00, 7.21MB/s]\n",
      "/home/bruno/Documentos/ESA living planet/SR/LC08_L1TP_220069_20210829_20210909_01_T1_radsat_qa.tif: 100%|██████████| 426k/426k [00:00<00:00, 4.80MB/s]\n",
      "/home/bruno/Documentos/ESA living planet/SR/LC08_L1TP_220069_20210829_20210909_01_T1.png: 100%|██████████| 901k/901k [00:00<00:00, 5.72MB/s]\n",
      "/home/bruno/Documentos/ESA living planet/SR/LC08_L1TP_220069_20210829_20210909_01_T1_sr_aerosol.tif: 100%|██████████| 2.18M/2.18M [00:00<00:00, 4.06MB/s]\n",
      "/home/bruno/Documentos/ESA living planet/SR/LC08_L1TP_220069_20210813_20210819_01_T1_solar_zenith_band4.tif: 100%|██████████| 2.10M/2.10M [00:00<00:00, 4.06MB/s]\n",
      "/home/bruno/Documentos/ESA living planet/SR/LC08_L1TP_220069_20210829_20210909_01_T1_sensor_zenith_band4.tif: 100%|██████████| 18.5M/18.5M [00:03<00:00, 6.15MB/s]\n",
      "/home/bruno/Documentos/ESA living planet/SR/LC08_L1TP_220069_20210829_20210909_01_T1_solar_azimuth_band4.tif: 100%|██████████| 2.76M/2.76M [00:00<00:00, 5.10MB/s]\n",
      "/home/bruno/Documentos/ESA living planet/SR/LC08_L1TP_220069_20210829_20210909_01_T1_sensor_azimuth_band4.tif: 100%|██████████| 40.5M/40.5M [00:05<00:00, 7.39MB/s]\n",
      "/home/bruno/Documentos/ESA living planet/SR/LC08_L1TP_220069_20210813_20210819_01_T1_ANG.txt: 100%|██████████| 114k/114k [00:00<00:00, 3.52MB/s]\n",
      "/home/bruno/Documentos/ESA living planet/SR/LC08_L1TP_220069_20210813_20210819_01_T1_MTL.txt: 100%|██████████| 8.50k/8.50k [00:00<00:00, 2.28MB/s]\n",
      "/home/bruno/Documentos/ESA living planet/SR/LC08_L1TP_220069_20210813_20210819_01_T1_Fmask4.tif: 100%|██████████| 238k/238k [00:00<00:00, 4.48MB/s]\n",
      "/home/bruno/Documentos/ESA living planet/SR/LC08_L1TP_220069_20210813_20210819_01_T1_sr_evi.tif: 100%|██████████| 80.7M/80.7M [00:08<00:00, 10.2MB/s]\n",
      "/home/bruno/Documentos/ESA living planet/SR/LC08_L1TP_220069_20210813_20210819_01_T1_sr_ndvi.tif: 100%|██████████| 85.5M/85.5M [00:10<00:00, 8.89MB/s]\n",
      "/home/bruno/Documentos/ESA living planet/SR/LC08_L1TP_220069_20210813_20210819_01_T1_sr_band1.tif: 100%|██████████| 67.0M/67.0M [00:06<00:00, 10.3MB/s]\n",
      "/home/bruno/Documentos/ESA living planet/SR/LC08_L1TP_220069_20210813_20210819_01_T1_sr_band2.tif: 100%|██████████| 68.4M/68.4M [00:06<00:00, 11.5MB/s]\n",
      "/home/bruno/Documentos/ESA living planet/SR/LC08_L1TP_220069_20210813_20210819_01_T1_sr_band3.tif: 100%|██████████| 71.9M/71.9M [00:06<00:00, 11.8MB/s]\n",
      "/home/bruno/Documentos/ESA living planet/SR/LC08_L1TP_220069_20210813_20210819_01_T1_sr_band4.tif: 100%|██████████| 76.2M/76.2M [00:06<00:00, 12.3MB/s]\n",
      "/home/bruno/Documentos/ESA living planet/SR/LC08_L1TP_220069_20210813_20210819_01_T1_sr_band5.tif: 100%|██████████| 78.5M/78.5M [00:08<00:00, 9.19MB/s]\n",
      "/home/bruno/Documentos/ESA living planet/SR/LC08_L1TP_220069_20210813_20210819_01_T1_sr_band6.tif: 100%|██████████| 80.6M/80.6M [00:05<00:00, 14.9MB/s]\n",
      "/home/bruno/Documentos/ESA living planet/SR/LC08_L1TP_220069_20210813_20210819_01_T1_sr_band7.tif: 100%|██████████| 79.3M/79.3M [00:06<00:00, 13.3MB/s]\n",
      "/home/bruno/Documentos/ESA living planet/SR/LC08_L1TP_220069_20210813_20210819_01_T1_radsat_qa.tif: 100%|██████████| 426k/426k [00:00<00:00, 4.53MB/s]\n",
      "/home/bruno/Documentos/ESA living planet/SR/LC08_L1TP_220069_20210813_20210819_01_T1.png: 100%|██████████| 904k/904k [00:00<00:00, 4.87MB/s]\n",
      "/home/bruno/Documentos/ESA living planet/SR/LC08_L1TP_220069_20210813_20210819_01_T1_sr_aerosol.tif: 100%|██████████| 1.49M/1.49M [00:00<00:00, 5.52MB/s]\n",
      "/home/bruno/Documentos/ESA living planet/SR/LC08_L1TP_220069_20210813_20210819_01_T1_solar_zenith_band4.tif: 100%|██████████| 2.10M/2.10M [00:00<00:00, 6.23MB/s]\n",
      "/home/bruno/Documentos/ESA living planet/SR/LC08_L1TP_220069_20210813_20210819_01_T1_sensor_zenith_band4.tif: 100%|██████████| 18.5M/18.5M [00:02<00:00, 9.64MB/s]\n",
      "/home/bruno/Documentos/ESA living planet/SR/LC08_L1TP_220069_20210813_20210819_01_T1_solar_azimuth_band4.tif: 100%|██████████| 2.72M/2.72M [00:00<00:00, 5.03MB/s]\n",
      "/home/bruno/Documentos/ESA living planet/SR/LC08_L1TP_220069_20210813_20210819_01_T1_sensor_azimuth_band4.tif: 100%|██████████| 40.6M/40.6M [00:03<00:00, 11.3MB/s]\n",
      "/home/bruno/Documentos/ESA living planet/SR/LC08_L1TP_220069_20210728_20210804_01_T1_ANG.txt: 100%|██████████| 114k/114k [00:00<00:00, 3.13MB/s]\n",
      "/home/bruno/Documentos/ESA living planet/SR/LC08_L1TP_220069_20210728_20210804_01_T1_MTL.txt: 100%|██████████| 8.50k/8.50k [00:00<00:00, 7.41MB/s]\n",
      "/home/bruno/Documentos/ESA living planet/SR/LC08_L1TP_220069_20210728_20210804_01_T1_Fmask4.tif: 100%|██████████| 283k/283k [00:00<00:00, 1.47MB/s]\n",
      "/home/bruno/Documentos/ESA living planet/SR/LC08_L1TP_220069_20210728_20210804_01_T1_sr_evi.tif: 100%|██████████| 81.3M/81.3M [00:09<00:00, 9.42MB/s]\n",
      "/home/bruno/Documentos/ESA living planet/SR/LC08_L1TP_220069_20210728_20210804_01_T1_sr_ndvi.tif: 100%|██████████| 86.2M/86.2M [00:08<00:00, 10.4MB/s]\n",
      "/home/bruno/Documentos/ESA living planet/SR/LC08_L1TP_220069_20210728_20210804_01_T1_sr_band1.tif: 100%|██████████| 66.9M/66.9M [00:05<00:00, 12.5MB/s]\n",
      "/home/bruno/Documentos/ESA living planet/SR/LC08_L1TP_220069_20210728_20210804_01_T1_sr_band2.tif: 100%|██████████| 68.3M/68.3M [00:05<00:00, 12.5MB/s]\n",
      "/home/bruno/Documentos/ESA living planet/SR/LC08_L1TP_220069_20210728_20210804_01_T1_sr_band3.tif: 100%|██████████| 71.7M/71.7M [00:08<00:00, 8.86MB/s]\n",
      "/home/bruno/Documentos/ESA living planet/SR/LC08_L1TP_220069_20210728_20210804_01_T1_sr_band4.tif: 100%|██████████| 75.9M/75.9M [00:08<00:00, 9.16MB/s]\n",
      "/home/bruno/Documentos/ESA living planet/SR/LC08_L1TP_220069_20210728_20210804_01_T1_sr_band5.tif: 100%|██████████| 78.3M/78.3M [00:09<00:00, 8.53MB/s]\n",
      "/home/bruno/Documentos/ESA living planet/SR/LC08_L1TP_220069_20210728_20210804_01_T1_sr_band6.tif: 100%|██████████| 80.8M/80.8M [00:14<00:00, 6.02MB/s]\n",
      "/home/bruno/Documentos/ESA living planet/SR/LC08_L1TP_220069_20210728_20210804_01_T1_sr_band7.tif:  44%|████▍     | 34.9M/79.3M [00:04<00:06, 7.64MB/s]\n"
     ]
    },
    {
     "ename": "KeyboardInterrupt",
     "evalue": "",
     "output_type": "error",
     "traceback": [
      "\u001b[0;31m---------------------------------------------------------------------------\u001b[0m",
      "\u001b[0;31mKeyboardInterrupt\u001b[0m                         Traceback (most recent call last)",
      "\u001b[0;32m<ipython-input-10-4a71ea65fb8d>\u001b[0m in \u001b[0;36m<module>\u001b[0;34m\u001b[0m\n\u001b[1;32m     14\u001b[0m \u001b[0;34m\u001b[0m\u001b[0m\n\u001b[1;32m     15\u001b[0m \u001b[0;32mfor\u001b[0m \u001b[0mitem\u001b[0m \u001b[0;32min\u001b[0m \u001b[0mitems\u001b[0m\u001b[0;34m:\u001b[0m\u001b[0;34m\u001b[0m\u001b[0;34m\u001b[0m\u001b[0m\n\u001b[0;32m---> 16\u001b[0;31m     \u001b[0mitem\u001b[0m\u001b[0;34m.\u001b[0m\u001b[0mdownload\u001b[0m\u001b[0;34m(\u001b[0m\u001b[0;34m'/home/bruno/Documentos/ESA living planet/SR'\u001b[0m\u001b[0;34m)\u001b[0m\u001b[0;34m\u001b[0m\u001b[0;34m\u001b[0m\u001b[0m\n\u001b[0m",
      "\u001b[0;32m~/anaconda3/envs/rsgis/lib/python3.7/site-packages/stac/item.py\u001b[0m in \u001b[0;36mdownload\u001b[0;34m(self, dir)\u001b[0m\n\u001b[1;32m    223\u001b[0m         \u001b[0moutput\u001b[0m \u001b[0;34m=\u001b[0m \u001b[0mdict\u001b[0m\u001b[0;34m(\u001b[0m\u001b[0;34m)\u001b[0m\u001b[0;34m\u001b[0m\u001b[0;34m\u001b[0m\u001b[0m\n\u001b[1;32m    224\u001b[0m         \u001b[0;32mfor\u001b[0m \u001b[0masset_name\u001b[0m\u001b[0;34m,\u001b[0m \u001b[0masset\u001b[0m \u001b[0;32min\u001b[0m \u001b[0mself\u001b[0m\u001b[0;34m.\u001b[0m\u001b[0massets\u001b[0m\u001b[0;34m.\u001b[0m\u001b[0mitems\u001b[0m\u001b[0;34m(\u001b[0m\u001b[0;34m)\u001b[0m\u001b[0;34m:\u001b[0m\u001b[0;34m\u001b[0m\u001b[0;34m\u001b[0m\u001b[0m\n\u001b[0;32m--> 225\u001b[0;31m             \u001b[0moutput\u001b[0m\u001b[0;34m[\u001b[0m\u001b[0masset_name\u001b[0m\u001b[0;34m]\u001b[0m \u001b[0;34m=\u001b[0m \u001b[0masset\u001b[0m\u001b[0;34m.\u001b[0m\u001b[0mdownload\u001b[0m\u001b[0;34m(\u001b[0m\u001b[0mdir\u001b[0m\u001b[0;34m=\u001b[0m\u001b[0mdir\u001b[0m\u001b[0;34m)\u001b[0m\u001b[0;34m\u001b[0m\u001b[0;34m\u001b[0m\u001b[0m\n\u001b[0m\u001b[1;32m    226\u001b[0m \u001b[0;34m\u001b[0m\u001b[0m\n\u001b[1;32m    227\u001b[0m         \u001b[0;32mreturn\u001b[0m \u001b[0moutput\u001b[0m\u001b[0;34m\u001b[0m\u001b[0;34m\u001b[0m\u001b[0m\n",
      "\u001b[0;32m~/anaconda3/envs/rsgis/lib/python3.7/site-packages/stac/item.py\u001b[0m in \u001b[0;36mdownload\u001b[0;34m(self, dir)\u001b[0m\n\u001b[1;32m     68\u001b[0m                         \u001b[0mtotal\u001b[0m\u001b[0;34m=\u001b[0m\u001b[0mint\u001b[0m\u001b[0;34m(\u001b[0m\u001b[0mresponse\u001b[0m\u001b[0;34m.\u001b[0m\u001b[0mheaders\u001b[0m\u001b[0;34m.\u001b[0m\u001b[0mget\u001b[0m\u001b[0;34m(\u001b[0m\u001b[0;34m'content-length'\u001b[0m\u001b[0;34m,\u001b[0m \u001b[0;36m0\u001b[0m\u001b[0;34m)\u001b[0m\u001b[0;34m)\u001b[0m\u001b[0;34m,\u001b[0m\u001b[0;34m\u001b[0m\u001b[0;34m\u001b[0m\u001b[0m\n\u001b[1;32m     69\u001b[0m                         desc=filename) as fout:\n\u001b[0;32m---> 70\u001b[0;31m                 \u001b[0;32mfor\u001b[0m \u001b[0mchunk\u001b[0m \u001b[0;32min\u001b[0m \u001b[0mresponse\u001b[0m\u001b[0;34m.\u001b[0m\u001b[0miter_content\u001b[0m\u001b[0;34m(\u001b[0m\u001b[0mchunk_size\u001b[0m\u001b[0;34m=\u001b[0m\u001b[0;36m4096\u001b[0m\u001b[0;34m)\u001b[0m\u001b[0;34m:\u001b[0m\u001b[0;34m\u001b[0m\u001b[0;34m\u001b[0m\u001b[0m\n\u001b[0m\u001b[1;32m     71\u001b[0m                     \u001b[0mfout\u001b[0m\u001b[0;34m.\u001b[0m\u001b[0mwrite\u001b[0m\u001b[0;34m(\u001b[0m\u001b[0mchunk\u001b[0m\u001b[0;34m)\u001b[0m\u001b[0;34m\u001b[0m\u001b[0;34m\u001b[0m\u001b[0m\n\u001b[1;32m     72\u001b[0m \u001b[0;34m\u001b[0m\u001b[0m\n",
      "\u001b[0;32m~/anaconda3/envs/rsgis/lib/python3.7/site-packages/requests/models.py\u001b[0m in \u001b[0;36mgenerate\u001b[0;34m()\u001b[0m\n\u001b[1;32m    751\u001b[0m             \u001b[0;32mif\u001b[0m \u001b[0mhasattr\u001b[0m\u001b[0;34m(\u001b[0m\u001b[0mself\u001b[0m\u001b[0;34m.\u001b[0m\u001b[0mraw\u001b[0m\u001b[0;34m,\u001b[0m \u001b[0;34m'stream'\u001b[0m\u001b[0;34m)\u001b[0m\u001b[0;34m:\u001b[0m\u001b[0;34m\u001b[0m\u001b[0;34m\u001b[0m\u001b[0m\n\u001b[1;32m    752\u001b[0m                 \u001b[0;32mtry\u001b[0m\u001b[0;34m:\u001b[0m\u001b[0;34m\u001b[0m\u001b[0;34m\u001b[0m\u001b[0m\n\u001b[0;32m--> 753\u001b[0;31m                     \u001b[0;32mfor\u001b[0m \u001b[0mchunk\u001b[0m \u001b[0;32min\u001b[0m \u001b[0mself\u001b[0m\u001b[0;34m.\u001b[0m\u001b[0mraw\u001b[0m\u001b[0;34m.\u001b[0m\u001b[0mstream\u001b[0m\u001b[0;34m(\u001b[0m\u001b[0mchunk_size\u001b[0m\u001b[0;34m,\u001b[0m \u001b[0mdecode_content\u001b[0m\u001b[0;34m=\u001b[0m\u001b[0;32mTrue\u001b[0m\u001b[0;34m)\u001b[0m\u001b[0;34m:\u001b[0m\u001b[0;34m\u001b[0m\u001b[0;34m\u001b[0m\u001b[0m\n\u001b[0m\u001b[1;32m    754\u001b[0m                         \u001b[0;32myield\u001b[0m \u001b[0mchunk\u001b[0m\u001b[0;34m\u001b[0m\u001b[0;34m\u001b[0m\u001b[0m\n\u001b[1;32m    755\u001b[0m                 \u001b[0;32mexcept\u001b[0m \u001b[0mProtocolError\u001b[0m \u001b[0;32mas\u001b[0m \u001b[0me\u001b[0m\u001b[0;34m:\u001b[0m\u001b[0;34m\u001b[0m\u001b[0;34m\u001b[0m\u001b[0m\n",
      "\u001b[0;32m~/anaconda3/envs/rsgis/lib/python3.7/site-packages/urllib3/response.py\u001b[0m in \u001b[0;36mstream\u001b[0;34m(self, amt, decode_content)\u001b[0m\n\u001b[1;32m    574\u001b[0m         \u001b[0;32melse\u001b[0m\u001b[0;34m:\u001b[0m\u001b[0;34m\u001b[0m\u001b[0;34m\u001b[0m\u001b[0m\n\u001b[1;32m    575\u001b[0m             \u001b[0;32mwhile\u001b[0m \u001b[0;32mnot\u001b[0m \u001b[0mis_fp_closed\u001b[0m\u001b[0;34m(\u001b[0m\u001b[0mself\u001b[0m\u001b[0;34m.\u001b[0m\u001b[0m_fp\u001b[0m\u001b[0;34m)\u001b[0m\u001b[0;34m:\u001b[0m\u001b[0;34m\u001b[0m\u001b[0;34m\u001b[0m\u001b[0m\n\u001b[0;32m--> 576\u001b[0;31m                 \u001b[0mdata\u001b[0m \u001b[0;34m=\u001b[0m \u001b[0mself\u001b[0m\u001b[0;34m.\u001b[0m\u001b[0mread\u001b[0m\u001b[0;34m(\u001b[0m\u001b[0mamt\u001b[0m\u001b[0;34m=\u001b[0m\u001b[0mamt\u001b[0m\u001b[0;34m,\u001b[0m \u001b[0mdecode_content\u001b[0m\u001b[0;34m=\u001b[0m\u001b[0mdecode_content\u001b[0m\u001b[0;34m)\u001b[0m\u001b[0;34m\u001b[0m\u001b[0;34m\u001b[0m\u001b[0m\n\u001b[0m\u001b[1;32m    577\u001b[0m \u001b[0;34m\u001b[0m\u001b[0m\n\u001b[1;32m    578\u001b[0m                 \u001b[0;32mif\u001b[0m \u001b[0mdata\u001b[0m\u001b[0;34m:\u001b[0m\u001b[0;34m\u001b[0m\u001b[0;34m\u001b[0m\u001b[0m\n",
      "\u001b[0;32m~/anaconda3/envs/rsgis/lib/python3.7/site-packages/urllib3/response.py\u001b[0m in \u001b[0;36mread\u001b[0;34m(self, amt, decode_content, cache_content)\u001b[0m\n\u001b[1;32m    517\u001b[0m             \u001b[0;32melse\u001b[0m\u001b[0;34m:\u001b[0m\u001b[0;34m\u001b[0m\u001b[0;34m\u001b[0m\u001b[0m\n\u001b[1;32m    518\u001b[0m                 \u001b[0mcache_content\u001b[0m \u001b[0;34m=\u001b[0m \u001b[0;32mFalse\u001b[0m\u001b[0;34m\u001b[0m\u001b[0;34m\u001b[0m\u001b[0m\n\u001b[0;32m--> 519\u001b[0;31m                 \u001b[0mdata\u001b[0m \u001b[0;34m=\u001b[0m \u001b[0mself\u001b[0m\u001b[0;34m.\u001b[0m\u001b[0m_fp\u001b[0m\u001b[0;34m.\u001b[0m\u001b[0mread\u001b[0m\u001b[0;34m(\u001b[0m\u001b[0mamt\u001b[0m\u001b[0;34m)\u001b[0m \u001b[0;32mif\u001b[0m \u001b[0;32mnot\u001b[0m \u001b[0mfp_closed\u001b[0m \u001b[0;32melse\u001b[0m \u001b[0;34mb\"\"\u001b[0m\u001b[0;34m\u001b[0m\u001b[0;34m\u001b[0m\u001b[0m\n\u001b[0m\u001b[1;32m    520\u001b[0m                 if (\n\u001b[1;32m    521\u001b[0m                     \u001b[0mamt\u001b[0m \u001b[0;34m!=\u001b[0m \u001b[0;36m0\u001b[0m \u001b[0;32mand\u001b[0m \u001b[0;32mnot\u001b[0m \u001b[0mdata\u001b[0m\u001b[0;34m\u001b[0m\u001b[0;34m\u001b[0m\u001b[0m\n",
      "\u001b[0;32m~/anaconda3/envs/rsgis/lib/python3.7/http/client.py\u001b[0m in \u001b[0;36mread\u001b[0;34m(self, amt)\u001b[0m\n\u001b[1;32m    459\u001b[0m             \u001b[0;31m# Amount is given, implement using readinto\u001b[0m\u001b[0;34m\u001b[0m\u001b[0;34m\u001b[0m\u001b[0;34m\u001b[0m\u001b[0m\n\u001b[1;32m    460\u001b[0m             \u001b[0mb\u001b[0m \u001b[0;34m=\u001b[0m \u001b[0mbytearray\u001b[0m\u001b[0;34m(\u001b[0m\u001b[0mamt\u001b[0m\u001b[0;34m)\u001b[0m\u001b[0;34m\u001b[0m\u001b[0;34m\u001b[0m\u001b[0m\n\u001b[0;32m--> 461\u001b[0;31m             \u001b[0mn\u001b[0m \u001b[0;34m=\u001b[0m \u001b[0mself\u001b[0m\u001b[0;34m.\u001b[0m\u001b[0mreadinto\u001b[0m\u001b[0;34m(\u001b[0m\u001b[0mb\u001b[0m\u001b[0;34m)\u001b[0m\u001b[0;34m\u001b[0m\u001b[0;34m\u001b[0m\u001b[0m\n\u001b[0m\u001b[1;32m    462\u001b[0m             \u001b[0;32mreturn\u001b[0m \u001b[0mmemoryview\u001b[0m\u001b[0;34m(\u001b[0m\u001b[0mb\u001b[0m\u001b[0;34m)\u001b[0m\u001b[0;34m[\u001b[0m\u001b[0;34m:\u001b[0m\u001b[0mn\u001b[0m\u001b[0;34m]\u001b[0m\u001b[0;34m.\u001b[0m\u001b[0mtobytes\u001b[0m\u001b[0;34m(\u001b[0m\u001b[0;34m)\u001b[0m\u001b[0;34m\u001b[0m\u001b[0;34m\u001b[0m\u001b[0m\n\u001b[1;32m    463\u001b[0m         \u001b[0;32melse\u001b[0m\u001b[0;34m:\u001b[0m\u001b[0;34m\u001b[0m\u001b[0;34m\u001b[0m\u001b[0m\n",
      "\u001b[0;32m~/anaconda3/envs/rsgis/lib/python3.7/http/client.py\u001b[0m in \u001b[0;36mreadinto\u001b[0;34m(self, b)\u001b[0m\n\u001b[1;32m    503\u001b[0m         \u001b[0;31m# connection, and the user is reading more bytes than will be provided\u001b[0m\u001b[0;34m\u001b[0m\u001b[0;34m\u001b[0m\u001b[0;34m\u001b[0m\u001b[0m\n\u001b[1;32m    504\u001b[0m         \u001b[0;31m# (for example, reading in 1k chunks)\u001b[0m\u001b[0;34m\u001b[0m\u001b[0;34m\u001b[0m\u001b[0;34m\u001b[0m\u001b[0m\n\u001b[0;32m--> 505\u001b[0;31m         \u001b[0mn\u001b[0m \u001b[0;34m=\u001b[0m \u001b[0mself\u001b[0m\u001b[0;34m.\u001b[0m\u001b[0mfp\u001b[0m\u001b[0;34m.\u001b[0m\u001b[0mreadinto\u001b[0m\u001b[0;34m(\u001b[0m\u001b[0mb\u001b[0m\u001b[0;34m)\u001b[0m\u001b[0;34m\u001b[0m\u001b[0;34m\u001b[0m\u001b[0m\n\u001b[0m\u001b[1;32m    506\u001b[0m         \u001b[0;32mif\u001b[0m \u001b[0;32mnot\u001b[0m \u001b[0mn\u001b[0m \u001b[0;32mand\u001b[0m \u001b[0mb\u001b[0m\u001b[0;34m:\u001b[0m\u001b[0;34m\u001b[0m\u001b[0;34m\u001b[0m\u001b[0m\n\u001b[1;32m    507\u001b[0m             \u001b[0;31m# Ideally, we would raise IncompleteRead if the content-length\u001b[0m\u001b[0;34m\u001b[0m\u001b[0;34m\u001b[0m\u001b[0;34m\u001b[0m\u001b[0m\n",
      "\u001b[0;32m~/anaconda3/envs/rsgis/lib/python3.7/socket.py\u001b[0m in \u001b[0;36mreadinto\u001b[0;34m(self, b)\u001b[0m\n\u001b[1;32m    587\u001b[0m         \u001b[0;32mwhile\u001b[0m \u001b[0;32mTrue\u001b[0m\u001b[0;34m:\u001b[0m\u001b[0;34m\u001b[0m\u001b[0;34m\u001b[0m\u001b[0m\n\u001b[1;32m    588\u001b[0m             \u001b[0;32mtry\u001b[0m\u001b[0;34m:\u001b[0m\u001b[0;34m\u001b[0m\u001b[0;34m\u001b[0m\u001b[0m\n\u001b[0;32m--> 589\u001b[0;31m                 \u001b[0;32mreturn\u001b[0m \u001b[0mself\u001b[0m\u001b[0;34m.\u001b[0m\u001b[0m_sock\u001b[0m\u001b[0;34m.\u001b[0m\u001b[0mrecv_into\u001b[0m\u001b[0;34m(\u001b[0m\u001b[0mb\u001b[0m\u001b[0;34m)\u001b[0m\u001b[0;34m\u001b[0m\u001b[0;34m\u001b[0m\u001b[0m\n\u001b[0m\u001b[1;32m    590\u001b[0m             \u001b[0;32mexcept\u001b[0m \u001b[0mtimeout\u001b[0m\u001b[0;34m:\u001b[0m\u001b[0;34m\u001b[0m\u001b[0;34m\u001b[0m\u001b[0m\n\u001b[1;32m    591\u001b[0m                 \u001b[0mself\u001b[0m\u001b[0;34m.\u001b[0m\u001b[0m_timeout_occurred\u001b[0m \u001b[0;34m=\u001b[0m \u001b[0;32mTrue\u001b[0m\u001b[0;34m\u001b[0m\u001b[0;34m\u001b[0m\u001b[0m\n",
      "\u001b[0;32m~/anaconda3/envs/rsgis/lib/python3.7/ssl.py\u001b[0m in \u001b[0;36mrecv_into\u001b[0;34m(self, buffer, nbytes, flags)\u001b[0m\n\u001b[1;32m   1069\u001b[0m                   \u001b[0;34m\"non-zero flags not allowed in calls to recv_into() on %s\"\u001b[0m \u001b[0;34m%\u001b[0m\u001b[0;34m\u001b[0m\u001b[0;34m\u001b[0m\u001b[0m\n\u001b[1;32m   1070\u001b[0m                   self.__class__)\n\u001b[0;32m-> 1071\u001b[0;31m             \u001b[0;32mreturn\u001b[0m \u001b[0mself\u001b[0m\u001b[0;34m.\u001b[0m\u001b[0mread\u001b[0m\u001b[0;34m(\u001b[0m\u001b[0mnbytes\u001b[0m\u001b[0;34m,\u001b[0m \u001b[0mbuffer\u001b[0m\u001b[0;34m)\u001b[0m\u001b[0;34m\u001b[0m\u001b[0;34m\u001b[0m\u001b[0m\n\u001b[0m\u001b[1;32m   1072\u001b[0m         \u001b[0;32melse\u001b[0m\u001b[0;34m:\u001b[0m\u001b[0;34m\u001b[0m\u001b[0;34m\u001b[0m\u001b[0m\n\u001b[1;32m   1073\u001b[0m             \u001b[0;32mreturn\u001b[0m \u001b[0msuper\u001b[0m\u001b[0;34m(\u001b[0m\u001b[0;34m)\u001b[0m\u001b[0;34m.\u001b[0m\u001b[0mrecv_into\u001b[0m\u001b[0;34m(\u001b[0m\u001b[0mbuffer\u001b[0m\u001b[0;34m,\u001b[0m \u001b[0mnbytes\u001b[0m\u001b[0;34m,\u001b[0m \u001b[0mflags\u001b[0m\u001b[0;34m)\u001b[0m\u001b[0;34m\u001b[0m\u001b[0;34m\u001b[0m\u001b[0m\n",
      "\u001b[0;32m~/anaconda3/envs/rsgis/lib/python3.7/ssl.py\u001b[0m in \u001b[0;36mread\u001b[0;34m(self, len, buffer)\u001b[0m\n\u001b[1;32m    927\u001b[0m         \u001b[0;32mtry\u001b[0m\u001b[0;34m:\u001b[0m\u001b[0;34m\u001b[0m\u001b[0;34m\u001b[0m\u001b[0m\n\u001b[1;32m    928\u001b[0m             \u001b[0;32mif\u001b[0m \u001b[0mbuffer\u001b[0m \u001b[0;32mis\u001b[0m \u001b[0;32mnot\u001b[0m \u001b[0;32mNone\u001b[0m\u001b[0;34m:\u001b[0m\u001b[0;34m\u001b[0m\u001b[0;34m\u001b[0m\u001b[0m\n\u001b[0;32m--> 929\u001b[0;31m                 \u001b[0;32mreturn\u001b[0m \u001b[0mself\u001b[0m\u001b[0;34m.\u001b[0m\u001b[0m_sslobj\u001b[0m\u001b[0;34m.\u001b[0m\u001b[0mread\u001b[0m\u001b[0;34m(\u001b[0m\u001b[0mlen\u001b[0m\u001b[0;34m,\u001b[0m \u001b[0mbuffer\u001b[0m\u001b[0;34m)\u001b[0m\u001b[0;34m\u001b[0m\u001b[0;34m\u001b[0m\u001b[0m\n\u001b[0m\u001b[1;32m    930\u001b[0m             \u001b[0;32melse\u001b[0m\u001b[0;34m:\u001b[0m\u001b[0;34m\u001b[0m\u001b[0;34m\u001b[0m\u001b[0m\n\u001b[1;32m    931\u001b[0m                 \u001b[0;32mreturn\u001b[0m \u001b[0mself\u001b[0m\u001b[0;34m.\u001b[0m\u001b[0m_sslobj\u001b[0m\u001b[0;34m.\u001b[0m\u001b[0mread\u001b[0m\u001b[0;34m(\u001b[0m\u001b[0mlen\u001b[0m\u001b[0;34m)\u001b[0m\u001b[0;34m\u001b[0m\u001b[0;34m\u001b[0m\u001b[0m\n",
      "\u001b[0;31mKeyboardInterrupt\u001b[0m: "
     ]
    }
   ],
   "source": [
    "import stac\n",
    "\n",
    "access_token = 'nZ97OpESX5DTWuFhkh3aZ3o4g4vBGocxz7Gzju3twv'\n",
    "service = stac.STAC('https://brazildatacube.dpi.inpe.br/stac/', access_token=access_token)\n",
    "collection_ = service.collection('LC8_SR-1')\n",
    "\n",
    "items = collection_.get_items(\n",
    "                    filter={\n",
    "                            'bbox':'-45.9586,-13.1517,-45.6235,-12.8707', \n",
    "                            'datetime': f'2020-07-01/2021-09-01',\n",
    "                            'limit':5000\n",
    "                        }\n",
    "            )\n",
    "\n",
    "for item in items:\n",
    "    item.download('/home/bruno/Documentos/ESA living planet/SR')"
   ]
  },
  {
   "cell_type": "code",
   "execution_count": null,
   "id": "7477fce6",
   "metadata": {},
   "outputs": [],
   "source": [
    "access_token = 'nZ97OpESX5DTWuFhkh3aZ3o4g4vBGocxz7Gzju3twv'\n",
    "service = stac.STAC('https://brazildatacube.dpi.inpe.br/stac/', access_token=access_token)\n",
    "collection_ = service.collection('LC8_DN-1')\n",
    "\n",
    "items = collection_.get_items(\n",
    "                    filter={\n",
    "                            'bbox':'-45.9586,-13.1517,-45.6235,-12.8707', \n",
    "                            'datetime': f'2020-07-01/2021-09-01',\n",
    "                            'limit':5000\n",
    "                        }\n",
    "            )\n",
    "\n",
    "for item in items:\n",
    "    item.download('/home/bruno/Documentos/ESA living planet/TOA')"
   ]
  },
  {
   "cell_type": "code",
   "execution_count": 8,
   "id": "00ba5bdc",
   "metadata": {},
   "outputs": [],
   "source": []
  },
  {
   "cell_type": "code",
   "execution_count": 9,
   "id": "b326f0e5",
   "metadata": {},
   "outputs": [
    {
     "name": "stderr",
     "output_type": "stream",
     "text": [
      "/home/bruno/Documentos/ESA living planet/LC08_L1TP_220069_20200607_20200625_01_T1_ANG.txt: 100%|██████████| 114k/114k [00:00<00:00, 3.55MB/s]\n",
      "/home/bruno/Documentos/ESA living planet/LC08_L1TP_220069_20200607_20200625_01_T1_MTL.txt: 100%|██████████| 8.50k/8.50k [00:00<00:00, 5.28MB/s]\n",
      "/home/bruno/Documentos/ESA living planet/LC08_L1TP_220069_20200607_20200625_01_T1_Fmask4.tif: 100%|██████████| 305k/305k [00:00<00:00, 3.69MB/s]\n",
      "/home/bruno/Documentos/ESA living planet/LC08_L1TP_220069_20200607_20200625_01_T1_sr_evi.tif: 100%|██████████| 84.9M/84.9M [00:09<00:00, 9.45MB/s]\n",
      "/home/bruno/Documentos/ESA living planet/LC08_L1TP_220069_20200607_20200625_01_T1_sr_ndvi.tif: 100%|██████████| 87.7M/87.7M [00:11<00:00, 7.74MB/s]\n",
      "/home/bruno/Documentos/ESA living planet/LC08_L1TP_220069_20200607_20200625_01_T1_sr_band1.tif: 100%|██████████| 64.5M/64.5M [00:15<00:00, 4.28MB/s]\n",
      "/home/bruno/Documentos/ESA living planet/LC08_L1TP_220069_20200607_20200625_01_T1_sr_band2.tif: 100%|██████████| 65.7M/65.7M [00:08<00:00, 8.08MB/s]\n",
      "/home/bruno/Documentos/ESA living planet/LC08_L1TP_220069_20200607_20200625_01_T1_sr_band3.tif: 100%|██████████| 69.3M/69.3M [00:08<00:00, 8.34MB/s]\n",
      "/home/bruno/Documentos/ESA living planet/LC08_L1TP_220069_20200607_20200625_01_T1_sr_band4.tif: 100%|██████████| 73.3M/73.3M [00:08<00:00, 8.92MB/s]\n",
      "/home/bruno/Documentos/ESA living planet/LC08_L1TP_220069_20200607_20200625_01_T1_sr_band5.tif: 100%|██████████| 78.9M/78.9M [00:08<00:00, 9.35MB/s]\n",
      "/home/bruno/Documentos/ESA living planet/LC08_L1TP_220069_20200607_20200625_01_T1_sr_band6.tif: 100%|██████████| 79.9M/79.9M [00:06<00:00, 12.2MB/s]\n",
      "/home/bruno/Documentos/ESA living planet/LC08_L1TP_220069_20200607_20200625_01_T1_sr_band7.tif: 100%|██████████| 78.2M/78.2M [00:05<00:00, 16.4MB/s]\n",
      "/home/bruno/Documentos/ESA living planet/LC08_L1TP_220069_20200607_20200625_01_T1_radsat_qa.tif: 100%|██████████| 426k/426k [00:00<00:00, 4.11MB/s]\n",
      "/home/bruno/Documentos/ESA living planet/LC08_L1TP_220069_20200607_20200625_01_T1.png: 100%|██████████| 889k/889k [00:00<00:00, 4.22MB/s]\n",
      "/home/bruno/Documentos/ESA living planet/LC08_L1TP_220069_20200607_20200625_01_T1_sr_aerosol.tif: 100%|██████████| 1.28M/1.28M [00:00<00:00, 3.74MB/s]\n",
      "/home/bruno/Documentos/ESA living planet/LC08_L1TP_220069_20200607_20200625_01_T1_solar_zenith_band4.tif: 100%|██████████| 1.80M/1.80M [00:00<00:00, 5.67MB/s]\n",
      "/home/bruno/Documentos/ESA living planet/LC08_L1TP_220069_20200607_20200625_01_T1_sensor_zenith_band4.tif: 100%|██████████| 18.5M/18.5M [00:01<00:00, 10.7MB/s]\n",
      "/home/bruno/Documentos/ESA living planet/LC08_L1TP_220069_20200607_20200625_01_T1_solar_azimuth_band4.tif: 100%|██████████| 2.70M/2.70M [00:00<00:00, 5.80MB/s]\n",
      "/home/bruno/Documentos/ESA living planet/LC08_L1TP_220069_20200607_20200625_01_T1_sensor_azimuth_band4.tif: 100%|██████████| 40.6M/40.6M [00:02<00:00, 17.0MB/s]\n"
     ]
    },
    {
     "data": {
      "text/plain": [
       "{'ANG': '/home/bruno/Documentos/ESA living planet/LC08_L1TP_220069_20200607_20200625_01_T1_ANG.txt',\n",
       " 'MTL': '/home/bruno/Documentos/ESA living planet/LC08_L1TP_220069_20200607_20200625_01_T1_MTL.txt',\n",
       " 'Fmask4': '/home/bruno/Documentos/ESA living planet/LC08_L1TP_220069_20200607_20200625_01_T1_Fmask4.tif',\n",
       " 'sr_evi': '/home/bruno/Documentos/ESA living planet/LC08_L1TP_220069_20200607_20200625_01_T1_sr_evi.tif',\n",
       " 'sr_ndvi': '/home/bruno/Documentos/ESA living planet/LC08_L1TP_220069_20200607_20200625_01_T1_sr_ndvi.tif',\n",
       " 'sr_band1': '/home/bruno/Documentos/ESA living planet/LC08_L1TP_220069_20200607_20200625_01_T1_sr_band1.tif',\n",
       " 'sr_band2': '/home/bruno/Documentos/ESA living planet/LC08_L1TP_220069_20200607_20200625_01_T1_sr_band2.tif',\n",
       " 'sr_band3': '/home/bruno/Documentos/ESA living planet/LC08_L1TP_220069_20200607_20200625_01_T1_sr_band3.tif',\n",
       " 'sr_band4': '/home/bruno/Documentos/ESA living planet/LC08_L1TP_220069_20200607_20200625_01_T1_sr_band4.tif',\n",
       " 'sr_band5': '/home/bruno/Documentos/ESA living planet/LC08_L1TP_220069_20200607_20200625_01_T1_sr_band5.tif',\n",
       " 'sr_band6': '/home/bruno/Documentos/ESA living planet/LC08_L1TP_220069_20200607_20200625_01_T1_sr_band6.tif',\n",
       " 'sr_band7': '/home/bruno/Documentos/ESA living planet/LC08_L1TP_220069_20200607_20200625_01_T1_sr_band7.tif',\n",
       " 'radsat_qa': '/home/bruno/Documentos/ESA living planet/LC08_L1TP_220069_20200607_20200625_01_T1_radsat_qa.tif',\n",
       " 'thumbnail': '/home/bruno/Documentos/ESA living planet/LC08_L1TP_220069_20200607_20200625_01_T1.png',\n",
       " 'sr_aerosol': '/home/bruno/Documentos/ESA living planet/LC08_L1TP_220069_20200607_20200625_01_T1_sr_aerosol.tif',\n",
       " 'solar_zenith_band4': '/home/bruno/Documentos/ESA living planet/LC08_L1TP_220069_20200607_20200625_01_T1_solar_zenith_band4.tif',\n",
       " 'sensor_zenith_band4': '/home/bruno/Documentos/ESA living planet/LC08_L1TP_220069_20200607_20200625_01_T1_sensor_zenith_band4.tif',\n",
       " 'solar_azimuth_band4': '/home/bruno/Documentos/ESA living planet/LC08_L1TP_220069_20200607_20200625_01_T1_solar_azimuth_band4.tif',\n",
       " 'sensor_azimuth_band4': '/home/bruno/Documentos/ESA living planet/LC08_L1TP_220069_20200607_20200625_01_T1_sensor_azimuth_band4.tif'}"
      ]
     },
     "execution_count": 9,
     "metadata": {},
     "output_type": "execute_result"
    }
   ],
   "source": []
  },
  {
   "cell_type": "code",
   "execution_count": null,
   "id": "f0a37660",
   "metadata": {},
   "outputs": [],
   "source": [
    "# for item in items:\n",
    "#     print(item['properties']['bdc:tiles'][0])\n",
    "#     break"
   ]
  },
  {
   "cell_type": "code",
   "execution_count": null,
   "id": "ffb47d29",
   "metadata": {},
   "outputs": [],
   "source": [
    "# assets = item.assets\n",
    "# asset = assets['sr_ndvi']"
   ]
  },
  {
   "cell_type": "code",
   "execution_count": null,
   "id": "f0bfb469",
   "metadata": {},
   "outputs": [],
   "source": [
    "# asset.download('/home/bruno/Área de Trabalho/tests_library/BDC_Landsat')"
   ]
  },
  {
   "cell_type": "code",
   "execution_count": null,
   "id": "8ddd0deb",
   "metadata": {},
   "outputs": [],
   "source": [
    "# assets.items()"
   ]
  },
  {
   "cell_type": "code",
   "execution_count": 4,
   "id": "8f00edc0",
   "metadata": {},
   "outputs": [],
   "source": [
    "# import os\n",
    "# path = '/home/bruno/Documentos/GitHub/tsmapping/aux'\n",
    "# os.path.exists('/home/bruno/Documentos/GitHub/tsmapping/aux/landsat_grid.shp')"
   ]
  }
 ],
 "metadata": {
  "kernelspec": {
   "display_name": "Python 3",
   "language": "python",
   "name": "python3"
  },
  "language_info": {
   "codemirror_mode": {
    "name": "ipython",
    "version": 3
   },
   "file_extension": ".py",
   "mimetype": "text/x-python",
   "name": "python",
   "nbconvert_exporter": "python",
   "pygments_lexer": "ipython3",
   "version": "3.7.10"
  }
 },
 "nbformat": 4,
 "nbformat_minor": 5
}
