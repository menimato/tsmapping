{
 "cells": [
  {
   "cell_type": "code",
   "execution_count": 19,
   "id": "91dc11a1-9735-4c39-9ed5-883a59d26e7d",
   "metadata": {},
   "outputs": [],
   "source": [
    "# import sys\n",
    "# sys.path.insert(1, '../..')\n",
    "\n",
    "# import tsmapping\n",
    "\n",
    "# from tsmapping.cube import download_images_gcloud\n",
    "\n",
    "# tsmapping.cube.download_images_BDC(access_token='nZ97OpESX5DTWuFhkh3aZ3o4g4vBGocxz7Gzju3twv',\n",
    "#                                    start_date='2018-06-01',\n",
    "#                                    save_folder='/home/bruno/Área de Trabalho/tests_library/BDC_Sentinel',\n",
    "#                                    end_date='2018-07-17',\n",
    "#                                    # grid_images=['23LLG'],\n",
    "#                                    wkt = 'POLYGON((-39.48373013372596 -7.041550186408128,-39.20357876653846 -7.041550186408128,-39.20083218450721 -8.37246548856633,-40.83504849310096 -8.380617333542247,-40.82680874700721 -8.116955370771723,-39.52767544622596 -8.114236295023925,-39.48373013372596 -7.041550186408128))',\n",
    "#                                    collection='S2_L2A-1',\n",
    "#                                    bands=['B08'])"
   ]
  },
  {
   "cell_type": "code",
   "execution_count": 20,
   "id": "0af00a4e-1707-4c9e-8186-dca3ed75f7b5",
   "metadata": {},
   "outputs": [],
   "source": [
    "import sys\n",
    "sys.path.insert(1, '../..')\n",
    "\n",
    "import tsmapping"
   ]
  },
  {
   "cell_type": "code",
   "execution_count": 21,
   "id": "0d939182",
   "metadata": {},
   "outputs": [],
   "source": [
    "# from tsmapping.cube import download_images_gcloud"
   ]
  },
  {
   "cell_type": "code",
   "execution_count": null,
   "id": "515f892c",
   "metadata": {},
   "outputs": [],
   "source": []
  },
  {
   "cell_type": "code",
   "execution_count": 22,
   "id": "96b36a45-fa32-4dab-a729-0d76ce4d457f",
   "metadata": {},
   "outputs": [],
   "source": [
    "# tsmapping.cube.create_cubes_BDCLandsat(save_folder = '/home/bruno/Área de Trabalho/tests_library/cubos_landsat_barra_da_estiva',\n",
    "#                                        bands = ['sr_band2', 'sr_band3', 'sr_band4', 'sr_band5', 'sr_band6', 'sr_band7'],\n",
    "#                                        access_token = 'nZ97OpESX5DTWuFhkh3aZ3o4g4vBGocxz7Gzju3twv',\n",
    "#                                        start_date = '2019-06-01',\n",
    "#                                        end_date = '2020-07-01',\n",
    "#                                        delete_auxiliary=True,\n",
    "#                                        paths_rows = [[217, 69],\n",
    "#                                                      [217, 70]],\n",
    "#                                        proj4 = '\"+proj=aea +lat_0=-12 +lon_0=-54 +lat_1=-2 +lat_2=-22 +x_0=5000000 +y_0=10000000 +ellps=GRS80 +units=m +no_defs +type=crs\"', \n",
    "#                                        clip_shapefile_path = '/home/bruno/Documentos/Caatinga/barra_da_estiva_buffer.shp')"
   ]
  },
  {
   "cell_type": "code",
   "execution_count": 23,
   "id": "46859cf3-d1f3-42eb-bf46-16084d197bc3",
   "metadata": {},
   "outputs": [],
   "source": [
    "# tsmapping.cube.update_metadata(save_folder='/home/bruno/Documentos/Caatinga/metadata', metadata='Landsat')"
   ]
  },
  {
   "cell_type": "code",
   "execution_count": 24,
   "id": "0747832c-a08e-4b5a-84f8-1e97c55735dc",
   "metadata": {},
   "outputs": [
    {
     "name": "stdout",
     "output_type": "stream",
     "text": [
      "----------------------------------------------------------\n",
      "- Download Images -\n",
      "Loading metadata...\n"
     ]
    }
   ],
   "source": [
    "import sys\n",
    "sys.path.insert(1, '../..')\n",
    "\n",
    "import tsmapping\n",
    "\n",
    "from tsmapping.cube import create_cubes_gcloudSentinel\n",
    "\n",
    "create_cubes_gcloudSentinel(save_folder = '/home/bruno/Documentos/Caatinga/cubes_sentinel/Barra da Estiva',\n",
    "                            metadata_path = '/home/bruno/Documentos/Caatinga/metadata/Sentinel2-L1.csv',\n",
    "                            bands = ['B02'], # , 'B03', 'B04', 'B08'],\n",
    "                            start_date = '2019-06-01',\n",
    "                            end_date = '2019-06-10',\n",
    "                            delete_auxiliary = False,\n",
    "                            tiles = {'number of paths': 1,\n",
    "                                     'paths': {'path 1': {'key tile': '24LTK',\n",
    "                                                          'tiles': ['24LTK', '24LTL', '24LUK']}}},\n",
    "                            interval = 5,\n",
    "                            proj4 = '\"+proj=aea +lat_0=-12 +lon_0=-54 +lat_1=-2 +lat_2=-22 +x_0=5000000 +y_0=10000000 +ellps=GRS80 +units=m +no_defs +type=crs\"',\n",
    "                            clip_shapefile_path = '/home/bruno/Documentos/Caatinga/barra_da_estiva_buffer.shp')"
   ]
  },
  {
   "cell_type": "code",
   "execution_count": null,
   "id": "25b04c8c",
   "metadata": {},
   "outputs": [],
   "source": [
    "# import stac\n",
    "\n",
    "# access_token = 'nZ97OpESX5DTWuFhkh3aZ3o4g4vBGocxz7Gzju3twv'\n",
    "# service = stac.STAC('https://brazildatacube.dpi.inpe.br/stac/', access_token=access_token)\n",
    "# collection_ = service.collection('LC8_SR-1')\n",
    "\n",
    "# items = collection_.get_items(\n",
    "#                     filter={\n",
    "#                             'bbox':'-45.9586,-13.1517,-45.6235,-12.8707', \n",
    "#                             'datetime': f'2020-07-01/2021-09-01',\n",
    "#                             'limit':5000\n",
    "#                         }\n",
    "#             )\n",
    "\n",
    "# for item in items:\n",
    "#     item.download('/home/bruno/Documentos/ESA living planet/SR')"
   ]
  },
  {
   "cell_type": "code",
   "execution_count": null,
   "id": "7477fce6",
   "metadata": {},
   "outputs": [],
   "source": [
    "# access_token = 'nZ97OpESX5DTWuFhkh3aZ3o4g4vBGocxz7Gzju3twv'\n",
    "# service = stac.STAC('https://brazildatacube.dpi.inpe.br/stac/', access_token=access_token)\n",
    "# collection_ = service.collection('LC8_DN-1')\n",
    "\n",
    "# items = collection_.get_items(\n",
    "#                     filter={\n",
    "#                             'bbox':'-45.9586,-13.1517,-45.6235,-12.8707', \n",
    "#                             'datetime': f'2020-07-01/2021-09-01',\n",
    "#                             'limit':5000\n",
    "#                         }\n",
    "#             )\n",
    "\n",
    "# for item in items:\n",
    "#     item.download('/home/bruno/Documentos/ESA living planet/TOA')"
   ]
  },
  {
   "cell_type": "code",
   "execution_count": null,
   "id": "00ba5bdc",
   "metadata": {},
   "outputs": [],
   "source": []
  },
  {
   "cell_type": "code",
   "execution_count": null,
   "id": "b326f0e5",
   "metadata": {},
   "outputs": [],
   "source": []
  },
  {
   "cell_type": "code",
   "execution_count": null,
   "id": "f0a37660",
   "metadata": {},
   "outputs": [],
   "source": [
    "# for item in items:\n",
    "#     print(item['properties']['bdc:tiles'][0])\n",
    "#     break"
   ]
  },
  {
   "cell_type": "code",
   "execution_count": null,
   "id": "ffb47d29",
   "metadata": {},
   "outputs": [],
   "source": [
    "# assets = item.assets\n",
    "# asset = assets['sr_ndvi']"
   ]
  },
  {
   "cell_type": "code",
   "execution_count": null,
   "id": "f0bfb469",
   "metadata": {},
   "outputs": [],
   "source": [
    "# asset.download('/home/bruno/Área de Trabalho/tests_library/BDC_Landsat')"
   ]
  },
  {
   "cell_type": "code",
   "execution_count": null,
   "id": "8ddd0deb",
   "metadata": {},
   "outputs": [],
   "source": [
    "# assets.items()"
   ]
  },
  {
   "cell_type": "code",
   "execution_count": null,
   "id": "8f00edc0",
   "metadata": {},
   "outputs": [],
   "source": [
    "# import os\n",
    "# path = '/home/bruno/Documentos/GitHub/tsmapping/aux'\n",
    "# os.path.exists('/home/bruno/Documentos/GitHub/tsmapping/aux/landsat_grid.shp')"
   ]
  }
 ],
 "metadata": {
  "kernelspec": {
   "display_name": "Python 3",
   "language": "python",
   "name": "python3"
  },
  "language_info": {
   "codemirror_mode": {
    "name": "ipython",
    "version": 3
   },
   "file_extension": ".py",
   "mimetype": "text/x-python",
   "name": "python",
   "nbconvert_exporter": "python",
   "pygments_lexer": "ipython3",
   "version": "3.7.10"
  }
 },
 "nbformat": 4,
 "nbformat_minor": 5
}
