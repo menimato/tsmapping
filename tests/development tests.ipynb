{
 "cells": [
  {
   "cell_type": "code",
   "execution_count": 2,
   "id": "dab3c251",
   "metadata": {},
   "outputs": [
    {
     "name": "stdout",
     "output_type": "stream",
     "text": [
      "reading files and preparing for samples selection...\n",
      "retrieving all possible samples...\n",
      "selecting samples...\n",
      "retrieving reference for samples\n",
      "extracting samples from stacks...\n"
     ]
    }
   ],
   "source": [
    "import sys\n",
    "sys.path.insert(1, '../..')\n",
    "\n",
    "import tsmapping\n",
    "\n",
    "tsmapping.samples.select_samples_LSTM(shapefile = '/home/bruno/Documentos/Caatinga/test_cafe/samples_points_test.shp', \n",
    "                                      stacks_paths = ['/home/bruno/Documentos/Caatinga/test_cafe/Landsat/DN/S20190101-E20191219_B2.tif',\n",
    "                                                      '/home/bruno/Documentos/Caatinga/test_cafe/Landsat/DN/S20190101-E20191219_B3.tif',\n",
    "                                                      '/home/bruno/Documentos/Caatinga/test_cafe/Landsat/DN/S20190101-E20191219_B4.tif',\n",
    "                                                      '/home/bruno/Documentos/Caatinga/test_cafe/Landsat/DN/S20190101-E20191219_B5.tif',\n",
    "                                                      '/home/bruno/Documentos/Caatinga/test_cafe/Landsat/DN/S20190101-E20191219_B6.tif',\n",
    "                                                      '/home/bruno/Documentos/Caatinga/test_cafe/Landsat/DN/S20190101-E20191219_B7.tif'], \n",
    "                                      reference_attribute_name = 'class',\n",
    "                                      save_folder = '/home/bruno/Documentos/Caatinga/test_cafe/tests',\n",
    "                                      samples_amount=None,\n",
    "                                      plot_map=False)"
   ]
  },
  {
   "cell_type": "code",
   "execution_count": 1,
   "id": "0af00a4e-1707-4c9e-8186-dca3ed75f7b5",
   "metadata": {},
   "outputs": [],
   "source": [
    "# import sys\n",
    "# sys.path.insert(1, '../..')\n",
    "\n",
    "# import tsmapping\n",
    "\n",
    "# from tsmapping.cube import download_images_gcloud\n",
    "\n",
    "# tsmapping.cube.create_cubes_BDC(save_folder='/home/bruno/Documentos/Caatinga/test_cafe/Landsat/DN', \n",
    "#                                 bands=['B2', 'B3', 'B4', 'B5', 'B6', 'B7'],\n",
    "#                                 access_token='nZ97OpESX5DTWuFhkh3aZ3o4g4vBGocxz7Gzju3twv', \n",
    "#                                 start_date='2019-01-01',\n",
    "#                                 end_date='2019-12-31',\n",
    "#                                 delete_auxiliary=True,\n",
    "#                                 collection='LC8_DN-1',\n",
    "#                                 grid_images=[[217,68]],\n",
    "#                                 clip_shapefile_path='/home/bruno/Documentos/Caatinga/test_cafe/test_coffee_ba.shp')"
   ]
  },
  {
   "cell_type": "code",
   "execution_count": 2,
   "id": "c4d92aff-6f57-4e01-9308-04308454ec24",
   "metadata": {},
   "outputs": [],
   "source": [
    "# import sys\n",
    "# sys.path.insert(1, '../..')\n",
    "\n",
    "# import tsmapping\n",
    "\n",
    "# from tsmapping.cube import download_images_gcloud\n",
    "\n",
    "# tsmapping.cube.update_metadata('/home/bruno/Documents/test_cafe')"
   ]
  },
  {
   "cell_type": "code",
   "execution_count": 3,
   "id": "ca9ad193",
   "metadata": {},
   "outputs": [],
   "source": [
    "# import sys\n",
    "# sys.path.insert(1, '../..')\n",
    "\n",
    "# import tsmapping\n",
    "\n",
    "# from tsmapping.cube import download_images_gcloud\n",
    "\n",
    "# tsmapping.cube.create_cubes_gcloudSentinel(save_folder = '/home/bruno/Documents/test_cafe/cubes',\n",
    "#                                            bands = ['B02', 'B03', 'B04', 'B08'],\n",
    "#                                            start_date = '2019-01-01',\n",
    "#                                            end_date = '2019-12-31',\n",
    "#                                            metadata_path = '/home/bruno/Documents/test_cafe/Sentinel2-L1.csv', \n",
    "#                                            tiles = {'number of paths': 1,\n",
    "#                                                     'paths': {'path 1': {'key tile': '24LTK',\n",
    "#                                                                         'tiles': ['24LTL']}}}, \n",
    "#                                            delete_auxiliary=True, \n",
    "#                                            interval=5, \n",
    "#                                            clip_shapefile_path='/home/bruno/Documents/test_cafe/study_area.shp')"
   ]
  },
  {
   "cell_type": "code",
   "execution_count": 4,
   "id": "ffb07641-1a1d-4c2f-8452-57c1804f368e",
   "metadata": {},
   "outputs": [],
   "source": [
    "# import sys\n",
    "# sys.path.insert(1, '../..')\n",
    "\n",
    "# import tsmapping\n",
    "\n",
    "# from tsmapping.cube import download_images_gcloud\n",
    "\n",
    "# # mosaicing bands\n",
    "# import os\n",
    "# os.chdir('/home/bruno/Documents/test_cafe/cubes')\n",
    "\n",
    "# bands = ['B02', 'B03', 'B04', 'B08']\n",
    "# start_date = '2019-01-01'\n",
    "# end_date = '2019-12-31'\n",
    "# interval = 5\n",
    "\n",
    "# tsmapping.cube.mosaic_bands(bands_folder = './reprojected', \n",
    "#                             save_folder = './mosaics', \n",
    "#                             bands = bands, \n",
    "#                             start_date = start_date, \n",
    "#                             end_date = end_date, \n",
    "#                             interval = interval,\n",
    "#                             date_charsinterval_in_bandnames = [7,15],\n",
    "#                             nodata = 0)"
   ]
  },
  {
   "cell_type": "code",
   "execution_count": 5,
   "id": "6e201229-39e5-4086-8c91-c0d7460a167d",
   "metadata": {},
   "outputs": [],
   "source": [
    "# import glob\n",
    "\n",
    "# clip_shapefile_path = '/home/bruno/Documents/test_cafe/study_area.shp'\n",
    "\n",
    "# tsmapping.cube.clip_shapefile(files = glob.glob('./mosaics/*.tif'), \n",
    "#                               shapefile = clip_shapefile_path,\n",
    "#                               save_folder = './clipped_mosaics')"
   ]
  },
  {
   "cell_type": "code",
   "execution_count": 6,
   "id": "acdfb865-08e5-463a-87e7-962c6892420e",
   "metadata": {},
   "outputs": [],
   "source": [
    "# tsmapping.cube.create_stacks(bands_folder = '/home/bruno/Documents/test_cafe/cubes/clipped_mosaics', \n",
    "#                              save_folder = '.',\n",
    "#                              bands = bands)"
   ]
  },
  {
   "cell_type": "code",
   "execution_count": 7,
   "id": "47bb8e25-dec3-4c25-8f2f-ceec9853312d",
   "metadata": {},
   "outputs": [],
   "source": [
    "# os.path.join('./mosaics',f'S.tif')"
   ]
  },
  {
   "cell_type": "code",
   "execution_count": 8,
   "id": "36059911",
   "metadata": {},
   "outputs": [],
   "source": [
    "# import numpy\n",
    "\n",
    "# help(numpy.zeros)"
   ]
  },
  {
   "cell_type": "code",
   "execution_count": 9,
   "id": "91dc11a1-9735-4c39-9ed5-883a59d26e7d",
   "metadata": {},
   "outputs": [],
   "source": [
    "# import sys\n",
    "# sys.path.insert(1, '../..')\n",
    "\n",
    "# import tsmapping\n",
    "\n",
    "# from tsmapping.cube import download_images_gcloud\n",
    "\n",
    "# tsmapping.cube.download_images_BDC(access_token='nZ97OpESX5DTWuFhkh3aZ3o4g4vBGocxz7Gzju3twv',\n",
    "#                                    start_date='2018-06-01',\n",
    "#                                    save_folder='/home/bruno/Área de Trabalho/tests_library/BDC_Landsat',\n",
    "#                                    end_date='2018-06-17',\n",
    "#                                    grid_images=[[220,69]],\n",
    "#                                    collection='LC8_DN-1',\n",
    "#                                    bands=['B08'])"
   ]
  },
  {
   "cell_type": "code",
   "execution_count": 10,
   "id": "0d939182",
   "metadata": {},
   "outputs": [],
   "source": [
    "# from tsmapping.cube import download_images_gcloud"
   ]
  },
  {
   "cell_type": "code",
   "execution_count": 11,
   "id": "96b36a45-fa32-4dab-a729-0d76ce4d457f",
   "metadata": {},
   "outputs": [],
   "source": [
    "# import sys\n",
    "# sys.path.insert(1, '../..')\n",
    "\n",
    "# import tsmapping\n",
    "\n",
    "# from tsmapping.cube import download_images_BDC\n",
    "\n",
    "# tsmapping.cube.create_cubes_BDC(save_folder = '/home/bruno/Documentos/Caatinga/cubes_sentinel',\n",
    "#                                 bands = ['B08'], # 'sr_band3', 'sr_band4', 'sr_band5', 'sr_band6', 'sr_band7'],\n",
    "#                                 access_token = 'nZ97OpESX5DTWuFhkh3aZ3o4g4vBGocxz7Gzju3twv',\n",
    "#                                 start_date = '2019-06-01',\n",
    "#                                 end_date = '2019-06-05',\n",
    "#                                 collection = 'S2_L2A-1',\n",
    "#                                 delete_auxiliary = False,\n",
    "#                                 grid_images = ['23LLG', '23LMG'],# , '23LLF', '23LMF', '23LLE', '23LME'],\n",
    "#                                 clip_shapefile_path = '/home/bruno/Documentos/ESA living planet/extent.shp')"
   ]
  },
  {
   "cell_type": "code",
   "execution_count": 12,
   "id": "46859cf3-d1f3-42eb-bf46-16084d197bc3",
   "metadata": {},
   "outputs": [],
   "source": [
    "# import numpy as np\n",
    "# import rasterio\n",
    "# from rasterio.warp import calculate_default_transform, reproject, Resampling\n",
    "\n",
    "# dst_crs = 'EPSG:4326'\n",
    "\n",
    "# with rasterio.open('/home/bruno/Documentos/Caatinga/cubes_sentinel/bands/T23LLG_20190604T132241_B08_10m.tif') as src:\n",
    "#     transform, width, height = calculate_default_transform(\n",
    "#         src.crs, dst_crs, src.width, src.height, *src.bounds)\n",
    "#     kwargs = src.meta.copy()\n",
    "#     kwargs.update({\n",
    "#         'crs': dst_crs,\n",
    "#         'transform': transform,\n",
    "#         'width': width,\n",
    "#         'height': height\n",
    "#     })\n",
    "\n",
    "#     with rasterio.open('/home/bruno/Documentos/Caatinga/cubes_sentinel/bands/test.tif', 'w', **kwargs) as dst:\n",
    "#         for i in range(1, src.count + 1):\n",
    "#             reproject(\n",
    "#                 source=rasterio.band(src, i),\n",
    "#                 destination=rasterio.band(dst, i),\n",
    "#                 src_transform=src.transform,\n",
    "#                 src_crs=src.crs,\n",
    "#                 dst_transform=transform,\n",
    "#                 dst_crs=dst_crs,\n",
    "#                 resampling=Resampling.nearest)"
   ]
  },
  {
   "cell_type": "code",
   "execution_count": 13,
   "id": "4b651c7b",
   "metadata": {},
   "outputs": [],
   "source": [
    "# import sys\n",
    "# sys.path.insert(1, '../..')\n",
    "\n",
    "# import tsmapping\n",
    "\n",
    "# from tsmapping.cube import download_images_BDC\n",
    "\n",
    "# download_images_BDC(save_folder = '/home/bruno/Documentos/Caatinga/cubes_sentinel/Barra da Estiva', \n",
    "#                     bands = ['B02'], \n",
    "#                     access_token = 'nZ97OpESX5DTWuFhkh3aZ3o4g4vBGocxz7Gzju3twv', \n",
    "#                     start_date = '2019-06-01', \n",
    "#                     end_date = '2019-06-06', \n",
    "#                     wkt=None, \n",
    "#                     grid_images=['23LLG'], # '23LMG', '23LLF', '23LMF', '23LLE', '23LME'], \n",
    "#                     collection='S2_L2A-1')"
   ]
  },
  {
   "cell_type": "code",
   "execution_count": 14,
   "id": "55155979",
   "metadata": {},
   "outputs": [],
   "source": [
    "# a = 'T23LNF_20170221T131241_B06_20m.tif'\n",
    "# a[7:15]"
   ]
  },
  {
   "cell_type": "code",
   "execution_count": 15,
   "id": "0747832c-a08e-4b5a-84f8-1e97c55735dc",
   "metadata": {},
   "outputs": [],
   "source": [
    "# import sys\n",
    "# sys.path.insert(1, '../..')\n",
    "\n",
    "# import tsmapping\n",
    "\n",
    "# from tsmapping.cube import create_cubes_gcloudSentinel\n",
    "\n",
    "# create_cubes_gcloudSentinel(save_folder = '/home/bruno/Documentos/Caatinga/cubes_sentinel/Barra da Estiva',\n",
    "#                             metadata_path = '/home/bruno/Documentos/Caatinga/metadata/Sentinel2-L1.csv',\n",
    "#                             bands = ['B02'], # , 'B03', 'B04', 'B08'],\n",
    "#                             start_date = '2019-06-01',\n",
    "#                             end_date = '2019-06-10',\n",
    "#                             delete_auxiliary = False,\n",
    "#                             tiles = {'number of paths': 1,\n",
    "#                                      'paths': {'path 1': {'key tile': '24LTK',\n",
    "#                                                           'tiles': ['24LTK', '24LTL', '24LUK']}}},\n",
    "#                             interval = 5,\n",
    "#                             proj4 = '\"+proj=aea +lat_0=-12 +lon_0=-54 +lat_1=-2 +lat_2=-22 +x_0=5000000 +y_0=10000000 +ellps=GRS80 +units=m +no_defs +type=crs\"',\n",
    "#                             clip_shapefile_path = '/home/bruno/Documentos/Caatinga/barra_da_estiva_buffer.shp')"
   ]
  },
  {
   "cell_type": "code",
   "execution_count": 16,
   "id": "25b04c8c",
   "metadata": {},
   "outputs": [],
   "source": [
    "# import stac\n",
    "\n",
    "# access_token = 'nZ97OpESX5DTWuFhkh3aZ3o4g4vBGocxz7Gzju3twv'\n",
    "# service = stac.STAC('https://brazildatacube.dpi.inpe.br/stac/', access_token=access_token)\n",
    "# collection_ = service.collection('LC8_SR-1')\n",
    "\n",
    "# items = collection_.get_items(\n",
    "#                     filter={\n",
    "#                             'bbox':'-45.9586,-13.1517,-45.6235,-12.8707', \n",
    "#                             'datetime': f'2020-07-01/2021-09-01',\n",
    "#                             'limit':5000\n",
    "#                         }\n",
    "#             )\n",
    "\n",
    "# for item in items:\n",
    "#     item.download('/home/bruno/Documentos/ESA living planet/SR')"
   ]
  },
  {
   "cell_type": "code",
   "execution_count": 17,
   "id": "7477fce6",
   "metadata": {},
   "outputs": [],
   "source": [
    "# import stac\n",
    "\n",
    "# access_token = 'nZ97OpESX5DTWuFhkh3aZ3o4g4vBGocxz7Gzju3twv'\n",
    "# service = stac.STAC('https://brazildatacube.dpi.inpe.br/stac/', access_token=access_token)\n",
    "# collection_ = service.collection('LC8_SR-1')\n",
    "\n",
    "# items = collection_.get_items(\n",
    "#                     filter={\n",
    "#                             'bbox':'-45.9586,-13.1517,-45.6235,-12.8707', \n",
    "#                             'datetime': f'2020-07-01/2021-09-01',\n",
    "#                             'limit':5000\n",
    "#                         }\n",
    "#             )\n",
    "\n",
    "# # for item in items:\n",
    "# #     item.download('/home/bruno/Documentos/ESA living planet/TOA')"
   ]
  },
  {
   "cell_type": "code",
   "execution_count": 18,
   "id": "00ba5bdc",
   "metadata": {},
   "outputs": [],
   "source": [
    "# for item in items:\n",
    "#     pass"
   ]
  },
  {
   "cell_type": "code",
   "execution_count": 19,
   "id": "b326f0e5",
   "metadata": {},
   "outputs": [],
   "source": [
    "# item"
   ]
  },
  {
   "cell_type": "code",
   "execution_count": 20,
   "id": "841c0024",
   "metadata": {},
   "outputs": [],
   "source": [
    "# item['assets']['asset']['href'].split('/')[-1].split('?')[0]"
   ]
  },
  {
   "cell_type": "code",
   "execution_count": 21,
   "id": "f0a37660",
   "metadata": {},
   "outputs": [],
   "source": [
    "# for item in items:\n",
    "#     print(item['properties']['bdc:tiles'][0])\n",
    "#     break"
   ]
  },
  {
   "cell_type": "code",
   "execution_count": 22,
   "id": "ffb47d29",
   "metadata": {},
   "outputs": [],
   "source": [
    "# assets = item.assets\n",
    "# asset = assets['sr_ndvi']"
   ]
  },
  {
   "cell_type": "code",
   "execution_count": 23,
   "id": "f0bfb469",
   "metadata": {},
   "outputs": [],
   "source": [
    "# asset.download('/home/bruno/Área de Trabalho/tests_library/BDC_Landsat')"
   ]
  },
  {
   "cell_type": "code",
   "execution_count": 24,
   "id": "8ddd0deb",
   "metadata": {},
   "outputs": [],
   "source": [
    "# assets.items()"
   ]
  },
  {
   "cell_type": "code",
   "execution_count": 25,
   "id": "8f00edc0",
   "metadata": {},
   "outputs": [],
   "source": [
    "# import os\n",
    "# path = '/home/bruno/Documentos/GitHub/tsmapping/aux'\n",
    "# os.path.exists('/home/bruno/Documentos/GitHub/tsmapping/aux/landsat_grid.shp')"
   ]
  }
 ],
 "metadata": {
  "kernelspec": {
   "display_name": "Python 3",
   "language": "python",
   "name": "python3"
  },
  "language_info": {
   "codemirror_mode": {
    "name": "ipython",
    "version": 3
   },
   "file_extension": ".py",
   "mimetype": "text/x-python",
   "name": "python",
   "nbconvert_exporter": "python",
   "pygments_lexer": "ipython3",
   "version": "3.7.10"
  }
 },
 "nbformat": 4,
 "nbformat_minor": 5
}
