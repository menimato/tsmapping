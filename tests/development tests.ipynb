{
 "cells": [
  {
   "cell_type": "code",
   "execution_count": 1,
   "id": "0af00a4e-1707-4c9e-8186-dca3ed75f7b5",
   "metadata": {},
   "outputs": [],
   "source": [
    "import sys\n",
    "sys.path.insert(1, '../..')\n",
    "\n",
    "import tsmapping"
   ]
  },
  {
   "cell_type": "code",
   "execution_count": 2,
   "id": "fa877dcf-0bfd-4cc2-8197-aa00ccdc2436",
   "metadata": {},
   "outputs": [],
   "source": [
    "from tsmapping.cube import download_images"
   ]
  },
  {
   "cell_type": "code",
   "execution_count": 3,
   "id": "46859cf3-d1f3-42eb-bf46-16084d197bc3",
   "metadata": {},
   "outputs": [],
   "source": [
    "# tsmapping.cube.update_metadata(save_folder='/home/bruno/Documentos/Caatinga/metadata')"
   ]
  },
  {
   "cell_type": "code",
   "execution_count": 4,
   "id": "0747832c-a08e-4b5a-84f8-1e97c55735dc",
   "metadata": {},
   "outputs": [
    {
     "name": "stdout",
     "output_type": "stream",
     "text": [
      "----------------------------------------------------------\n",
      "- Download Images -\n",
      "Loading metadata...\n",
      "Downloading...\n",
      "Path:1\n",
      "----------\n"
     ]
    },
    {
     "name": "stderr",
     "output_type": "stream",
     "text": [
      "100%|██████████| 3/3 [16:34<00:00, 331.62s/it]"
     ]
    },
    {
     "name": "stdout",
     "output_type": "stream",
     "text": [
      "Download finished!\n",
      "\n",
      "----------------------------------------------------------\n",
      "- Reprojecting Bands -\n"
     ]
    },
    {
     "name": "stderr",
     "output_type": "stream",
     "text": [
      "\n",
      "100%|██████████| 72/72 [10:26<00:00,  8.70s/it]"
     ]
    },
    {
     "name": "stdout",
     "output_type": "stream",
     "text": [
      "Reprojection finished!\n",
      "\n",
      "----------------------------------------------------------\n",
      "- Mosaicing Bands -\n",
      "Band B02\n",
      "----------\n"
     ]
    },
    {
     "name": "stderr",
     "output_type": "stream",
     "text": [
      "\n",
      "100%|██████████| 12/12 [02:33<00:00, 12.80s/it]"
     ]
    },
    {
     "name": "stdout",
     "output_type": "stream",
     "text": [
      "Band B08\n",
      "----------\n"
     ]
    },
    {
     "name": "stderr",
     "output_type": "stream",
     "text": [
      "\n",
      "100%|██████████| 12/12 [02:31<00:00, 12.61s/it]\n"
     ]
    },
    {
     "name": "stdout",
     "output_type": "stream",
     "text": [
      "Mosaicing finished!\n",
      "\n",
      "----------------------------------------------------------\n",
      "- Clip with Shapefile -\n"
     ]
    },
    {
     "name": "stderr",
     "output_type": "stream",
     "text": [
      "100%|██████████| 24/24 [00:56<00:00,  2.36s/it]\n"
     ]
    },
    {
     "name": "stdout",
     "output_type": "stream",
     "text": [
      "----------------------------------------------------------\n",
      "- Creating Cubes -\n",
      "----------------------------\n",
      "Band: B02\n",
      "12 files...\n",
      "----------------------------\n",
      "Band: B08\n",
      "12 files...\n",
      "Stacks finished!\n",
      "\n",
      "----------------------------------------------------------\n",
      "Cubes finished.\n"
     ]
    }
   ],
   "source": [
    "tsmapping.cube.create_cubes(save_folder = '/home/bruno/Documentos/Caatinga/test_library',\n",
    "                            metadata_path = '/home/bruno/Documentos/Caatinga/metadata/Sentinel2-L1.csv',\n",
    "                            bands = ['B02', 'B08'],\n",
    "                            start_date = '2019-06-01',\n",
    "                            end_date = '2019-07-31',\n",
    "                            delete_auxiliary = True,\n",
    "                            tiles = {'number of paths': 1,\n",
    "                                     'paths': {'path 1': {'key tile': '24LTK', \n",
    "                                                          'tiles': ['24LTK', '24LTL', '24LUK']}}}, \n",
    "                            interval = 5,\n",
    "                            proj4 = '\"+proj=aea +lat_0=-12 +lon_0=-54 +lat_1=-2 +lat_2=-22 +x_0=5000000 +y_0=10000000 +ellps=GRS80 +units=m +no_defs +type=crs\"',\n",
    "                            clip_shapefile_path = '/home/bruno/Documentos/Caatinga/barra_da_estiva_buffer.shp')"
   ]
  },
  {
   "cell_type": "code",
   "execution_count": null,
   "id": "8aed22d1-4fd9-4de1-ac9d-7a21c664e254",
   "metadata": {},
   "outputs": [],
   "source": []
  }
 ],
 "metadata": {
  "kernelspec": {
   "display_name": "Python 3",
   "language": "python",
   "name": "python3"
  },
  "language_info": {
   "codemirror_mode": {
    "name": "ipython",
    "version": 3
   },
   "file_extension": ".py",
   "mimetype": "text/x-python",
   "name": "python",
   "nbconvert_exporter": "python",
   "pygments_lexer": "ipython3",
   "version": "3.8.11"
  }
 },
 "nbformat": 4,
 "nbformat_minor": 5
}
