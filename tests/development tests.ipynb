{
 "cells": [
  {
   "cell_type": "code",
   "execution_count": 1,
   "id": "0af00a4e-1707-4c9e-8186-dca3ed75f7b5",
   "metadata": {},
   "outputs": [
    {
     "name": "stdout",
     "output_type": "stream",
     "text": [
      "----------------------------------------------------------\n",
      "- Download Images from BDC -\n",
      "\n",
      "Path: 220 - Row:69\n",
      "-----------------\n",
      "1 / 3\n"
     ]
    },
    {
     "name": "stderr",
     "output_type": "stream",
     "text": [
      "./bands/LC08_L1TP_220069_20180704_20180717_01_T1.tar.gz: 100%|██████████| 886M/886M [01:32<00:00, 10.0MB/s]\n",
      "./bands/LC08_L1TP_220069_20180704_20180717_01_T1.png: 100%|██████████| 867k/867k [00:00<00:00, 11.4MB/s]\n"
     ]
    },
    {
     "name": "stdout",
     "output_type": "stream",
     "text": [
      "Extracting... Done!\n",
      "2 / 3\n"
     ]
    },
    {
     "name": "stderr",
     "output_type": "stream",
     "text": [
      "./bands/LC08_L1TP_220069_20180618_20180703_01_T1.tar.gz: 100%|██████████| 883M/883M [01:41<00:00, 9.10MB/s]\n",
      "./bands/LC08_L1TP_220069_20180618_20180703_01_T1.png: 100%|██████████| 867k/867k [00:00<00:00, 2.46MB/s]\n"
     ]
    },
    {
     "name": "stdout",
     "output_type": "stream",
     "text": [
      "Extracting... Done!\n",
      "3 / 3\n"
     ]
    },
    {
     "name": "stderr",
     "output_type": "stream",
     "text": [
      "./bands/LC08_L1TP_220069_20180602_20180615_01_T1.tar.gz: 100%|██████████| 882M/882M [02:16<00:00, 6.79MB/s]\n",
      "./bands/LC08_L1TP_220069_20180602_20180615_01_T1.png: 100%|██████████| 865k/865k [00:00<00:00, 8.17MB/s]\n"
     ]
    },
    {
     "name": "stdout",
     "output_type": "stream",
     "text": [
      "Extracting... Done!\n",
      "----------------------------------------------------------\n",
      "B2\n",
      "- Reprojecting Bands -\n"
     ]
    },
    {
     "name": "stderr",
     "output_type": "stream",
     "text": [
      "100%|██████████| 3/3 [00:04<00:00,  1.37s/it]"
     ]
    },
    {
     "name": "stdout",
     "output_type": "stream",
     "text": [
      "Reprojection finished!\n",
      "\n",
      "B3\n",
      "- Reprojecting Bands -\n"
     ]
    },
    {
     "name": "stderr",
     "output_type": "stream",
     "text": [
      "\n",
      "100%|██████████| 3/3 [00:04<00:00,  1.42s/it]"
     ]
    },
    {
     "name": "stdout",
     "output_type": "stream",
     "text": [
      "Reprojection finished!\n",
      "\n",
      "B4\n",
      "- Reprojecting Bands -\n"
     ]
    },
    {
     "name": "stderr",
     "output_type": "stream",
     "text": [
      "\n",
      "100%|██████████| 3/3 [00:04<00:00,  1.34s/it]"
     ]
    },
    {
     "name": "stdout",
     "output_type": "stream",
     "text": [
      "Reprojection finished!\n",
      "\n",
      "B5\n",
      "- Reprojecting Bands -\n"
     ]
    },
    {
     "name": "stderr",
     "output_type": "stream",
     "text": [
      "\n",
      "100%|██████████| 3/3 [00:03<00:00,  1.16s/it]"
     ]
    },
    {
     "name": "stdout",
     "output_type": "stream",
     "text": [
      "Reprojection finished!\n",
      "\n",
      "----------------------------------------------------------\n",
      "- Mosaicing Bands -\n",
      "Band B2\n",
      "----------\n"
     ]
    },
    {
     "name": "stderr",
     "output_type": "stream",
     "text": [
      "\n",
      "100%|██████████| 2/2 [00:02<00:00,  1.31s/it]"
     ]
    },
    {
     "name": "stdout",
     "output_type": "stream",
     "text": [
      "Band B3\n",
      "----------\n"
     ]
    },
    {
     "name": "stderr",
     "output_type": "stream",
     "text": [
      "\n",
      "100%|██████████| 2/2 [00:02<00:00,  1.31s/it]"
     ]
    },
    {
     "name": "stdout",
     "output_type": "stream",
     "text": [
      "Band B4\n",
      "----------\n"
     ]
    },
    {
     "name": "stderr",
     "output_type": "stream",
     "text": [
      "\n",
      "100%|██████████| 2/2 [00:02<00:00,  1.25s/it]"
     ]
    },
    {
     "name": "stdout",
     "output_type": "stream",
     "text": [
      "Band B5\n",
      "----------\n"
     ]
    },
    {
     "name": "stderr",
     "output_type": "stream",
     "text": [
      "\n",
      "100%|██████████| 2/2 [00:02<00:00,  1.22s/it]"
     ]
    },
    {
     "name": "stdout",
     "output_type": "stream",
     "text": [
      "Mosaicing finished!\n",
      "\n",
      "----------------------------------------------------------\n",
      "- Clip with Shapefile -\n"
     ]
    },
    {
     "name": "stderr",
     "output_type": "stream",
     "text": [
      "\n",
      "100%|██████████| 8/8 [00:05<00:00,  1.38it/s]"
     ]
    },
    {
     "name": "stdout",
     "output_type": "stream",
     "text": [
      "Clipping finished!\n",
      "\n",
      "----------------------------------------------------------\n",
      "- Creating Cubes -\n"
     ]
    },
    {
     "name": "stderr",
     "output_type": "stream",
     "text": [
      "\n"
     ]
    },
    {
     "name": "stdout",
     "output_type": "stream",
     "text": [
      "----------------------------\n",
      "Band: B2\n",
      "2 files...\n",
      "----------------------------\n",
      "Band: B3\n",
      "2 files...\n",
      "----------------------------\n",
      "Band: B4\n",
      "2 files...\n",
      "----------------------------\n",
      "Band: B5\n",
      "2 files...\n",
      "Stacks finished!\n",
      "\n",
      "----------------------------------------------------------\n",
      "Cubes finished.\n"
     ]
    }
   ],
   "source": [
    "import sys\n",
    "sys.path.insert(1, '../..')\n",
    "\n",
    "import tsmapping\n",
    "\n",
    "from tsmapping.cube import download_images_gcloud\n",
    "\n",
    "tsmapping.cube.create_cubes_BDC(save_folder='/home/bruno/Área de Trabalho/tests_library/BDC_Landsat', \n",
    "                                bands=['B2', 'B3', 'B4', 'B5'],\n",
    "                                access_token='nZ97OpESX5DTWuFhkh3aZ3o4g4vBGocxz7Gzju3twv', \n",
    "                                start_date='2018-06-01',\n",
    "                                end_date='2018-07-15',\n",
    "                                delete_auxiliary=False, \n",
    "                                collection='LC8_DN-1', \n",
    "                                grid_images=[[220,69]],\n",
    "                                clip_shapefile_path='/home/bruno/Documentos/ESA living planet/extent_both.shp')"
   ]
  },
  {
   "cell_type": "code",
   "execution_count": 2,
   "id": "32cf6940",
   "metadata": {},
   "outputs": [
    {
     "data": {
      "text/plain": [
       "'20180618_20180703_01_T1.tar.gz'"
      ]
     },
     "execution_count": 2,
     "metadata": {},
     "output_type": "execute_result"
    }
   ],
   "source": [
    "a = 'LC08_L1TP_220069_20180618_20180703_01_T1.tar.gz'\n",
    "a[17:]"
   ]
  },
  {
   "cell_type": "code",
   "execution_count": 3,
   "id": "91dc11a1-9735-4c39-9ed5-883a59d26e7d",
   "metadata": {},
   "outputs": [],
   "source": [
    "# import sys\n",
    "# sys.path.insert(1, '../..')\n",
    "\n",
    "# import tsmapping\n",
    "\n",
    "# from tsmapping.cube import download_images_gcloud\n",
    "\n",
    "# tsmapping.cube.download_images_BDC(access_token='nZ97OpESX5DTWuFhkh3aZ3o4g4vBGocxz7Gzju3twv',\n",
    "#                                    start_date='2018-06-01',\n",
    "#                                    save_folder='/home/bruno/Área de Trabalho/tests_library/BDC_Landsat',\n",
    "#                                    end_date='2018-06-17',\n",
    "#                                    grid_images=[[220,69]],\n",
    "#                                    collection='LC8_DN-1',\n",
    "#                                    bands=['B08'])"
   ]
  },
  {
   "cell_type": "code",
   "execution_count": 4,
   "id": "0d939182",
   "metadata": {},
   "outputs": [],
   "source": [
    "# from tsmapping.cube import download_images_gcloud"
   ]
  },
  {
   "cell_type": "code",
   "execution_count": 5,
   "id": "96b36a45-fa32-4dab-a729-0d76ce4d457f",
   "metadata": {},
   "outputs": [],
   "source": [
    "# import sys\n",
    "# sys.path.insert(1, '../..')\n",
    "\n",
    "# import tsmapping\n",
    "\n",
    "# from tsmapping.cube import download_images_BDC\n",
    "\n",
    "# tsmapping.cube.create_cubes_BDC(save_folder = '/home/bruno/Documentos/Caatinga/cubes_sentinel',\n",
    "#                                 bands = ['B08'], # 'sr_band3', 'sr_band4', 'sr_band5', 'sr_band6', 'sr_band7'],\n",
    "#                                 access_token = 'nZ97OpESX5DTWuFhkh3aZ3o4g4vBGocxz7Gzju3twv',\n",
    "#                                 start_date = '2019-06-01',\n",
    "#                                 end_date = '2019-06-05',\n",
    "#                                 collection = 'S2_L2A-1',\n",
    "#                                 delete_auxiliary = False,\n",
    "#                                 grid_images = ['23LLG', '23LMG'],# , '23LLF', '23LMF', '23LLE', '23LME'],\n",
    "#                                 clip_shapefile_path = '/home/bruno/Documentos/ESA living planet/extent.shp')"
   ]
  },
  {
   "cell_type": "code",
   "execution_count": 6,
   "id": "46859cf3-d1f3-42eb-bf46-16084d197bc3",
   "metadata": {},
   "outputs": [],
   "source": [
    "# import numpy as np\n",
    "# import rasterio\n",
    "# from rasterio.warp import calculate_default_transform, reproject, Resampling\n",
    "\n",
    "# dst_crs = 'EPSG:4326'\n",
    "\n",
    "# with rasterio.open('/home/bruno/Documentos/Caatinga/cubes_sentinel/bands/T23LLG_20190604T132241_B08_10m.tif') as src:\n",
    "#     transform, width, height = calculate_default_transform(\n",
    "#         src.crs, dst_crs, src.width, src.height, *src.bounds)\n",
    "#     kwargs = src.meta.copy()\n",
    "#     kwargs.update({\n",
    "#         'crs': dst_crs,\n",
    "#         'transform': transform,\n",
    "#         'width': width,\n",
    "#         'height': height\n",
    "#     })\n",
    "\n",
    "#     with rasterio.open('/home/bruno/Documentos/Caatinga/cubes_sentinel/bands/test.tif', 'w', **kwargs) as dst:\n",
    "#         for i in range(1, src.count + 1):\n",
    "#             reproject(\n",
    "#                 source=rasterio.band(src, i),\n",
    "#                 destination=rasterio.band(dst, i),\n",
    "#                 src_transform=src.transform,\n",
    "#                 src_crs=src.crs,\n",
    "#                 dst_transform=transform,\n",
    "#                 dst_crs=dst_crs,\n",
    "#                 resampling=Resampling.nearest)"
   ]
  },
  {
   "cell_type": "code",
   "execution_count": 7,
   "id": "4b651c7b",
   "metadata": {},
   "outputs": [],
   "source": [
    "# import sys\n",
    "# sys.path.insert(1, '../..')\n",
    "\n",
    "# import tsmapping\n",
    "\n",
    "# from tsmapping.cube import download_images_BDC\n",
    "\n",
    "# download_images_BDC(save_folder = '/home/bruno/Documentos/Caatinga/cubes_sentinel/Barra da Estiva', \n",
    "#                     bands = ['B02'], \n",
    "#                     access_token = 'nZ97OpESX5DTWuFhkh3aZ3o4g4vBGocxz7Gzju3twv', \n",
    "#                     start_date = '2019-06-01', \n",
    "#                     end_date = '2019-06-06', \n",
    "#                     wkt=None, \n",
    "#                     grid_images=['23LLG'], # '23LMG', '23LLF', '23LMF', '23LLE', '23LME'], \n",
    "#                     collection='S2_L2A-1')"
   ]
  },
  {
   "cell_type": "code",
   "execution_count": 8,
   "id": "55155979",
   "metadata": {},
   "outputs": [],
   "source": [
    "# a = 'T23LNF_20170221T131241_B06_20m.tif'\n",
    "# a[7:15]"
   ]
  },
  {
   "cell_type": "code",
   "execution_count": 9,
   "id": "0747832c-a08e-4b5a-84f8-1e97c55735dc",
   "metadata": {},
   "outputs": [],
   "source": [
    "# import sys\n",
    "# sys.path.insert(1, '../..')\n",
    "\n",
    "# import tsmapping\n",
    "\n",
    "# from tsmapping.cube import create_cubes_gcloudSentinel\n",
    "\n",
    "# create_cubes_gcloudSentinel(save_folder = '/home/bruno/Documentos/Caatinga/cubes_sentinel/Barra da Estiva',\n",
    "#                             metadata_path = '/home/bruno/Documentos/Caatinga/metadata/Sentinel2-L1.csv',\n",
    "#                             bands = ['B02'], # , 'B03', 'B04', 'B08'],\n",
    "#                             start_date = '2019-06-01',\n",
    "#                             end_date = '2019-06-10',\n",
    "#                             delete_auxiliary = False,\n",
    "#                             tiles = {'number of paths': 1,\n",
    "#                                      'paths': {'path 1': {'key tile': '24LTK',\n",
    "#                                                           'tiles': ['24LTK', '24LTL', '24LUK']}}},\n",
    "#                             interval = 5,\n",
    "#                             proj4 = '\"+proj=aea +lat_0=-12 +lon_0=-54 +lat_1=-2 +lat_2=-22 +x_0=5000000 +y_0=10000000 +ellps=GRS80 +units=m +no_defs +type=crs\"',\n",
    "#                             clip_shapefile_path = '/home/bruno/Documentos/Caatinga/barra_da_estiva_buffer.shp')"
   ]
  },
  {
   "cell_type": "code",
   "execution_count": 10,
   "id": "25b04c8c",
   "metadata": {},
   "outputs": [],
   "source": [
    "# import stac\n",
    "\n",
    "# access_token = 'nZ97OpESX5DTWuFhkh3aZ3o4g4vBGocxz7Gzju3twv'\n",
    "# service = stac.STAC('https://brazildatacube.dpi.inpe.br/stac/', access_token=access_token)\n",
    "# collection_ = service.collection('LC8_SR-1')\n",
    "\n",
    "# items = collection_.get_items(\n",
    "#                     filter={\n",
    "#                             'bbox':'-45.9586,-13.1517,-45.6235,-12.8707', \n",
    "#                             'datetime': f'2020-07-01/2021-09-01',\n",
    "#                             'limit':5000\n",
    "#                         }\n",
    "#             )\n",
    "\n",
    "# for item in items:\n",
    "#     item.download('/home/bruno/Documentos/ESA living planet/SR')"
   ]
  },
  {
   "cell_type": "code",
   "execution_count": 11,
   "id": "7477fce6",
   "metadata": {},
   "outputs": [],
   "source": [
    "# import stac\n",
    "\n",
    "# access_token = 'nZ97OpESX5DTWuFhkh3aZ3o4g4vBGocxz7Gzju3twv'\n",
    "# service = stac.STAC('https://brazildatacube.dpi.inpe.br/stac/', access_token=access_token)\n",
    "# collection_ = service.collection('LC8_DN-1')\n",
    "\n",
    "# items = collection_.get_items(\n",
    "#                     filter={\n",
    "#                             'bbox':'-45.9586,-13.1517,-45.6235,-12.8707', \n",
    "#                             'datetime': f'2020-07-01/2021-09-01',\n",
    "#                             'limit':5000\n",
    "#                         }\n",
    "#             )\n",
    "\n",
    "# # for item in items:\n",
    "# #     item.download('/home/bruno/Documentos/ESA living planet/TOA')"
   ]
  },
  {
   "cell_type": "code",
   "execution_count": 12,
   "id": "00ba5bdc",
   "metadata": {},
   "outputs": [],
   "source": [
    "# for item in items:\n",
    "#     pass"
   ]
  },
  {
   "cell_type": "code",
   "execution_count": 13,
   "id": "b326f0e5",
   "metadata": {},
   "outputs": [],
   "source": [
    "# item"
   ]
  },
  {
   "cell_type": "code",
   "execution_count": 14,
   "id": "841c0024",
   "metadata": {},
   "outputs": [],
   "source": [
    "# item['assets']['asset']['href'].split('/')[-1].split('?')[0]"
   ]
  },
  {
   "cell_type": "code",
   "execution_count": 15,
   "id": "f0a37660",
   "metadata": {},
   "outputs": [],
   "source": [
    "# for item in items:\n",
    "#     print(item['properties']['bdc:tiles'][0])\n",
    "#     break"
   ]
  },
  {
   "cell_type": "code",
   "execution_count": 16,
   "id": "ffb47d29",
   "metadata": {},
   "outputs": [],
   "source": [
    "# assets = item.assets\n",
    "# asset = assets['sr_ndvi']"
   ]
  },
  {
   "cell_type": "code",
   "execution_count": 17,
   "id": "f0bfb469",
   "metadata": {},
   "outputs": [],
   "source": [
    "# asset.download('/home/bruno/Área de Trabalho/tests_library/BDC_Landsat')"
   ]
  },
  {
   "cell_type": "code",
   "execution_count": 18,
   "id": "8ddd0deb",
   "metadata": {},
   "outputs": [],
   "source": [
    "# assets.items()"
   ]
  },
  {
   "cell_type": "code",
   "execution_count": 19,
   "id": "8f00edc0",
   "metadata": {},
   "outputs": [],
   "source": [
    "# import os\n",
    "# path = '/home/bruno/Documentos/GitHub/tsmapping/aux'\n",
    "# os.path.exists('/home/bruno/Documentos/GitHub/tsmapping/aux/landsat_grid.shp')"
   ]
  }
 ],
 "metadata": {
  "kernelspec": {
   "display_name": "Python 3",
   "language": "python",
   "name": "python3"
  },
  "language_info": {
   "codemirror_mode": {
    "name": "ipython",
    "version": 3
   },
   "file_extension": ".py",
   "mimetype": "text/x-python",
   "name": "python",
   "nbconvert_exporter": "python",
   "pygments_lexer": "ipython3",
   "version": "3.7.10"
  }
 },
 "nbformat": 4,
 "nbformat_minor": 5
}
