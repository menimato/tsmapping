{
 "cells": [
  {
   "cell_type": "code",
   "execution_count": 1,
   "id": "91dc11a1-9735-4c39-9ed5-883a59d26e7d",
   "metadata": {},
   "outputs": [
    {
     "name": "stdout",
     "output_type": "stream",
     "text": [
      "- Download Images from BDC -\n"
     ]
    },
    {
     "ename": "HTTPError",
     "evalue": "405 Client Error: METHOD NOT ALLOWED for url: https://brazildatacube.dpi.inpe.br/stac/collections/S2_L2A-1/items?access_token=nZ97OpESX5DTWuFhkh3aZ3o4g4vBGocxz7Gzju3twv",
     "output_type": "error",
     "traceback": [
      "\u001b[0;31m---------------------------------------------------------------------------\u001b[0m",
      "\u001b[0;31mHTTPError\u001b[0m                                 Traceback (most recent call last)",
      "\u001b[0;32m<ipython-input-1-bfbaed509b31>\u001b[0m in \u001b[0;36m<module>\u001b[0;34m\u001b[0m\n\u001b[1;32m     13\u001b[0m                                    \u001b[0mwkt\u001b[0m \u001b[0;34m=\u001b[0m \u001b[0;34m'POLYGON((-39.48373013372596 -7.041550186408128,-39.20357876653846 -7.041550186408128,-39.20083218450721 -8.37246548856633,-40.83504849310096 -8.380617333542247,-40.82680874700721 -8.116955370771723,-39.52767544622596 -8.114236295023925,-39.48373013372596 -7.041550186408128))'\u001b[0m\u001b[0;34m,\u001b[0m\u001b[0;34m\u001b[0m\u001b[0;34m\u001b[0m\u001b[0m\n\u001b[1;32m     14\u001b[0m                                    \u001b[0mcollection\u001b[0m\u001b[0;34m=\u001b[0m\u001b[0;34m'S2_L2A-1'\u001b[0m\u001b[0;34m,\u001b[0m\u001b[0;34m\u001b[0m\u001b[0;34m\u001b[0m\u001b[0m\n\u001b[0;32m---> 15\u001b[0;31m                                    bands=['B08'])\n\u001b[0m",
      "\u001b[0;32m~/Documentos/GitHub/tsmapping/cube.py\u001b[0m in \u001b[0;36mdownload_images_BDC\u001b[0;34m(save_folder, bands, access_token, start_date, end_date, wkt, grid_images, collection)\u001b[0m\n\u001b[1;32m    365\u001b[0m             \u001b[0mgeom\u001b[0m \u001b[0;34m=\u001b[0m \u001b[0mwkt_\u001b[0m\u001b[0;34m.\u001b[0m\u001b[0mloads\u001b[0m\u001b[0;34m(\u001b[0m\u001b[0mwkt\u001b[0m\u001b[0;34m)\u001b[0m\u001b[0;34m\u001b[0m\u001b[0;34m\u001b[0m\u001b[0m\n\u001b[1;32m    366\u001b[0m             items = collection_.get_items(\n\u001b[0;32m--> 367\u001b[0;31m                 \u001b[0mfilter\u001b[0m \u001b[0;34m=\u001b[0m \u001b[0mdict\u001b[0m\u001b[0;34m(\u001b[0m\u001b[0mintersects\u001b[0m\u001b[0;34m=\u001b[0m\u001b[0mshapely\u001b[0m\u001b[0;34m.\u001b[0m\u001b[0mgeometry\u001b[0m\u001b[0;34m.\u001b[0m\u001b[0mmapping\u001b[0m\u001b[0;34m(\u001b[0m\u001b[0mgeom\u001b[0m\u001b[0;34m)\u001b[0m\u001b[0;34m)\u001b[0m\u001b[0;34m\u001b[0m\u001b[0;34m\u001b[0m\u001b[0m\n\u001b[0m\u001b[1;32m    368\u001b[0m                     \u001b[0;31m# filter={\u001b[0m\u001b[0;34m\u001b[0m\u001b[0;34m\u001b[0m\u001b[0;34m\u001b[0m\u001b[0m\n\u001b[1;32m    369\u001b[0m                     \u001b[0;31m#         'wkt':wkt,\u001b[0m\u001b[0;34m\u001b[0m\u001b[0;34m\u001b[0m\u001b[0;34m\u001b[0m\u001b[0m\n",
      "\u001b[0;32m~/anaconda3/envs/rsgis/lib/python3.7/site-packages/stac/collection.py\u001b[0m in \u001b[0;36mget_items\u001b[0;34m(self, item_id, filter)\u001b[0m\n\u001b[1;32m    171\u001b[0m                     \u001b[0mdata\u001b[0m \u001b[0;34m=\u001b[0m \u001b[0mUtils\u001b[0m\u001b[0;34m.\u001b[0m\u001b[0m_get\u001b[0m\u001b[0;34m(\u001b[0m\u001b[0;34mf'{link[\"href\"]}/{item_id}'\u001b[0m\u001b[0;34m)\u001b[0m\u001b[0;34m\u001b[0m\u001b[0;34m\u001b[0m\u001b[0m\n\u001b[1;32m    172\u001b[0m                     \u001b[0;32mreturn\u001b[0m \u001b[0mItem\u001b[0m\u001b[0;34m(\u001b[0m\u001b[0mdata\u001b[0m\u001b[0;34m,\u001b[0m \u001b[0mself\u001b[0m\u001b[0;34m.\u001b[0m\u001b[0m_validate\u001b[0m\u001b[0;34m)\u001b[0m\u001b[0;34m\u001b[0m\u001b[0;34m\u001b[0m\u001b[0m\n\u001b[0;32m--> 173\u001b[0;31m                 \u001b[0mdata\u001b[0m \u001b[0;34m=\u001b[0m \u001b[0mUtils\u001b[0m\u001b[0;34m.\u001b[0m\u001b[0m_get\u001b[0m\u001b[0;34m(\u001b[0m\u001b[0;34mf'{link[\"href\"]}'\u001b[0m\u001b[0;34m,\u001b[0m \u001b[0mparams\u001b[0m\u001b[0;34m=\u001b[0m\u001b[0mfilter\u001b[0m\u001b[0;34m)\u001b[0m\u001b[0;34m\u001b[0m\u001b[0;34m\u001b[0m\u001b[0m\n\u001b[0m\u001b[1;32m    174\u001b[0m                 \u001b[0;32mreturn\u001b[0m \u001b[0mItemCollection\u001b[0m\u001b[0;34m(\u001b[0m\u001b[0mdata\u001b[0m\u001b[0;34m)\u001b[0m\u001b[0;34m\u001b[0m\u001b[0;34m\u001b[0m\u001b[0m\n\u001b[1;32m    175\u001b[0m         \u001b[0;32mreturn\u001b[0m \u001b[0mItemCollection\u001b[0m\u001b[0;34m(\u001b[0m\u001b[0;34m{\u001b[0m\u001b[0;34m}\u001b[0m\u001b[0;34m)\u001b[0m\u001b[0;34m\u001b[0m\u001b[0;34m\u001b[0m\u001b[0m\n",
      "\u001b[0;32m~/anaconda3/envs/rsgis/lib/python3.7/site-packages/stac/utils.py\u001b[0m in \u001b[0;36m_get\u001b[0;34m(url, params)\u001b[0m\n\u001b[1;32m     56\u001b[0m             \u001b[0mresponse\u001b[0m \u001b[0;34m=\u001b[0m \u001b[0mrequests\u001b[0m\u001b[0;34m.\u001b[0m\u001b[0mget\u001b[0m\u001b[0;34m(\u001b[0m\u001b[0murl\u001b[0m\u001b[0;34m)\u001b[0m\u001b[0;34m\u001b[0m\u001b[0;34m\u001b[0m\u001b[0m\n\u001b[1;32m     57\u001b[0m \u001b[0;34m\u001b[0m\u001b[0m\n\u001b[0;32m---> 58\u001b[0;31m         \u001b[0mresponse\u001b[0m\u001b[0;34m.\u001b[0m\u001b[0mraise_for_status\u001b[0m\u001b[0;34m(\u001b[0m\u001b[0;34m)\u001b[0m\u001b[0;34m\u001b[0m\u001b[0;34m\u001b[0m\u001b[0m\n\u001b[0m\u001b[1;32m     59\u001b[0m \u001b[0;34m\u001b[0m\u001b[0m\n\u001b[1;32m     60\u001b[0m         \u001b[0mcontent_type\u001b[0m \u001b[0;34m=\u001b[0m \u001b[0mresponse\u001b[0m\u001b[0;34m.\u001b[0m\u001b[0mheaders\u001b[0m\u001b[0;34m.\u001b[0m\u001b[0mget\u001b[0m\u001b[0;34m(\u001b[0m\u001b[0;34m'content-type'\u001b[0m\u001b[0;34m)\u001b[0m\u001b[0;34m\u001b[0m\u001b[0;34m\u001b[0m\u001b[0m\n",
      "\u001b[0;32m~/anaconda3/envs/rsgis/lib/python3.7/site-packages/requests/models.py\u001b[0m in \u001b[0;36mraise_for_status\u001b[0;34m(self)\u001b[0m\n\u001b[1;32m    941\u001b[0m \u001b[0;34m\u001b[0m\u001b[0m\n\u001b[1;32m    942\u001b[0m         \u001b[0;32mif\u001b[0m \u001b[0mhttp_error_msg\u001b[0m\u001b[0;34m:\u001b[0m\u001b[0;34m\u001b[0m\u001b[0;34m\u001b[0m\u001b[0m\n\u001b[0;32m--> 943\u001b[0;31m             \u001b[0;32mraise\u001b[0m \u001b[0mHTTPError\u001b[0m\u001b[0;34m(\u001b[0m\u001b[0mhttp_error_msg\u001b[0m\u001b[0;34m,\u001b[0m \u001b[0mresponse\u001b[0m\u001b[0;34m=\u001b[0m\u001b[0mself\u001b[0m\u001b[0;34m)\u001b[0m\u001b[0;34m\u001b[0m\u001b[0;34m\u001b[0m\u001b[0m\n\u001b[0m\u001b[1;32m    944\u001b[0m \u001b[0;34m\u001b[0m\u001b[0m\n\u001b[1;32m    945\u001b[0m     \u001b[0;32mdef\u001b[0m \u001b[0mclose\u001b[0m\u001b[0;34m(\u001b[0m\u001b[0mself\u001b[0m\u001b[0;34m)\u001b[0m\u001b[0;34m:\u001b[0m\u001b[0;34m\u001b[0m\u001b[0;34m\u001b[0m\u001b[0m\n",
      "\u001b[0;31mHTTPError\u001b[0m: 405 Client Error: METHOD NOT ALLOWED for url: https://brazildatacube.dpi.inpe.br/stac/collections/S2_L2A-1/items?access_token=nZ97OpESX5DTWuFhkh3aZ3o4g4vBGocxz7Gzju3twv"
     ]
    }
   ],
   "source": [
    "import sys\n",
    "sys.path.insert(1, '../..')\n",
    "\n",
    "import tsmapping\n",
    "\n",
    "from tsmapping.cube import download_images_gcloud\n",
    "\n",
    "tsmapping.cube.download_images_BDC(access_token='nZ97OpESX5DTWuFhkh3aZ3o4g4vBGocxz7Gzju3twv',\n",
    "                                   start_date='2018-06-01',\n",
    "                                   save_folder='/home/bruno/Área de Trabalho/tests_library/BDC_Sentinel',\n",
    "                                   end_date='2018-07-17',\n",
    "                                   # grid_images=['23LLG'],\n",
    "                                   wkt = 'POLYGON((-39.48373013372596 -7.041550186408128,-39.20357876653846 -7.041550186408128,-39.20083218450721 -8.37246548856633,-40.83504849310096 -8.380617333542247,-40.82680874700721 -8.116955370771723,-39.52767544622596 -8.114236295023925,-39.48373013372596 -7.041550186408128))',\n",
    "                                   collection='S2_L2A-1',\n",
    "                                   bands=['B08'])"
   ]
  },
  {
   "cell_type": "code",
   "execution_count": null,
   "id": "0af00a4e-1707-4c9e-8186-dca3ed75f7b5",
   "metadata": {},
   "outputs": [],
   "source": [
    "# import sys\n",
    "# sys.path.insert(1, '../..')\n",
    "\n",
    "# import tsmapping"
   ]
  },
  {
   "cell_type": "code",
   "execution_count": null,
   "id": "0d939182",
   "metadata": {},
   "outputs": [],
   "source": [
    "# from tsmapping.cube import download_images_gcloud"
   ]
  },
  {
   "cell_type": "code",
   "execution_count": null,
   "id": "515f892c",
   "metadata": {},
   "outputs": [],
   "source": []
  },
  {
   "cell_type": "code",
   "execution_count": null,
   "id": "96b36a45-fa32-4dab-a729-0d76ce4d457f",
   "metadata": {},
   "outputs": [],
   "source": [
    "# tsmapping.cube.create_cubes_BDCLandsat(save_folder = '/home/bruno/Área de Trabalho/tests_library/cubos_landsat_barra_da_estiva',\n",
    "#                                        bands = ['sr_band2', 'sr_band3', 'sr_band4', 'sr_band5', 'sr_band6', 'sr_band7'],\n",
    "#                                        access_token = 'nZ97OpESX5DTWuFhkh3aZ3o4g4vBGocxz7Gzju3twv',\n",
    "#                                        start_date = '2019-06-01',\n",
    "#                                        end_date = '2020-07-01',\n",
    "#                                        delete_auxiliary=True,\n",
    "#                                        paths_rows = [[217, 69],\n",
    "#                                                      [217, 70]],\n",
    "#                                        proj4 = '\"+proj=aea +lat_0=-12 +lon_0=-54 +lat_1=-2 +lat_2=-22 +x_0=5000000 +y_0=10000000 +ellps=GRS80 +units=m +no_defs +type=crs\"', \n",
    "#                                        clip_shapefile_path = '/home/bruno/Documentos/Caatinga/barra_da_estiva_buffer.shp')"
   ]
  },
  {
   "cell_type": "code",
   "execution_count": null,
   "id": "46859cf3-d1f3-42eb-bf46-16084d197bc3",
   "metadata": {},
   "outputs": [],
   "source": [
    "# tsmapping.cube.update_metadata(save_folder='/home/bruno/Documentos/Caatinga/metadata', metadata='Landsat')"
   ]
  },
  {
   "cell_type": "code",
   "execution_count": null,
   "id": "0747832c-a08e-4b5a-84f8-1e97c55735dc",
   "metadata": {},
   "outputs": [],
   "source": [
    "# tsmapping.cube.create_cubes(save_folder = '/home/bruno/Área de Trabalho/imagens sentinel/LEM_Bahia',\n",
    "#                             metadata_path = '/home/bruno/Documentos/Caatinga/metadata/Sentinel2-L1.csv',\n",
    "#                             bands = ['B08'],\n",
    "#                             start_date = '2017-06-01',\n",
    "#                             end_date = '2017-06-06',\n",
    "#                             delete_auxiliary = True,\n",
    "#                             grid_images = {'number of paths': 1,\n",
    "#                                      'paths': {'path 1': {'key tile': '23LMG',\n",
    "#                                                           'tiles': ['23LLG', '23LMG']}}},\n",
    "#                             interval = 5,\n",
    "#                             proj4 = '\"+proj=aea +lat_0=-12 +lon_0=-54 +lat_1=-2 +lat_2=-22 +x_0=5000000 +y_0=10000000 +ellps=GRS80 +units=m +no_defs +type=crs\"',\n",
    "#                             clip_shapefile_path = '/home/bruno/Área de Trabalho/imagens sentinel/LEM_Bahia/reference_buffer.shp')"
   ]
  },
  {
   "cell_type": "code",
   "execution_count": null,
   "id": "25b04c8c",
   "metadata": {},
   "outputs": [],
   "source": [
    "# import stac\n",
    "\n",
    "# access_token = 'nZ97OpESX5DTWuFhkh3aZ3o4g4vBGocxz7Gzju3twv'\n",
    "# service = stac.STAC('https://brazildatacube.dpi.inpe.br/stac/', access_token=access_token)\n",
    "# collection_ = service.collection('LC8_SR-1')\n",
    "\n",
    "# items = collection_.get_items(\n",
    "#                     filter={\n",
    "#                             'wkt':'POLYGON((-46.18412083977507 -12.15994875478017,-46.18163174980925 -12.159487277222505,-46.18184632653044 -12.160913659812728,-46.183949178398116 -12.161542943816977,-46.18412083977507 -12.15994875478017))', \n",
    "#                             'datetime': f'2018-06-01/2018-06-02',\n",
    "#                             'limit':5000\n",
    "#                         }\n",
    "#             )\n",
    "\n",
    "# items"
   ]
  },
  {
   "cell_type": "code",
   "execution_count": null,
   "id": "f0a37660",
   "metadata": {},
   "outputs": [],
   "source": [
    "# for item in items:\n",
    "#     print(item['properties']['bdc:tiles'][0])\n",
    "#     break"
   ]
  },
  {
   "cell_type": "code",
   "execution_count": null,
   "id": "ffb47d29",
   "metadata": {},
   "outputs": [],
   "source": [
    "# assets = item.assets\n",
    "# asset = assets['sr_ndvi']"
   ]
  },
  {
   "cell_type": "code",
   "execution_count": null,
   "id": "f0bfb469",
   "metadata": {},
   "outputs": [],
   "source": [
    "# asset.download('/home/bruno/Área de Trabalho/tests_library/BDC_Landsat')"
   ]
  },
  {
   "cell_type": "code",
   "execution_count": null,
   "id": "8ddd0deb",
   "metadata": {},
   "outputs": [],
   "source": [
    "# assets.items()"
   ]
  },
  {
   "cell_type": "code",
   "execution_count": null,
   "id": "8f00edc0",
   "metadata": {},
   "outputs": [],
   "source": [
    "# import os\n",
    "# path = '/home/bruno/Documentos/GitHub/tsmapping/aux'\n",
    "# os.path.exists('/home/bruno/Documentos/GitHub/tsmapping/aux/landsat_grid.shp')"
   ]
  }
 ],
 "metadata": {
  "kernelspec": {
   "display_name": "Python 3",
   "language": "python",
   "name": "python3"
  },
  "language_info": {
   "codemirror_mode": {
    "name": "ipython",
    "version": 3
   },
   "file_extension": ".py",
   "mimetype": "text/x-python",
   "name": "python",
   "nbconvert_exporter": "python",
   "pygments_lexer": "ipython3",
   "version": "3.7.10"
  }
 },
 "nbformat": 4,
 "nbformat_minor": 5
}
