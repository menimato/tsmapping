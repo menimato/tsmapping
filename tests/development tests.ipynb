{
 "cells": [
  {
   "cell_type": "code",
   "execution_count": 1,
   "id": "91dc11a1-9735-4c39-9ed5-883a59d26e7d",
   "metadata": {},
   "outputs": [],
   "source": [
    "# import sys\n",
    "# sys.path.insert(1, '../..')\n",
    "\n",
    "# import tsmapping\n",
    "\n",
    "# from tsmapping.cube import download_images_gcloud\n",
    "\n",
    "# tsmapping.cube.download_images_BDC(access_token='nZ97OpESX5DTWuFhkh3aZ3o4g4vBGocxz7Gzju3twv',\n",
    "#                                    start_date='2018-06-01',\n",
    "#                                    save_folder='/home/bruno/Área de Trabalho/tests_library/BDC_Sentinel',\n",
    "#                                    end_date='2018-07-17',\n",
    "#                                    # grid_images=['23LLG'],\n",
    "#                                    wkt = 'POLYGON((-39.48373013372596 -7.041550186408128,-39.20357876653846 -7.041550186408128,-39.20083218450721 -8.37246548856633,-40.83504849310096 -8.380617333542247,-40.82680874700721 -8.116955370771723,-39.52767544622596 -8.114236295023925,-39.48373013372596 -7.041550186408128))',\n",
    "#                                    collection='S2_L2A-1',\n",
    "#                                    bands=['B08'])"
   ]
  },
  {
   "cell_type": "code",
   "execution_count": 2,
   "id": "0af00a4e-1707-4c9e-8186-dca3ed75f7b5",
   "metadata": {},
   "outputs": [],
   "source": [
    "# import sys\n",
    "# sys.path.insert(1, '../..')\n",
    "\n",
    "# import tsmapping"
   ]
  },
  {
   "cell_type": "code",
   "execution_count": 3,
   "id": "0d939182",
   "metadata": {},
   "outputs": [],
   "source": [
    "# from tsmapping.cube import download_images_gcloud"
   ]
  },
  {
   "cell_type": "code",
   "execution_count": 4,
   "id": "96b36a45-fa32-4dab-a729-0d76ce4d457f",
   "metadata": {},
   "outputs": [
    {
     "name": "stdout",
     "output_type": "stream",
     "text": [
      "----------------------------------------------------------\n",
      "- Download Images from BDC -\n",
      "\n",
      "Tile: 23LLG\n",
      "-----------------\n",
      "1 / 2\n",
      "2 / 2\n",
      "\n",
      "Tile: 23LMG\n",
      "-----------------\n",
      "1 / 1\n",
      "----------------------------------------------------------\n",
      "- Reprojecting Bands -\n"
     ]
    },
    {
     "name": "stderr",
     "output_type": "stream",
     "text": [
      "100%|██████████| 2/2 [00:07<00:00,  3.71s/it]"
     ]
    },
    {
     "name": "stdout",
     "output_type": "stream",
     "text": [
      "Reprojection finished!\n",
      "\n",
      "----------------------------------------------------------\n",
      "- Mosaicing Bands -\n",
      "Band B08\n",
      "----------\n"
     ]
    },
    {
     "name": "stderr",
     "output_type": "stream",
     "text": [
      "\n",
      "100%|██████████| 1/1 [00:03<00:00,  3.81s/it]"
     ]
    },
    {
     "name": "stdout",
     "output_type": "stream",
     "text": [
      "Mosaicing finished!\n",
      "\n",
      "----------------------------------------------------------\n",
      "- Clip with Shapefile -\n"
     ]
    },
    {
     "name": "stderr",
     "output_type": "stream",
     "text": [
      "\n",
      "100%|██████████| 1/1 [00:00<00:00, 18.20it/s]"
     ]
    },
    {
     "name": "stdout",
     "output_type": "stream",
     "text": [
      "Clipping finished!\n",
      "\n",
      "----------------------------------------------------------\n",
      "- Creating Cubes -\n"
     ]
    },
    {
     "name": "stderr",
     "output_type": "stream",
     "text": [
      "\n"
     ]
    },
    {
     "name": "stdout",
     "output_type": "stream",
     "text": [
      "----------------------------\n",
      "Band: B08\n",
      "1 files...\n",
      "Stacks finished!\n",
      "\n",
      "----------------------------------------------------------\n",
      "Cubes finished.\n"
     ]
    }
   ],
   "source": [
    "import sys\n",
    "sys.path.insert(1, '../..')\n",
    "\n",
    "import tsmapping\n",
    "\n",
    "from tsmapping.cube import download_images_BDC\n",
    "\n",
    "tsmapping.cube.create_cubes_BDC(save_folder = '/home/bruno/Documentos/Caatinga/cubes_sentinel',\n",
    "                                bands = ['B08'], # 'sr_band3', 'sr_band4', 'sr_band5', 'sr_band6', 'sr_band7'],\n",
    "                                access_token = 'nZ97OpESX5DTWuFhkh3aZ3o4g4vBGocxz7Gzju3twv',\n",
    "                                start_date = '2019-06-01',\n",
    "                                end_date = '2019-06-05',\n",
    "                                collection = 'S2_L2A-1',\n",
    "                                delete_auxiliary = False,\n",
    "                                grid_images = ['23LLG', '23LMG'],# , '23LLF', '23LMF', '23LLE', '23LME'],\n",
    "                                clip_shapefile_path = '/home/bruno/Documentos/ESA living planet/extent.shp')"
   ]
  },
  {
   "cell_type": "code",
   "execution_count": 5,
   "id": "46859cf3-d1f3-42eb-bf46-16084d197bc3",
   "metadata": {},
   "outputs": [
    {
     "data": {
      "text/plain": [
       "'kndfkndfkgbfdg'"
      ]
     },
     "execution_count": 5,
     "metadata": {},
     "output_type": "execute_result"
    }
   ],
   "source": [
    "'kndfkndfkgbfdg.jp2'[:-4]"
   ]
  },
  {
   "cell_type": "code",
   "execution_count": 6,
   "id": "4b651c7b",
   "metadata": {},
   "outputs": [],
   "source": [
    "# import sys\n",
    "# sys.path.insert(1, '../..')\n",
    "\n",
    "# import tsmapping\n",
    "\n",
    "# from tsmapping.cube import download_images_BDC\n",
    "\n",
    "# download_images_BDC(save_folder = '/home/bruno/Documentos/Caatinga/cubes_sentinel/Barra da Estiva', \n",
    "#                     bands = ['B02'], \n",
    "#                     access_token = 'nZ97OpESX5DTWuFhkh3aZ3o4g4vBGocxz7Gzju3twv', \n",
    "#                     start_date = '2019-06-01', \n",
    "#                     end_date = '2019-06-06', \n",
    "#                     wkt=None, \n",
    "#                     grid_images=['23LLG'], # '23LMG', '23LLF', '23LMF', '23LLE', '23LME'], \n",
    "#                     collection='S2_L2A-1')"
   ]
  },
  {
   "cell_type": "code",
   "execution_count": 7,
   "id": "55155979",
   "metadata": {},
   "outputs": [
    {
     "data": {
      "text/plain": [
       "'20170221'"
      ]
     },
     "execution_count": 7,
     "metadata": {},
     "output_type": "execute_result"
    }
   ],
   "source": [
    "a = 'T23LNF_20170221T131241_B06_20m.tif'\n",
    "a[7:15]"
   ]
  },
  {
   "cell_type": "code",
   "execution_count": 8,
   "id": "0747832c-a08e-4b5a-84f8-1e97c55735dc",
   "metadata": {},
   "outputs": [],
   "source": [
    "# import sys\n",
    "# sys.path.insert(1, '../..')\n",
    "\n",
    "# import tsmapping\n",
    "\n",
    "# from tsmapping.cube import create_cubes_gcloudSentinel\n",
    "\n",
    "# create_cubes_gcloudSentinel(save_folder = '/home/bruno/Documentos/Caatinga/cubes_sentinel/Barra da Estiva',\n",
    "#                             metadata_path = '/home/bruno/Documentos/Caatinga/metadata/Sentinel2-L1.csv',\n",
    "#                             bands = ['B02'], # , 'B03', 'B04', 'B08'],\n",
    "#                             start_date = '2019-06-01',\n",
    "#                             end_date = '2019-06-10',\n",
    "#                             delete_auxiliary = False,\n",
    "#                             tiles = {'number of paths': 1,\n",
    "#                                      'paths': {'path 1': {'key tile': '24LTK',\n",
    "#                                                           'tiles': ['24LTK', '24LTL', '24LUK']}}},\n",
    "#                             interval = 5,\n",
    "#                             proj4 = '\"+proj=aea +lat_0=-12 +lon_0=-54 +lat_1=-2 +lat_2=-22 +x_0=5000000 +y_0=10000000 +ellps=GRS80 +units=m +no_defs +type=crs\"',\n",
    "#                             clip_shapefile_path = '/home/bruno/Documentos/Caatinga/barra_da_estiva_buffer.shp')"
   ]
  },
  {
   "cell_type": "code",
   "execution_count": 9,
   "id": "25b04c8c",
   "metadata": {},
   "outputs": [],
   "source": [
    "# import stac\n",
    "\n",
    "# access_token = 'nZ97OpESX5DTWuFhkh3aZ3o4g4vBGocxz7Gzju3twv'\n",
    "# service = stac.STAC('https://brazildatacube.dpi.inpe.br/stac/', access_token=access_token)\n",
    "# collection_ = service.collection('LC8_SR-1')\n",
    "\n",
    "# items = collection_.get_items(\n",
    "#                     filter={\n",
    "#                             'bbox':'-45.9586,-13.1517,-45.6235,-12.8707', \n",
    "#                             'datetime': f'2020-07-01/2021-09-01',\n",
    "#                             'limit':5000\n",
    "#                         }\n",
    "#             )\n",
    "\n",
    "# for item in items:\n",
    "#     item.download('/home/bruno/Documentos/ESA living planet/SR')"
   ]
  },
  {
   "cell_type": "code",
   "execution_count": 10,
   "id": "7477fce6",
   "metadata": {},
   "outputs": [],
   "source": [
    "# access_token = 'nZ97OpESX5DTWuFhkh3aZ3o4g4vBGocxz7Gzju3twv'\n",
    "# service = stac.STAC('https://brazildatacube.dpi.inpe.br/stac/', access_token=access_token)\n",
    "# collection_ = service.collection('LC8_DN-1')\n",
    "\n",
    "# items = collection_.get_items(\n",
    "#                     filter={\n",
    "#                             'bbox':'-45.9586,-13.1517,-45.6235,-12.8707', \n",
    "#                             'datetime': f'2020-07-01/2021-09-01',\n",
    "#                             'limit':5000\n",
    "#                         }\n",
    "#             )\n",
    "\n",
    "# for item in items:\n",
    "#     item.download('/home/bruno/Documentos/ESA living planet/TOA')"
   ]
  },
  {
   "cell_type": "code",
   "execution_count": null,
   "id": "00ba5bdc",
   "metadata": {},
   "outputs": [],
   "source": []
  },
  {
   "cell_type": "code",
   "execution_count": null,
   "id": "b326f0e5",
   "metadata": {},
   "outputs": [],
   "source": []
  },
  {
   "cell_type": "code",
   "execution_count": 11,
   "id": "f0a37660",
   "metadata": {},
   "outputs": [],
   "source": [
    "# for item in items:\n",
    "#     print(item['properties']['bdc:tiles'][0])\n",
    "#     break"
   ]
  },
  {
   "cell_type": "code",
   "execution_count": 12,
   "id": "ffb47d29",
   "metadata": {},
   "outputs": [],
   "source": [
    "# assets = item.assets\n",
    "# asset = assets['sr_ndvi']"
   ]
  },
  {
   "cell_type": "code",
   "execution_count": 13,
   "id": "f0bfb469",
   "metadata": {},
   "outputs": [],
   "source": [
    "# asset.download('/home/bruno/Área de Trabalho/tests_library/BDC_Landsat')"
   ]
  },
  {
   "cell_type": "code",
   "execution_count": 14,
   "id": "8ddd0deb",
   "metadata": {},
   "outputs": [],
   "source": [
    "# assets.items()"
   ]
  },
  {
   "cell_type": "code",
   "execution_count": 15,
   "id": "8f00edc0",
   "metadata": {},
   "outputs": [],
   "source": [
    "# import os\n",
    "# path = '/home/bruno/Documentos/GitHub/tsmapping/aux'\n",
    "# os.path.exists('/home/bruno/Documentos/GitHub/tsmapping/aux/landsat_grid.shp')"
   ]
  }
 ],
 "metadata": {
  "kernelspec": {
   "display_name": "Python 3",
   "language": "python",
   "name": "python3"
  },
  "language_info": {
   "codemirror_mode": {
    "name": "ipython",
    "version": 3
   },
   "file_extension": ".py",
   "mimetype": "text/x-python",
   "name": "python",
   "nbconvert_exporter": "python",
   "pygments_lexer": "ipython3",
   "version": "3.7.10"
  }
 },
 "nbformat": 4,
 "nbformat_minor": 5
}
