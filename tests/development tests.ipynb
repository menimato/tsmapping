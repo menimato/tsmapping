{
 "cells": [
  {
   "cell_type": "code",
   "execution_count": 1,
   "id": "0af00a4e-1707-4c9e-8186-dca3ed75f7b5",
   "metadata": {},
   "outputs": [],
   "source": [
    "import sys\n",
    "sys.path.insert(1, '../..')\n",
    "\n",
    "import tsmapping"
   ]
  },
  {
   "cell_type": "code",
   "execution_count": 2,
   "id": "fa877dcf-0bfd-4cc2-8197-aa00ccdc2436",
   "metadata": {},
   "outputs": [],
   "source": [
    "from tsmapping.cube import download_images_gcloud"
   ]
  },
  {
   "cell_type": "code",
   "execution_count": 3,
   "id": "46859cf3-d1f3-42eb-bf46-16084d197bc3",
   "metadata": {},
   "outputs": [],
   "source": [
    "# tsmapping.cube.update_metadata(save_folder='/home/bruno/Documentos/Caatinga/metadata', metadata='Landsat')"
   ]
  },
  {
   "cell_type": "code",
   "execution_count": 4,
   "id": "0747832c-a08e-4b5a-84f8-1e97c55735dc",
   "metadata": {},
   "outputs": [
    {
     "name": "stdout",
     "output_type": "stream",
     "text": [
      "----------------------------------------------------------\n",
      "- Download Images -\n",
      "Loading metadata...\n",
      "Downloading...\n",
      "Path:1\n",
      "----------\n"
     ]
    },
    {
     "name": "stderr",
     "output_type": "stream",
     "text": [
      "100%|██████████| 2/2 [00:40<00:00, 20.13s/it]"
     ]
    },
    {
     "name": "stdout",
     "output_type": "stream",
     "text": [
      "Download finished!\n",
      "\n",
      "----------------------------------------------------------\n",
      "- Reprojecting Bands -\n"
     ]
    },
    {
     "name": "stderr",
     "output_type": "stream",
     "text": [
      "\n",
      "100%|██████████| 2/2 [00:15<00:00,  7.66s/it]"
     ]
    },
    {
     "name": "stdout",
     "output_type": "stream",
     "text": [
      "Reprojection finished!\n",
      "\n",
      "----------------------------------------------------------\n",
      "- Mosaicing Bands -\n",
      "Band B08\n",
      "----------\n"
     ]
    },
    {
     "name": "stderr",
     "output_type": "stream",
     "text": [
      "\n",
      "100%|██████████| 1/1 [00:07<00:00,  7.76s/it]"
     ]
    },
    {
     "name": "stdout",
     "output_type": "stream",
     "text": [
      "Mosaicing finished!\n",
      "\n",
      "----------------------------------------------------------\n",
      "- Clip with Shapefile -\n"
     ]
    },
    {
     "name": "stderr",
     "output_type": "stream",
     "text": [
      "\n",
      "100%|██████████| 1/1 [00:15<00:00, 15.19s/it]"
     ]
    },
    {
     "name": "stdout",
     "output_type": "stream",
     "text": [
      "Clipping finished!\n",
      "\n",
      "----------------------------------------------------------\n",
      "- Creating Cubes -\n"
     ]
    },
    {
     "name": "stderr",
     "output_type": "stream",
     "text": [
      "\n"
     ]
    },
    {
     "name": "stdout",
     "output_type": "stream",
     "text": [
      "----------------------------\n",
      "Band: B08\n",
      "1 files...\n",
      "Stacks finished!\n",
      "\n",
      "----------------------------------------------------------\n",
      "Cubes finished.\n"
     ]
    }
   ],
   "source": [
    "tsmapping.cube.create_cubes(save_folder = '/home/bruno/Área de Trabalho/imagens sentinel/LEM_Bahia',\n",
    "                            metadata_path = '/home/bruno/Documentos/Caatinga/metadata/Sentinel2-L1.csv',\n",
    "                            bands = ['B08'],\n",
    "                            start_date = '2017-06-01',\n",
    "                            end_date = '2017-06-06',\n",
    "                            delete_auxiliary = True,\n",
    "                            grid_images = {'number of paths': 1,\n",
    "                                     'paths': {'path 1': {'key tile': '23LMG',\n",
    "                                                          'tiles': ['23LLG', '23LMG']}}},\n",
    "                            interval = 5,\n",
    "                            proj4 = '\"+proj=aea +lat_0=-12 +lon_0=-54 +lat_1=-2 +lat_2=-22 +x_0=5000000 +y_0=10000000 +ellps=GRS80 +units=m +no_defs +type=crs\"',\n",
    "                            clip_shapefile_path = '/home/bruno/Área de Trabalho/imagens sentinel/LEM_Bahia/reference_buffer.shp')"
   ]
  }
 ],
 "metadata": {
  "kernelspec": {
   "display_name": "Python 3",
   "language": "python",
   "name": "python3"
  },
  "language_info": {
   "codemirror_mode": {
    "name": "ipython",
    "version": 3
   },
   "file_extension": ".py",
   "mimetype": "text/x-python",
   "name": "python",
   "nbconvert_exporter": "python",
   "pygments_lexer": "ipython3",
   "version": "3.7.10"
  }
 },
 "nbformat": 4,
 "nbformat_minor": 5
}
