{
 "cells": [
  {
   "cell_type": "code",
   "execution_count": 1,
   "id": "0af00a4e-1707-4c9e-8186-dca3ed75f7b5",
   "metadata": {},
   "outputs": [],
   "source": [
    "import sys\n",
    "sys.path.insert(1, '../..')\n",
    "\n",
    "import tsmapping"
   ]
  },
  {
   "cell_type": "code",
   "execution_count": 2,
   "id": "fa877dcf-0bfd-4cc2-8197-aa00ccdc2436",
   "metadata": {},
   "outputs": [],
   "source": [
    "from tsmapping.cube import download_images"
   ]
  },
  {
   "cell_type": "code",
   "execution_count": 3,
   "id": "46859cf3-d1f3-42eb-bf46-16084d197bc3",
   "metadata": {},
   "outputs": [],
   "source": [
    "# tsmapping.cube.update_metadata(save_folder='/home/bruno/Documentos/Caatinga/metadata')"
   ]
  },
  {
   "cell_type": "code",
   "execution_count": null,
   "id": "0747832c-a08e-4b5a-84f8-1e97c55735dc",
   "metadata": {},
   "outputs": [
    {
     "name": "stdout",
     "output_type": "stream",
     "text": [
      "----------------------------------------------------------\n",
      "- Download Images -\n",
      "Loading metadata...\n"
     ]
    }
   ],
   "source": [
    "tsmapping.cube.create_cubes(save_folder = '/home/bruno/Área de Trabalho/imagens sentinel/LEM_Bahia',\n",
    "                            metadata_path = '/home/bruno/Documentos/Caatinga/metadata/Sentinel2-L1.csv',\n",
    "                            bands = ['B02', 'B03', 'B04', 'B08'],\n",
    "                            start_date = '2017-06-01',\n",
    "                            end_date = '2018-07-01',\n",
    "                            delete_auxiliary = True,\n",
    "                            tiles = {'number of paths': 1,\n",
    "                                     'paths': {'path 1': {'key tile': '23LMG', \n",
    "                                                          'tiles': ['23LLG', '23LMG']}}}, \n",
    "                            interval = 5,\n",
    "                            proj4 = '\"+proj=aea +lat_0=-12 +lon_0=-54 +lat_1=-2 +lat_2=-22 +x_0=5000000 +y_0=10000000 +ellps=GRS80 +units=m +no_defs +type=crs\"',\n",
    "                            clip_shapefile_path = '/home/bruno/Área de Trabalho/imagens sentinel/LEM_Bahia/reference_buffer.shp')"
   ]
  },
  {
   "cell_type": "code",
   "execution_count": null,
   "id": "8aed22d1-4fd9-4de1-ac9d-7a21c664e254",
   "metadata": {},
   "outputs": [],
   "source": []
  }
 ],
 "metadata": {
  "kernelspec": {
   "display_name": "Python 3",
   "language": "python",
   "name": "python3"
  },
  "language_info": {
   "codemirror_mode": {
    "name": "ipython",
    "version": 3
   },
   "file_extension": ".py",
   "mimetype": "text/x-python",
   "name": "python",
   "nbconvert_exporter": "python",
   "pygments_lexer": "ipython3",
   "version": "3.7.10"
  }
 },
 "nbformat": 4,
 "nbformat_minor": 5
}
